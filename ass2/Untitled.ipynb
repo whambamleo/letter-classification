{
 "cells": [
  {
   "cell_type": "code",
   "execution_count": 94,
   "id": "34c33536",
   "metadata": {},
   "outputs": [],
   "source": [
    "import pandas as pd\n",
    "import numpy as np\n",
    "from sklearn.model_selection import train_test_split\n",
    "from pandas_profiling import ProfileReport\n",
    "from sklearn.ensemble import RandomForestClassifier\n",
    "from sklearn.datasets import make_classification\n",
    "from sklearn.metrics import r2_score\n",
    "from sklearn.metrics import accuracy_score\n",
    "from sklearn.model_selection import cross_validate\n",
    "from sklearn import tree\n",
    "from sklearn.feature_selection import RFE\n",
    "from sklearn.feature_selection import SelectKBest, chi2\n",
    "from sklearn.neighbors import KNeighborsClassifier\n",
    "from sklearn.svm import SVC\n",
    "from sklearn.metrics import confusion_matrix"
   ]
  },
  {
   "cell_type": "code",
   "execution_count": 95,
   "id": "a9710c15",
   "metadata": {},
   "outputs": [
    {
     "data": {
      "text/html": [
       "<div>\n",
       "<style scoped>\n",
       "    .dataframe tbody tr th:only-of-type {\n",
       "        vertical-align: middle;\n",
       "    }\n",
       "\n",
       "    .dataframe tbody tr th {\n",
       "        vertical-align: top;\n",
       "    }\n",
       "\n",
       "    .dataframe thead th {\n",
       "        text-align: right;\n",
       "    }\n",
       "</style>\n",
       "<table border=\"1\" class=\"dataframe\">\n",
       "  <thead>\n",
       "    <tr style=\"text-align: right;\">\n",
       "      <th></th>\n",
       "      <th>0</th>\n",
       "      <th>1</th>\n",
       "      <th>2</th>\n",
       "      <th>3</th>\n",
       "      <th>4</th>\n",
       "      <th>5</th>\n",
       "      <th>6</th>\n",
       "      <th>7</th>\n",
       "      <th>8</th>\n",
       "      <th>9</th>\n",
       "      <th>10</th>\n",
       "      <th>11</th>\n",
       "      <th>12</th>\n",
       "      <th>13</th>\n",
       "      <th>14</th>\n",
       "      <th>15</th>\n",
       "      <th>16</th>\n",
       "    </tr>\n",
       "  </thead>\n",
       "  <tbody>\n",
       "    <tr>\n",
       "      <th>0</th>\n",
       "      <td>T</td>\n",
       "      <td>2</td>\n",
       "      <td>8</td>\n",
       "      <td>3</td>\n",
       "      <td>5</td>\n",
       "      <td>1</td>\n",
       "      <td>8</td>\n",
       "      <td>13</td>\n",
       "      <td>0</td>\n",
       "      <td>6</td>\n",
       "      <td>6</td>\n",
       "      <td>10</td>\n",
       "      <td>8</td>\n",
       "      <td>0</td>\n",
       "      <td>8</td>\n",
       "      <td>0</td>\n",
       "      <td>8</td>\n",
       "    </tr>\n",
       "    <tr>\n",
       "      <th>1</th>\n",
       "      <td>I</td>\n",
       "      <td>5</td>\n",
       "      <td>12</td>\n",
       "      <td>3</td>\n",
       "      <td>7</td>\n",
       "      <td>2</td>\n",
       "      <td>10</td>\n",
       "      <td>5</td>\n",
       "      <td>5</td>\n",
       "      <td>4</td>\n",
       "      <td>13</td>\n",
       "      <td>3</td>\n",
       "      <td>9</td>\n",
       "      <td>2</td>\n",
       "      <td>8</td>\n",
       "      <td>4</td>\n",
       "      <td>10</td>\n",
       "    </tr>\n",
       "    <tr>\n",
       "      <th>2</th>\n",
       "      <td>D</td>\n",
       "      <td>4</td>\n",
       "      <td>11</td>\n",
       "      <td>6</td>\n",
       "      <td>8</td>\n",
       "      <td>6</td>\n",
       "      <td>10</td>\n",
       "      <td>6</td>\n",
       "      <td>2</td>\n",
       "      <td>6</td>\n",
       "      <td>10</td>\n",
       "      <td>3</td>\n",
       "      <td>7</td>\n",
       "      <td>3</td>\n",
       "      <td>7</td>\n",
       "      <td>3</td>\n",
       "      <td>9</td>\n",
       "    </tr>\n",
       "    <tr>\n",
       "      <th>3</th>\n",
       "      <td>N</td>\n",
       "      <td>7</td>\n",
       "      <td>11</td>\n",
       "      <td>6</td>\n",
       "      <td>6</td>\n",
       "      <td>3</td>\n",
       "      <td>5</td>\n",
       "      <td>9</td>\n",
       "      <td>4</td>\n",
       "      <td>6</td>\n",
       "      <td>4</td>\n",
       "      <td>4</td>\n",
       "      <td>10</td>\n",
       "      <td>6</td>\n",
       "      <td>10</td>\n",
       "      <td>2</td>\n",
       "      <td>8</td>\n",
       "    </tr>\n",
       "    <tr>\n",
       "      <th>4</th>\n",
       "      <td>G</td>\n",
       "      <td>2</td>\n",
       "      <td>1</td>\n",
       "      <td>3</td>\n",
       "      <td>1</td>\n",
       "      <td>1</td>\n",
       "      <td>8</td>\n",
       "      <td>6</td>\n",
       "      <td>6</td>\n",
       "      <td>6</td>\n",
       "      <td>6</td>\n",
       "      <td>5</td>\n",
       "      <td>9</td>\n",
       "      <td>1</td>\n",
       "      <td>7</td>\n",
       "      <td>5</td>\n",
       "      <td>10</td>\n",
       "    </tr>\n",
       "    <tr>\n",
       "      <th>...</th>\n",
       "      <td>...</td>\n",
       "      <td>...</td>\n",
       "      <td>...</td>\n",
       "      <td>...</td>\n",
       "      <td>...</td>\n",
       "      <td>...</td>\n",
       "      <td>...</td>\n",
       "      <td>...</td>\n",
       "      <td>...</td>\n",
       "      <td>...</td>\n",
       "      <td>...</td>\n",
       "      <td>...</td>\n",
       "      <td>...</td>\n",
       "      <td>...</td>\n",
       "      <td>...</td>\n",
       "      <td>...</td>\n",
       "      <td>...</td>\n",
       "    </tr>\n",
       "    <tr>\n",
       "      <th>19995</th>\n",
       "      <td>D</td>\n",
       "      <td>2</td>\n",
       "      <td>2</td>\n",
       "      <td>3</td>\n",
       "      <td>3</td>\n",
       "      <td>2</td>\n",
       "      <td>7</td>\n",
       "      <td>7</td>\n",
       "      <td>7</td>\n",
       "      <td>6</td>\n",
       "      <td>6</td>\n",
       "      <td>6</td>\n",
       "      <td>4</td>\n",
       "      <td>2</td>\n",
       "      <td>8</td>\n",
       "      <td>3</td>\n",
       "      <td>7</td>\n",
       "    </tr>\n",
       "    <tr>\n",
       "      <th>19996</th>\n",
       "      <td>C</td>\n",
       "      <td>7</td>\n",
       "      <td>10</td>\n",
       "      <td>8</td>\n",
       "      <td>8</td>\n",
       "      <td>4</td>\n",
       "      <td>4</td>\n",
       "      <td>8</td>\n",
       "      <td>6</td>\n",
       "      <td>9</td>\n",
       "      <td>12</td>\n",
       "      <td>9</td>\n",
       "      <td>13</td>\n",
       "      <td>2</td>\n",
       "      <td>9</td>\n",
       "      <td>3</td>\n",
       "      <td>7</td>\n",
       "    </tr>\n",
       "    <tr>\n",
       "      <th>19997</th>\n",
       "      <td>T</td>\n",
       "      <td>6</td>\n",
       "      <td>9</td>\n",
       "      <td>6</td>\n",
       "      <td>7</td>\n",
       "      <td>5</td>\n",
       "      <td>6</td>\n",
       "      <td>11</td>\n",
       "      <td>3</td>\n",
       "      <td>7</td>\n",
       "      <td>11</td>\n",
       "      <td>9</td>\n",
       "      <td>5</td>\n",
       "      <td>2</td>\n",
       "      <td>12</td>\n",
       "      <td>2</td>\n",
       "      <td>4</td>\n",
       "    </tr>\n",
       "    <tr>\n",
       "      <th>19998</th>\n",
       "      <td>S</td>\n",
       "      <td>2</td>\n",
       "      <td>3</td>\n",
       "      <td>4</td>\n",
       "      <td>2</td>\n",
       "      <td>1</td>\n",
       "      <td>8</td>\n",
       "      <td>7</td>\n",
       "      <td>2</td>\n",
       "      <td>6</td>\n",
       "      <td>10</td>\n",
       "      <td>6</td>\n",
       "      <td>8</td>\n",
       "      <td>1</td>\n",
       "      <td>9</td>\n",
       "      <td>5</td>\n",
       "      <td>8</td>\n",
       "    </tr>\n",
       "    <tr>\n",
       "      <th>19999</th>\n",
       "      <td>A</td>\n",
       "      <td>4</td>\n",
       "      <td>9</td>\n",
       "      <td>6</td>\n",
       "      <td>6</td>\n",
       "      <td>2</td>\n",
       "      <td>9</td>\n",
       "      <td>5</td>\n",
       "      <td>3</td>\n",
       "      <td>1</td>\n",
       "      <td>8</td>\n",
       "      <td>1</td>\n",
       "      <td>8</td>\n",
       "      <td>2</td>\n",
       "      <td>7</td>\n",
       "      <td>2</td>\n",
       "      <td>8</td>\n",
       "    </tr>\n",
       "  </tbody>\n",
       "</table>\n",
       "<p>20000 rows × 17 columns</p>\n",
       "</div>"
      ],
      "text/plain": [
       "      0   1   2   3   4   5   6   7   8   9   10  11  12  13  14  15  16\n",
       "0      T   2   8   3   5   1   8  13   0   6   6  10   8   0   8   0   8\n",
       "1      I   5  12   3   7   2  10   5   5   4  13   3   9   2   8   4  10\n",
       "2      D   4  11   6   8   6  10   6   2   6  10   3   7   3   7   3   9\n",
       "3      N   7  11   6   6   3   5   9   4   6   4   4  10   6  10   2   8\n",
       "4      G   2   1   3   1   1   8   6   6   6   6   5   9   1   7   5  10\n",
       "...   ..  ..  ..  ..  ..  ..  ..  ..  ..  ..  ..  ..  ..  ..  ..  ..  ..\n",
       "19995  D   2   2   3   3   2   7   7   7   6   6   6   4   2   8   3   7\n",
       "19996  C   7  10   8   8   4   4   8   6   9  12   9  13   2   9   3   7\n",
       "19997  T   6   9   6   7   5   6  11   3   7  11   9   5   2  12   2   4\n",
       "19998  S   2   3   4   2   1   8   7   2   6  10   6   8   1   9   5   8\n",
       "19999  A   4   9   6   6   2   9   5   3   1   8   1   8   2   7   2   8\n",
       "\n",
       "[20000 rows x 17 columns]"
      ]
     },
     "execution_count": 95,
     "metadata": {},
     "output_type": "execute_result"
    }
   ],
   "source": [
    "data =  pd.read_csv('data/letter-recognition.data', sep=\",\", header = None)\n",
    "data"
   ]
  },
  {
   "cell_type": "code",
   "execution_count": 96,
   "id": "edde2be0",
   "metadata": {},
   "outputs": [],
   "source": [
    "columnNames = [\"lettr\", \"x_box\", \"y_box\", \"width\", \"thigh\", \"onpix\", \"x_bar\", \"y_bar\", \"x2_bar\", \"y2_bar\", \"xy_bar\", \"x2y_br\", \"xy2br\", \"x_ege\", \"xegvy\", \"y_ege\", \"yegvx\"]"
   ]
  },
  {
   "cell_type": "code",
   "execution_count": 97,
   "id": "244fb267",
   "metadata": {},
   "outputs": [],
   "source": [
    "data.columns = columnNames"
   ]
  },
  {
   "cell_type": "code",
   "execution_count": 98,
   "id": "512e570d",
   "metadata": {},
   "outputs": [
    {
     "data": {
      "text/html": [
       "<div>\n",
       "<style scoped>\n",
       "    .dataframe tbody tr th:only-of-type {\n",
       "        vertical-align: middle;\n",
       "    }\n",
       "\n",
       "    .dataframe tbody tr th {\n",
       "        vertical-align: top;\n",
       "    }\n",
       "\n",
       "    .dataframe thead th {\n",
       "        text-align: right;\n",
       "    }\n",
       "</style>\n",
       "<table border=\"1\" class=\"dataframe\">\n",
       "  <thead>\n",
       "    <tr style=\"text-align: right;\">\n",
       "      <th></th>\n",
       "      <th>lettr</th>\n",
       "      <th>x_box</th>\n",
       "      <th>y_box</th>\n",
       "      <th>width</th>\n",
       "      <th>thigh</th>\n",
       "      <th>onpix</th>\n",
       "      <th>x_bar</th>\n",
       "      <th>y_bar</th>\n",
       "      <th>x2_bar</th>\n",
       "      <th>y2_bar</th>\n",
       "      <th>xy_bar</th>\n",
       "      <th>x2y_br</th>\n",
       "      <th>xy2br</th>\n",
       "      <th>x_ege</th>\n",
       "      <th>xegvy</th>\n",
       "      <th>y_ege</th>\n",
       "      <th>yegvx</th>\n",
       "    </tr>\n",
       "  </thead>\n",
       "  <tbody>\n",
       "    <tr>\n",
       "      <th>21</th>\n",
       "      <td>H</td>\n",
       "      <td>4</td>\n",
       "      <td>5</td>\n",
       "      <td>5</td>\n",
       "      <td>4</td>\n",
       "      <td>4</td>\n",
       "      <td>7</td>\n",
       "      <td>7</td>\n",
       "      <td>6</td>\n",
       "      <td>6</td>\n",
       "      <td>7</td>\n",
       "      <td>6</td>\n",
       "      <td>8</td>\n",
       "      <td>3</td>\n",
       "      <td>8</td>\n",
       "      <td>3</td>\n",
       "      <td>8</td>\n",
       "    </tr>\n",
       "    <tr>\n",
       "      <th>28</th>\n",
       "      <td>H</td>\n",
       "      <td>6</td>\n",
       "      <td>9</td>\n",
       "      <td>8</td>\n",
       "      <td>7</td>\n",
       "      <td>6</td>\n",
       "      <td>8</td>\n",
       "      <td>6</td>\n",
       "      <td>6</td>\n",
       "      <td>7</td>\n",
       "      <td>7</td>\n",
       "      <td>7</td>\n",
       "      <td>9</td>\n",
       "      <td>6</td>\n",
       "      <td>8</td>\n",
       "      <td>4</td>\n",
       "      <td>8</td>\n",
       "    </tr>\n",
       "    <tr>\n",
       "      <th>64</th>\n",
       "      <td>H</td>\n",
       "      <td>3</td>\n",
       "      <td>3</td>\n",
       "      <td>4</td>\n",
       "      <td>1</td>\n",
       "      <td>2</td>\n",
       "      <td>8</td>\n",
       "      <td>7</td>\n",
       "      <td>5</td>\n",
       "      <td>6</td>\n",
       "      <td>7</td>\n",
       "      <td>6</td>\n",
       "      <td>8</td>\n",
       "      <td>5</td>\n",
       "      <td>8</td>\n",
       "      <td>3</td>\n",
       "      <td>7</td>\n",
       "    </tr>\n",
       "    <tr>\n",
       "      <th>66</th>\n",
       "      <td>H</td>\n",
       "      <td>3</td>\n",
       "      <td>5</td>\n",
       "      <td>5</td>\n",
       "      <td>4</td>\n",
       "      <td>3</td>\n",
       "      <td>7</td>\n",
       "      <td>8</td>\n",
       "      <td>3</td>\n",
       "      <td>6</td>\n",
       "      <td>10</td>\n",
       "      <td>6</td>\n",
       "      <td>8</td>\n",
       "      <td>3</td>\n",
       "      <td>8</td>\n",
       "      <td>3</td>\n",
       "      <td>8</td>\n",
       "    </tr>\n",
       "    <tr>\n",
       "      <th>69</th>\n",
       "      <td>H</td>\n",
       "      <td>8</td>\n",
       "      <td>12</td>\n",
       "      <td>8</td>\n",
       "      <td>6</td>\n",
       "      <td>4</td>\n",
       "      <td>9</td>\n",
       "      <td>8</td>\n",
       "      <td>4</td>\n",
       "      <td>5</td>\n",
       "      <td>8</td>\n",
       "      <td>4</td>\n",
       "      <td>5</td>\n",
       "      <td>6</td>\n",
       "      <td>9</td>\n",
       "      <td>5</td>\n",
       "      <td>9</td>\n",
       "    </tr>\n",
       "    <tr>\n",
       "      <th>...</th>\n",
       "      <td>...</td>\n",
       "      <td>...</td>\n",
       "      <td>...</td>\n",
       "      <td>...</td>\n",
       "      <td>...</td>\n",
       "      <td>...</td>\n",
       "      <td>...</td>\n",
       "      <td>...</td>\n",
       "      <td>...</td>\n",
       "      <td>...</td>\n",
       "      <td>...</td>\n",
       "      <td>...</td>\n",
       "      <td>...</td>\n",
       "      <td>...</td>\n",
       "      <td>...</td>\n",
       "      <td>...</td>\n",
       "      <td>...</td>\n",
       "    </tr>\n",
       "    <tr>\n",
       "      <th>19921</th>\n",
       "      <td>K</td>\n",
       "      <td>7</td>\n",
       "      <td>14</td>\n",
       "      <td>8</td>\n",
       "      <td>8</td>\n",
       "      <td>5</td>\n",
       "      <td>9</td>\n",
       "      <td>6</td>\n",
       "      <td>3</td>\n",
       "      <td>5</td>\n",
       "      <td>11</td>\n",
       "      <td>3</td>\n",
       "      <td>7</td>\n",
       "      <td>5</td>\n",
       "      <td>7</td>\n",
       "      <td>4</td>\n",
       "      <td>8</td>\n",
       "    </tr>\n",
       "    <tr>\n",
       "      <th>19931</th>\n",
       "      <td>K</td>\n",
       "      <td>3</td>\n",
       "      <td>1</td>\n",
       "      <td>5</td>\n",
       "      <td>3</td>\n",
       "      <td>3</td>\n",
       "      <td>6</td>\n",
       "      <td>7</td>\n",
       "      <td>4</td>\n",
       "      <td>8</td>\n",
       "      <td>7</td>\n",
       "      <td>6</td>\n",
       "      <td>11</td>\n",
       "      <td>3</td>\n",
       "      <td>8</td>\n",
       "      <td>5</td>\n",
       "      <td>9</td>\n",
       "    </tr>\n",
       "    <tr>\n",
       "      <th>19937</th>\n",
       "      <td>H</td>\n",
       "      <td>3</td>\n",
       "      <td>8</td>\n",
       "      <td>5</td>\n",
       "      <td>6</td>\n",
       "      <td>4</td>\n",
       "      <td>8</td>\n",
       "      <td>8</td>\n",
       "      <td>7</td>\n",
       "      <td>7</td>\n",
       "      <td>7</td>\n",
       "      <td>5</td>\n",
       "      <td>7</td>\n",
       "      <td>3</td>\n",
       "      <td>8</td>\n",
       "      <td>3</td>\n",
       "      <td>7</td>\n",
       "    </tr>\n",
       "    <tr>\n",
       "      <th>19957</th>\n",
       "      <td>H</td>\n",
       "      <td>5</td>\n",
       "      <td>7</td>\n",
       "      <td>8</td>\n",
       "      <td>5</td>\n",
       "      <td>5</td>\n",
       "      <td>9</td>\n",
       "      <td>7</td>\n",
       "      <td>3</td>\n",
       "      <td>6</td>\n",
       "      <td>10</td>\n",
       "      <td>4</td>\n",
       "      <td>7</td>\n",
       "      <td>5</td>\n",
       "      <td>8</td>\n",
       "      <td>4</td>\n",
       "      <td>9</td>\n",
       "    </tr>\n",
       "    <tr>\n",
       "      <th>19978</th>\n",
       "      <td>K</td>\n",
       "      <td>5</td>\n",
       "      <td>11</td>\n",
       "      <td>5</td>\n",
       "      <td>8</td>\n",
       "      <td>5</td>\n",
       "      <td>3</td>\n",
       "      <td>8</td>\n",
       "      <td>7</td>\n",
       "      <td>3</td>\n",
       "      <td>6</td>\n",
       "      <td>4</td>\n",
       "      <td>11</td>\n",
       "      <td>3</td>\n",
       "      <td>8</td>\n",
       "      <td>2</td>\n",
       "      <td>11</td>\n",
       "    </tr>\n",
       "  </tbody>\n",
       "</table>\n",
       "<p>1473 rows × 17 columns</p>\n",
       "</div>"
      ],
      "text/plain": [
       "      lettr  x_box  y_box  width  thigh  onpix  x_bar  y_bar  x2_bar  y2_bar  \\\n",
       "21        H      4      5      5      4      4      7      7       6       6   \n",
       "28        H      6      9      8      7      6      8      6       6       7   \n",
       "64        H      3      3      4      1      2      8      7       5       6   \n",
       "66        H      3      5      5      4      3      7      8       3       6   \n",
       "69        H      8     12      8      6      4      9      8       4       5   \n",
       "...     ...    ...    ...    ...    ...    ...    ...    ...     ...     ...   \n",
       "19921     K      7     14      8      8      5      9      6       3       5   \n",
       "19931     K      3      1      5      3      3      6      7       4       8   \n",
       "19937     H      3      8      5      6      4      8      8       7       7   \n",
       "19957     H      5      7      8      5      5      9      7       3       6   \n",
       "19978     K      5     11      5      8      5      3      8       7       3   \n",
       "\n",
       "       xy_bar  x2y_br  xy2br  x_ege  xegvy  y_ege  yegvx  \n",
       "21          7       6      8      3      8      3      8  \n",
       "28          7       7      9      6      8      4      8  \n",
       "64          7       6      8      5      8      3      7  \n",
       "66         10       6      8      3      8      3      8  \n",
       "69          8       4      5      6      9      5      9  \n",
       "...       ...     ...    ...    ...    ...    ...    ...  \n",
       "19921      11       3      7      5      7      4      8  \n",
       "19931       7       6     11      3      8      5      9  \n",
       "19937       7       5      7      3      8      3      7  \n",
       "19957      10       4      7      5      8      4      9  \n",
       "19978       6       4     11      3      8      2     11  \n",
       "\n",
       "[1473 rows x 17 columns]"
      ]
     },
     "execution_count": 98,
     "metadata": {},
     "output_type": "execute_result"
    }
   ],
   "source": [
    "HandK = data[(data['lettr'] == 'H') | (data['lettr'] == 'K')]\n",
    "HandK"
   ]
  },
  {
   "cell_type": "code",
   "execution_count": 99,
   "id": "7760c1cb",
   "metadata": {},
   "outputs": [
    {
     "data": {
      "text/html": [
       "<div>\n",
       "<style scoped>\n",
       "    .dataframe tbody tr th:only-of-type {\n",
       "        vertical-align: middle;\n",
       "    }\n",
       "\n",
       "    .dataframe tbody tr th {\n",
       "        vertical-align: top;\n",
       "    }\n",
       "\n",
       "    .dataframe thead th {\n",
       "        text-align: right;\n",
       "    }\n",
       "</style>\n",
       "<table border=\"1\" class=\"dataframe\">\n",
       "  <thead>\n",
       "    <tr style=\"text-align: right;\">\n",
       "      <th></th>\n",
       "      <th>lettr</th>\n",
       "      <th>x_box</th>\n",
       "      <th>y_box</th>\n",
       "      <th>width</th>\n",
       "      <th>thigh</th>\n",
       "      <th>onpix</th>\n",
       "      <th>x_bar</th>\n",
       "      <th>y_bar</th>\n",
       "      <th>x2_bar</th>\n",
       "      <th>y2_bar</th>\n",
       "      <th>xy_bar</th>\n",
       "      <th>x2y_br</th>\n",
       "      <th>xy2br</th>\n",
       "      <th>x_ege</th>\n",
       "      <th>xegvy</th>\n",
       "      <th>y_ege</th>\n",
       "      <th>yegvx</th>\n",
       "    </tr>\n",
       "  </thead>\n",
       "  <tbody>\n",
       "    <tr>\n",
       "      <th>9</th>\n",
       "      <td>M</td>\n",
       "      <td>11</td>\n",
       "      <td>15</td>\n",
       "      <td>13</td>\n",
       "      <td>9</td>\n",
       "      <td>7</td>\n",
       "      <td>13</td>\n",
       "      <td>2</td>\n",
       "      <td>6</td>\n",
       "      <td>2</td>\n",
       "      <td>12</td>\n",
       "      <td>1</td>\n",
       "      <td>9</td>\n",
       "      <td>8</td>\n",
       "      <td>1</td>\n",
       "      <td>1</td>\n",
       "      <td>8</td>\n",
       "    </tr>\n",
       "    <tr>\n",
       "      <th>13</th>\n",
       "      <td>M</td>\n",
       "      <td>6</td>\n",
       "      <td>9</td>\n",
       "      <td>8</td>\n",
       "      <td>6</td>\n",
       "      <td>9</td>\n",
       "      <td>7</td>\n",
       "      <td>8</td>\n",
       "      <td>6</td>\n",
       "      <td>5</td>\n",
       "      <td>7</td>\n",
       "      <td>5</td>\n",
       "      <td>8</td>\n",
       "      <td>8</td>\n",
       "      <td>9</td>\n",
       "      <td>8</td>\n",
       "      <td>6</td>\n",
       "    </tr>\n",
       "    <tr>\n",
       "      <th>26</th>\n",
       "      <td>M</td>\n",
       "      <td>7</td>\n",
       "      <td>11</td>\n",
       "      <td>11</td>\n",
       "      <td>8</td>\n",
       "      <td>9</td>\n",
       "      <td>3</td>\n",
       "      <td>8</td>\n",
       "      <td>4</td>\n",
       "      <td>5</td>\n",
       "      <td>10</td>\n",
       "      <td>11</td>\n",
       "      <td>10</td>\n",
       "      <td>10</td>\n",
       "      <td>9</td>\n",
       "      <td>5</td>\n",
       "      <td>7</td>\n",
       "    </tr>\n",
       "    <tr>\n",
       "      <th>34</th>\n",
       "      <td>M</td>\n",
       "      <td>6</td>\n",
       "      <td>9</td>\n",
       "      <td>9</td>\n",
       "      <td>7</td>\n",
       "      <td>6</td>\n",
       "      <td>5</td>\n",
       "      <td>6</td>\n",
       "      <td>3</td>\n",
       "      <td>5</td>\n",
       "      <td>10</td>\n",
       "      <td>9</td>\n",
       "      <td>9</td>\n",
       "      <td>8</td>\n",
       "      <td>5</td>\n",
       "      <td>2</td>\n",
       "      <td>7</td>\n",
       "    </tr>\n",
       "    <tr>\n",
       "      <th>50</th>\n",
       "      <td>Y</td>\n",
       "      <td>7</td>\n",
       "      <td>11</td>\n",
       "      <td>9</td>\n",
       "      <td>8</td>\n",
       "      <td>8</td>\n",
       "      <td>9</td>\n",
       "      <td>5</td>\n",
       "      <td>6</td>\n",
       "      <td>4</td>\n",
       "      <td>7</td>\n",
       "      <td>8</td>\n",
       "      <td>8</td>\n",
       "      <td>3</td>\n",
       "      <td>9</td>\n",
       "      <td>8</td>\n",
       "      <td>3</td>\n",
       "    </tr>\n",
       "    <tr>\n",
       "      <th>...</th>\n",
       "      <td>...</td>\n",
       "      <td>...</td>\n",
       "      <td>...</td>\n",
       "      <td>...</td>\n",
       "      <td>...</td>\n",
       "      <td>...</td>\n",
       "      <td>...</td>\n",
       "      <td>...</td>\n",
       "      <td>...</td>\n",
       "      <td>...</td>\n",
       "      <td>...</td>\n",
       "      <td>...</td>\n",
       "      <td>...</td>\n",
       "      <td>...</td>\n",
       "      <td>...</td>\n",
       "      <td>...</td>\n",
       "      <td>...</td>\n",
       "    </tr>\n",
       "    <tr>\n",
       "      <th>19940</th>\n",
       "      <td>Y</td>\n",
       "      <td>6</td>\n",
       "      <td>9</td>\n",
       "      <td>5</td>\n",
       "      <td>5</td>\n",
       "      <td>2</td>\n",
       "      <td>5</td>\n",
       "      <td>9</td>\n",
       "      <td>3</td>\n",
       "      <td>3</td>\n",
       "      <td>10</td>\n",
       "      <td>9</td>\n",
       "      <td>5</td>\n",
       "      <td>3</td>\n",
       "      <td>10</td>\n",
       "      <td>3</td>\n",
       "      <td>4</td>\n",
       "    </tr>\n",
       "    <tr>\n",
       "      <th>19949</th>\n",
       "      <td>M</td>\n",
       "      <td>5</td>\n",
       "      <td>8</td>\n",
       "      <td>7</td>\n",
       "      <td>6</td>\n",
       "      <td>7</td>\n",
       "      <td>8</td>\n",
       "      <td>6</td>\n",
       "      <td>6</td>\n",
       "      <td>5</td>\n",
       "      <td>7</td>\n",
       "      <td>7</td>\n",
       "      <td>10</td>\n",
       "      <td>11</td>\n",
       "      <td>6</td>\n",
       "      <td>2</td>\n",
       "      <td>9</td>\n",
       "    </tr>\n",
       "    <tr>\n",
       "      <th>19979</th>\n",
       "      <td>M</td>\n",
       "      <td>6</td>\n",
       "      <td>9</td>\n",
       "      <td>10</td>\n",
       "      <td>7</td>\n",
       "      <td>12</td>\n",
       "      <td>7</td>\n",
       "      <td>5</td>\n",
       "      <td>3</td>\n",
       "      <td>2</td>\n",
       "      <td>7</td>\n",
       "      <td>5</td>\n",
       "      <td>8</td>\n",
       "      <td>15</td>\n",
       "      <td>7</td>\n",
       "      <td>4</td>\n",
       "      <td>6</td>\n",
       "    </tr>\n",
       "    <tr>\n",
       "      <th>19982</th>\n",
       "      <td>Y</td>\n",
       "      <td>3</td>\n",
       "      <td>9</td>\n",
       "      <td>5</td>\n",
       "      <td>6</td>\n",
       "      <td>3</td>\n",
       "      <td>7</td>\n",
       "      <td>9</td>\n",
       "      <td>1</td>\n",
       "      <td>6</td>\n",
       "      <td>6</td>\n",
       "      <td>11</td>\n",
       "      <td>8</td>\n",
       "      <td>2</td>\n",
       "      <td>11</td>\n",
       "      <td>2</td>\n",
       "      <td>7</td>\n",
       "    </tr>\n",
       "    <tr>\n",
       "      <th>19985</th>\n",
       "      <td>M</td>\n",
       "      <td>5</td>\n",
       "      <td>6</td>\n",
       "      <td>8</td>\n",
       "      <td>4</td>\n",
       "      <td>5</td>\n",
       "      <td>9</td>\n",
       "      <td>6</td>\n",
       "      <td>2</td>\n",
       "      <td>4</td>\n",
       "      <td>9</td>\n",
       "      <td>5</td>\n",
       "      <td>7</td>\n",
       "      <td>8</td>\n",
       "      <td>6</td>\n",
       "      <td>2</td>\n",
       "      <td>8</td>\n",
       "    </tr>\n",
       "  </tbody>\n",
       "</table>\n",
       "<p>1578 rows × 17 columns</p>\n",
       "</div>"
      ],
      "text/plain": [
       "      lettr  x_box  y_box  width  thigh  onpix  x_bar  y_bar  x2_bar  y2_bar  \\\n",
       "9         M     11     15     13      9      7     13      2       6       2   \n",
       "13        M      6      9      8      6      9      7      8       6       5   \n",
       "26        M      7     11     11      8      9      3      8       4       5   \n",
       "34        M      6      9      9      7      6      5      6       3       5   \n",
       "50        Y      7     11      9      8      8      9      5       6       4   \n",
       "...     ...    ...    ...    ...    ...    ...    ...    ...     ...     ...   \n",
       "19940     Y      6      9      5      5      2      5      9       3       3   \n",
       "19949     M      5      8      7      6      7      8      6       6       5   \n",
       "19979     M      6      9     10      7     12      7      5       3       2   \n",
       "19982     Y      3      9      5      6      3      7      9       1       6   \n",
       "19985     M      5      6      8      4      5      9      6       2       4   \n",
       "\n",
       "       xy_bar  x2y_br  xy2br  x_ege  xegvy  y_ege  yegvx  \n",
       "9          12       1      9      8      1      1      8  \n",
       "13          7       5      8      8      9      8      6  \n",
       "26         10      11     10     10      9      5      7  \n",
       "34         10       9      9      8      5      2      7  \n",
       "50          7       8      8      3      9      8      3  \n",
       "...       ...     ...    ...    ...    ...    ...    ...  \n",
       "19940      10       9      5      3     10      3      4  \n",
       "19949       7       7     10     11      6      2      9  \n",
       "19979       7       5      8     15      7      4      6  \n",
       "19982       6      11      8      2     11      2      7  \n",
       "19985       9       5      7      8      6      2      8  \n",
       "\n",
       "[1578 rows x 17 columns]"
      ]
     },
     "execution_count": 99,
     "metadata": {},
     "output_type": "execute_result"
    }
   ],
   "source": [
    "MandY = data[(data['lettr'] == 'M') | (data['lettr'] == 'Y')]\n",
    "MandY"
   ]
  },
  {
   "cell_type": "code",
   "execution_count": 100,
   "id": "fe9429de",
   "metadata": {},
   "outputs": [],
   "source": [
    "yDataHandK = HandK.lettr\n",
    "yDataMandY = MandY.lettr\n",
    "XDataHandK = HandK.drop([\"lettr\"], axis=1)\n",
    "XDataMandY = MandY.drop([\"lettr\"], axis=1)"
   ]
  },
  {
   "cell_type": "code",
   "execution_count": 101,
   "id": "d4202991",
   "metadata": {},
   "outputs": [],
   "source": [
    "X_train_MandY, X_test_MandY, y_train_MandY, y_test_MandY = train_test_split(XDataMandY, yDataMandY, test_size=0.1, random_state=42)\n",
    "X_train_HandK, X_test_HandK, y_train_HandK, y_test_HandK = train_test_split(XDataHandK, yDataHandK, test_size=0.1, random_state=42)"
   ]
  },
  {
   "cell_type": "code",
   "execution_count": 102,
   "id": "8b36cddc",
   "metadata": {},
   "outputs": [],
   "source": [
    "# profile = ProfileReport(data, title=\"Pandas Profiling Report\")\n",
    "# profile"
   ]
  },
  {
   "cell_type": "markdown",
   "id": "889a5549",
   "metadata": {},
   "source": [
    "## M and Y"
   ]
  },
  {
   "cell_type": "markdown",
   "id": "025d19fc",
   "metadata": {},
   "source": [
    "#### Random Forest Classifier"
   ]
  },
  {
   "cell_type": "code",
   "execution_count": 103,
   "id": "92097a86",
   "metadata": {},
   "outputs": [
    {
     "name": "stdout",
     "output_type": "stream",
     "text": [
      "0.9788732394366196\n"
     ]
    }
   ],
   "source": [
    "randomForest = RandomForestClassifier(max_depth=2, random_state=0)\n",
    "cv_results = cross_validate(randomForest, X_train_MandY, y_train_MandY, cv=5)\n",
    "print(np.mean(cv_results.get(\"test_score\")))"
   ]
  },
  {
   "cell_type": "code",
   "execution_count": 104,
   "id": "c6622658",
   "metadata": {},
   "outputs": [
    {
     "data": {
      "text/plain": [
       "0.9746835443037974"
      ]
     },
     "execution_count": 104,
     "metadata": {},
     "output_type": "execute_result"
    }
   ],
   "source": [
    "randomForest.fit(X_train_MandY, y_train_MandY)\n",
    "y_pred = randomForest.predict(X_test_MandY)\n",
    "accuracy_score(y_test_MandY, y_pred)"
   ]
  },
  {
   "cell_type": "code",
   "execution_count": 105,
   "id": "91366bea",
   "metadata": {},
   "outputs": [
    {
     "name": "stdout",
     "output_type": "stream",
     "text": [
      "0.9570422535211268\n",
      "0.9788732394366196\n",
      "0.9880281690140844\n",
      "0.9943661971830986\n",
      "0.9964788732394366\n",
      "0.9971830985915492\n",
      "0.9971830985915492\n",
      "0.9971830985915492\n",
      "Best performance:  0.9971830985915492\n",
      "Ideal max depth:  10\n"
     ]
    }
   ],
   "source": [
    "# Tuning max_depth Hyperparameter\n",
    "max_depths = [1, 2, 3, 5, 7, 10, 13, 15]\n",
    "scores = []\n",
    "for i in range(len(max_depths)):\n",
    "    randomForest = RandomForestClassifier(max_depth=max_depths[i], random_state=0)\n",
    "    cv_results = cross_validate(randomForest, X_train_MandY, y_train_MandY, cv=5)\n",
    "    scores.append(np.mean(cv_results.get(\"test_score\")))\n",
    "    print(np.mean(cv_results.get(\"test_score\")))\n",
    "print(\"Best performance: \", max(scores))\n",
    "print(\"Ideal max depth: \", max_depths[scores.index(max(scores))])"
   ]
  },
  {
   "cell_type": "markdown",
   "id": "094eea26",
   "metadata": {},
   "source": [
    "Let's dive deeper into the performance of our model with a confusion matrix."
   ]
  },
  {
   "cell_type": "code",
   "execution_count": 106,
   "id": "b58df157",
   "metadata": {},
   "outputs": [
    {
     "data": {
      "text/plain": [
       "array([[82,  0],\n",
       "       [ 4, 72]], dtype=int64)"
      ]
     },
     "execution_count": 106,
     "metadata": {},
     "output_type": "execute_result"
    }
   ],
   "source": [
    "confusion_matrix(y_test_MandY, y_pred)"
   ]
  },
  {
   "cell_type": "markdown",
   "id": "04c175e4",
   "metadata": {},
   "source": [
    "#### Decision Tree Classifier"
   ]
  },
  {
   "cell_type": "code",
   "execution_count": 107,
   "id": "a04f7fb3",
   "metadata": {},
   "outputs": [
    {
     "name": "stdout",
     "output_type": "stream",
     "text": [
      "0.9901408450704224\n"
     ]
    }
   ],
   "source": [
    "decisionTree = tree.DecisionTreeClassifier()\n",
    "cv_results = cross_validate(decisionTree, X_train_MandY, y_train_MandY, cv=5)\n",
    "print(np.mean(cv_results.get(\"test_score\")))"
   ]
  },
  {
   "cell_type": "code",
   "execution_count": 108,
   "id": "622f19b9",
   "metadata": {},
   "outputs": [
    {
     "data": {
      "text/plain": [
       "0.9873417721518988"
      ]
     },
     "execution_count": 108,
     "metadata": {},
     "output_type": "execute_result"
    }
   ],
   "source": [
    "decisionTree.fit(X_train_MandY, y_train_MandY)\n",
    "y_pred = decisionTree.predict(X_test_MandY)\n",
    "accuracy_score(y_test_MandY, y_pred)"
   ]
  },
  {
   "cell_type": "code",
   "execution_count": 109,
   "id": "f2051f2e",
   "metadata": {},
   "outputs": [
    {
     "name": "stdout",
     "output_type": "stream",
     "text": [
      "0.95\n",
      "0.9711267605633804\n",
      "0.980281690140845\n",
      "0.9894366197183098\n",
      "0.9922535211267605\n",
      "0.9908450704225352\n",
      "0.9908450704225352\n",
      "0.9908450704225352\n",
      "Best performance:  0.9922535211267605\n",
      "Ideal max depth:  7\n"
     ]
    }
   ],
   "source": [
    "# Tuning max_depth Hyperparameter\n",
    "max_depths = [1, 2, 3, 5, 7, 10, 13, 15]\n",
    "scores = []\n",
    "for i in range(len(max_depths)):\n",
    "    decisionTree = tree.DecisionTreeClassifier(max_depth=max_depths[i], random_state=0)\n",
    "    cv_results = cross_validate(decisionTree, X_train_MandY, y_train_MandY, cv=5)\n",
    "    scores.append(np.mean(cv_results.get(\"test_score\")))\n",
    "    print(np.mean(cv_results.get(\"test_score\")))\n",
    "print(\"Best performance: \", max(scores))\n",
    "print(\"Ideal max depth: \", max_depths[scores.index(max(scores))])"
   ]
  },
  {
   "cell_type": "markdown",
   "id": "0751362b",
   "metadata": {},
   "source": [
    "Let's dive deeper into the performance of our model with a confusion matrix."
   ]
  },
  {
   "cell_type": "code",
   "execution_count": 110,
   "id": "a0651dae",
   "metadata": {},
   "outputs": [
    {
     "data": {
      "text/plain": [
       "array([[82,  0],\n",
       "       [ 2, 74]], dtype=int64)"
      ]
     },
     "execution_count": 110,
     "metadata": {},
     "output_type": "execute_result"
    }
   ],
   "source": [
    "confusion_matrix(y_test_MandY, y_pred)"
   ]
  },
  {
   "cell_type": "markdown",
   "id": "47b8982f",
   "metadata": {},
   "source": [
    "#### KNN"
   ]
  },
  {
   "cell_type": "code",
   "execution_count": 111,
   "id": "bd868758",
   "metadata": {},
   "outputs": [
    {
     "name": "stdout",
     "output_type": "stream",
     "text": [
      "Accuracy: 0.9936708860759493\n",
      "\n",
      "Cross-validation Average Test Score:\n",
      "0.9985915492957746\n"
     ]
    }
   ],
   "source": [
    "# Create the k-NN classifier with k=3\n",
    "knn = KNeighborsClassifier(n_neighbors=5)\n",
    "\n",
    "# Fit the classifier to the training data\n",
    "knn.fit(X_train_MandY, y_train_MandY)\n",
    "\n",
    "# Predict the classes of the test set\n",
    "y_pred = knn.predict(X_test_MandY)\n",
    "\n",
    "# Calculate the accuracy of the model\n",
    "accuracy = accuracy_score(y_test_MandY, y_pred)\n",
    "\n",
    "# Print the accuracy of the model\n",
    "print(\"Accuracy:\", accuracy)\n",
    "\n",
    "print()\n",
    "print(\"Cross-validation Average Test Score:\")\n",
    "\n",
    "# Perform 10-fold cross-validation\n",
    "cv_results = cross_validate(knn, X_train_MandY, y_train_MandY, cv=10)\n",
    "print(np.mean(cv_results.get(\"test_score\")))"
   ]
  },
  {
   "cell_type": "code",
   "execution_count": 112,
   "id": "385fb91a",
   "metadata": {},
   "outputs": [
    {
     "name": "stdout",
     "output_type": "stream",
     "text": [
      "Best performance:  0.9992957746478872\n",
      "Ideal k:  1\n"
     ]
    }
   ],
   "source": [
    "# Tuning k Hyperparameter\n",
    "max_k = 15\n",
    "scores = []\n",
    "for k in range(1, max_k):\n",
    "    knn = KNeighborsClassifier(n_neighbors=k)\n",
    "    knn.fit(X_train_MandY, y_train_MandY)\n",
    "    y_pred = knn.predict(X_test_MandY)\n",
    "    cv_results = cross_validate(knn, X_train_MandY, y_train_MandY, cv=10)\n",
    "    scores.append(np.mean(cv_results.get(\"test_score\")))\n",
    "\n",
    "print(\"Best performance: \", max(scores))\n",
    "print(\"Ideal k: \", scores.index(max(scores))+1)"
   ]
  },
  {
   "cell_type": "markdown",
   "id": "eb8c70b9",
   "metadata": {},
   "source": [
    "Let's dive deeper into the performance of our model with a confusion matrix."
   ]
  },
  {
   "cell_type": "code",
   "execution_count": 113,
   "id": "cbfc0bd5",
   "metadata": {},
   "outputs": [
    {
     "data": {
      "text/plain": [
       "array([[82,  0],\n",
       "       [ 1, 75]], dtype=int64)"
      ]
     },
     "execution_count": 113,
     "metadata": {},
     "output_type": "execute_result"
    }
   ],
   "source": [
    "confusion_matrix(y_test_MandY, y_pred)"
   ]
  },
  {
   "cell_type": "markdown",
   "id": "8e93bf8e",
   "metadata": {},
   "source": [
    "#### SVM"
   ]
  },
  {
   "cell_type": "code",
   "execution_count": 114,
   "id": "65e62b8b",
   "metadata": {},
   "outputs": [
    {
     "name": "stdout",
     "output_type": "stream",
     "text": [
      "Accuracy: 1.0\n",
      "\n",
      "Cross-validation Average Test Score:\n",
      "0.9971830985915492\n"
     ]
    }
   ],
   "source": [
    "# Create the SVM classifier\n",
    "svm = SVC(kernel='linear', C=1)\n",
    "\n",
    "# Fit the classifier to the training data\n",
    "svm.fit(X_train_MandY, y_train_MandY)\n",
    "\n",
    "# Predict the classes of the test set\n",
    "y_pred = svm.predict(X_test_MandY)\n",
    "\n",
    "# Calculate the accuracy of the model\n",
    "accuracy = accuracy_score(y_test_MandY, y_pred)\n",
    "\n",
    "# Print the accuracy of the model\n",
    "print(\"Accuracy:\", accuracy)\n",
    "\n",
    "print()\n",
    "print(\"Cross-validation Average Test Score:\")\n",
    "\n",
    "# Perform 10-fold cross-validation\n",
    "cv_results = cross_validate(svm, X_train_MandY, y_train_MandY, cv=10)\n",
    "print(np.mean(cv_results.get(\"test_score\")))"
   ]
  },
  {
   "cell_type": "code",
   "execution_count": 115,
   "id": "72734dab",
   "metadata": {},
   "outputs": [
    {
     "name": "stdout",
     "output_type": "stream",
     "text": [
      "Best performance:  0.9971830985915492\n",
      "Ideal C:  1\n"
     ]
    }
   ],
   "source": [
    "# Tuning C Hyperparameter\n",
    "max_C = 15\n",
    "scores = []\n",
    "for C in range(1, max_C):\n",
    "    svm = SVC(kernel='linear', C=C)\n",
    "    svm.fit(X_train_MandY, y_train_MandY)\n",
    "    y_pred = svm.predict(X_test_MandY)\n",
    "    cv_results = cross_validate(svm, X_train_MandY, y_train_MandY, cv=10)\n",
    "    scores.append(np.mean(cv_results.get(\"test_score\")))\n",
    "\n",
    "print(\"Best performance: \", max(scores))\n",
    "print(\"Ideal C: \", scores.index(max(scores))+1)"
   ]
  },
  {
   "cell_type": "markdown",
   "id": "8129b504",
   "metadata": {},
   "source": [
    "Let's dive deeper into the performance of our model with a confusion matrix."
   ]
  },
  {
   "cell_type": "code",
   "execution_count": 116,
   "id": "e4757e1b",
   "metadata": {},
   "outputs": [
    {
     "data": {
      "text/plain": [
       "array([[82,  0],\n",
       "       [ 0, 76]], dtype=int64)"
      ]
     },
     "execution_count": 116,
     "metadata": {},
     "output_type": "execute_result"
    }
   ],
   "source": [
    "confusion_matrix(y_test_MandY, y_pred)"
   ]
  },
  {
   "cell_type": "markdown",
   "id": "06c4a253",
   "metadata": {},
   "source": [
    "## H and K"
   ]
  },
  {
   "cell_type": "markdown",
   "id": "dbf60deb",
   "metadata": {},
   "source": [
    "#### Random Forest Classifier"
   ]
  },
  {
   "cell_type": "code",
   "execution_count": 117,
   "id": "618a8b62",
   "metadata": {},
   "outputs": [
    {
     "data": {
      "text/plain": [
       "{'fit_time': array([0.12717438, 0.11025476, 0.11034441, 0.11127448, 0.10530758]),\n",
       " 'score_time': array([0.00897765, 0.01052523, 0.00896811, 0.00998306, 0.00901985]),\n",
       " 'test_score': array([0.84150943, 0.90943396, 0.86037736, 0.85283019, 0.8       ])}"
      ]
     },
     "execution_count": 117,
     "metadata": {},
     "output_type": "execute_result"
    }
   ],
   "source": [
    "randomForest = RandomForestClassifier(max_depth=2, random_state=0)\n",
    "cv_results = cross_validate(randomForest, X_train_HandK, y_train_HandK, cv=5)\n",
    "cv_results"
   ]
  },
  {
   "cell_type": "code",
   "execution_count": 118,
   "id": "fcb8e967",
   "metadata": {},
   "outputs": [
    {
     "data": {
      "text/plain": [
       "0.8851351351351351"
      ]
     },
     "execution_count": 118,
     "metadata": {},
     "output_type": "execute_result"
    }
   ],
   "source": [
    "randomForest.fit(X_train_HandK, y_train_HandK)\n",
    "y_pred = randomForest.predict(X_test_HandK)\n",
    "accuracy_score(y_test_HandK, y_pred)"
   ]
  },
  {
   "cell_type": "code",
   "execution_count": null,
   "id": "3d4b4171",
   "metadata": {},
   "outputs": [
    {
     "name": "stdout",
     "output_type": "stream",
     "text": [
      "0.8226415094339623\n",
      "0.8528301886792453\n",
      "0.8747169811320754\n",
      "0.9162264150943397\n",
      "0.9486792452830188\n"
     ]
    }
   ],
   "source": [
    "# Tuning max_depth Hyperparameter\n",
    "max_depths = [1, 2, 3, 5, 7, 10, 13, 15]\n",
    "scores = []\n",
    "for i in range(len(max_depths)):\n",
    "    randomForest = RandomForestClassifier(max_depth=max_depths[i], random_state=0)\n",
    "    cv_results = cross_validate(randomForest, X_train_HandK, y_train_HandK, cv=5)\n",
    "    scores.append(np.mean(cv_results.get(\"test_score\")))\n",
    "    print(np.mean(cv_results.get(\"test_score\")))\n",
    "print(\"Best performance: \", max(scores))\n",
    "print(\"Ideal max depth: \", max_depths[scores.index(max(scores))])"
   ]
  },
  {
   "cell_type": "markdown",
   "id": "bda785b9",
   "metadata": {},
   "source": [
    "Let's dive deeper into the performance of our model with a confusion matrix."
   ]
  },
  {
   "cell_type": "code",
   "execution_count": null,
   "id": "d7254089",
   "metadata": {},
   "outputs": [],
   "source": [
    "confusion_matrix(y_test_HandK, y_pred)"
   ]
  },
  {
   "cell_type": "markdown",
   "id": "164581e6",
   "metadata": {},
   "source": [
    "#### Decision Tree Classifier"
   ]
  },
  {
   "cell_type": "code",
   "execution_count": null,
   "id": "750acb73",
   "metadata": {},
   "outputs": [],
   "source": [
    "decisionTree = tree.DecisionTreeClassifier()\n",
    "cv_results = cross_validate(decisionTree, X_train_HandK, y_train_HandK, cv=5)\n",
    "print(np.mean(cv_results.get(\"test_score\")))"
   ]
  },
  {
   "cell_type": "code",
   "execution_count": null,
   "id": "88be2b2a",
   "metadata": {},
   "outputs": [],
   "source": [
    "decisionTree.fit(X_train_HandK, y_train_HandK)\n",
    "y_pred = decisionTree.predict(X_test_HandK)\n",
    "accuracy_score(y_test_HandK, y_pred)"
   ]
  },
  {
   "cell_type": "code",
   "execution_count": null,
   "id": "25fb0663",
   "metadata": {},
   "outputs": [],
   "source": [
    "# Tuning max_depth Hyperparameter\n",
    "max_depths = [1, 2, 3, 5, 7, 10, 13, 15]\n",
    "scores = []\n",
    "for i in range(len(max_depths)):\n",
    "    decisionTree = tree.DecisionTreeClassifier(max_depth=max_depths[i], random_state=0)\n",
    "    cv_results = cross_validate(decisionTree, X_train_HandK, y_train_HandK, cv=5)\n",
    "    scores.append(np.mean(cv_results.get(\"test_score\")))\n",
    "    print(np.mean(cv_results.get(\"test_score\")))\n",
    "print(\"Best performance: \", max(scores))\n",
    "print(\"Ideal max depth: \", max_depths[scores.index(max(scores))])"
   ]
  },
  {
   "cell_type": "markdown",
   "id": "40560cd6",
   "metadata": {},
   "source": [
    "Let's dive deeper into the performance of our model with a confusion matrix."
   ]
  },
  {
   "cell_type": "code",
   "execution_count": null,
   "id": "ea98b2ae",
   "metadata": {},
   "outputs": [],
   "source": [
    "confusion_matrix(y_test_HandK, y_pred)"
   ]
  },
  {
   "cell_type": "markdown",
   "id": "87af9699",
   "metadata": {},
   "source": [
    "#### KNN"
   ]
  },
  {
   "cell_type": "code",
   "execution_count": null,
   "id": "a45b03cb",
   "metadata": {},
   "outputs": [],
   "source": [
    "# Create the k-NN classifier with k=3\n",
    "knn = KNeighborsClassifier(n_neighbors=3)\n",
    "\n",
    "# Fit the classifier to the training data\n",
    "knn.fit(X_train_HandK, y_train_HandK)\n",
    "\n",
    "# Predict the classes of the test set\n",
    "y_pred = knn.predict(X_test_HandK)\n",
    "\n",
    "# Calculate the accuracy of the model\n",
    "accuracy = accuracy_score(y_test_HandK, y_pred)\n",
    "\n",
    "# Print the accuracy of the model\n",
    "print(\"Accuracy:\", accuracy)\n",
    "\n",
    "print()\n",
    "print(\"Cross-validation Average Test Score:\")\n",
    "\n",
    "# Perform 10-fold cross-validation\n",
    "cv_results = cross_validate(knn, X_train_HandK, y_train_HandK, cv=10)\n",
    "print(np.mean(cv_results.get(\"test_score\")))"
   ]
  },
  {
   "cell_type": "code",
   "execution_count": null,
   "id": "ead21809",
   "metadata": {},
   "outputs": [],
   "source": [
    "# Tuning k Hyperparameter\n",
    "max_k = 15\n",
    "scores = []\n",
    "for k in range(1, max_k):\n",
    "    knn = KNeighborsClassifier(n_neighbors=k)\n",
    "    knn.fit(X_train_HandK, y_train_HandK)\n",
    "    y_pred = knn.predict(X_test_HandK)\n",
    "    cv_results = cross_validate(knn, X_train_HandK, y_train_HandK, cv=10)\n",
    "    scores.append(np.mean(cv_results.get(\"test_score\")))\n",
    "\n",
    "print(\"Best performance: \", max(scores))\n",
    "print(\"Ideal k: \", scores.index(max(scores))+1)"
   ]
  },
  {
   "cell_type": "markdown",
   "id": "c8397856",
   "metadata": {},
   "source": [
    "Let's dive deeper into the performance of our model with a confusion matrix."
   ]
  },
  {
   "cell_type": "code",
   "execution_count": null,
   "id": "40a2ac2c",
   "metadata": {},
   "outputs": [],
   "source": [
    "confusion_matrix(y_test_HandK, y_pred)"
   ]
  },
  {
   "cell_type": "markdown",
   "id": "a262dc6f",
   "metadata": {},
   "source": [
    "#### SVM"
   ]
  },
  {
   "cell_type": "code",
   "execution_count": null,
   "id": "d715b12d",
   "metadata": {},
   "outputs": [],
   "source": [
    "# Create the SVM classifier\n",
    "svm = SVC(kernel='linear', C=1)\n",
    "\n",
    "# Fit the classifier to the training data\n",
    "svm.fit(X_train_HandK, y_train_HandK)\n",
    "\n",
    "# Predict the classes of the test set\n",
    "y_pred = svm.predict(X_test_HandK)\n",
    "\n",
    "# Calculate the accuracy of the model\n",
    "accuracy = accuracy_score(y_test_HandK, y_pred)\n",
    "\n",
    "# Print the accuracy of the model\n",
    "print(\"Accuracy:\", accuracy)\n",
    "\n",
    "print()\n",
    "print(\"Cross-validation Average Test Score:\")\n",
    "\n",
    "# Perform 10-fold cross-validation\n",
    "cv_results = cross_validate(svm, X_train_HandK, y_train_HandK, cv=10)\n",
    "print(np.mean(cv_results.get(\"test_score\")))"
   ]
  },
  {
   "cell_type": "code",
   "execution_count": null,
   "id": "55503869",
   "metadata": {},
   "outputs": [],
   "source": [
    "# Tuning C Hyperparameter\n",
    "max_C = 15\n",
    "scores = []\n",
    "for C in range(1, max_C):\n",
    "    svm = SVC(kernel='linear', C=C)\n",
    "    svm.fit(X_train_HandK, y_train_HandK)\n",
    "    y_pred = svm.predict(X_test_HandK)\n",
    "    cv_results = cross_validate(svm, X_train_HandK, y_train_HandK, cv=10)\n",
    "    scores.append(np.mean(cv_results.get(\"test_score\")))\n",
    "\n",
    "print(\"Best performance: \", max(scores))\n",
    "print(\"Ideal C: \", scores.index(max(scores))+1)"
   ]
  },
  {
   "cell_type": "markdown",
   "id": "cb93f44f",
   "metadata": {},
   "source": [
    "Let's dive deeper into the performance of our model with a confusion matrix."
   ]
  },
  {
   "cell_type": "code",
   "execution_count": null,
   "id": "6d1ae1b4",
   "metadata": {},
   "outputs": [],
   "source": [
    "confusion_matrix(y_test_HandK, y_pred)"
   ]
  },
  {
   "cell_type": "markdown",
   "id": "fe423ffb",
   "metadata": {},
   "source": [
    "### L and Y"
   ]
  },
  {
   "cell_type": "markdown",
   "id": "0a34cfa6",
   "metadata": {},
   "source": [
    "#### Random Forest Classifier"
   ]
  },
  {
   "cell_type": "markdown",
   "id": "bc571db4",
   "metadata": {},
   "source": [
    "#### Decision Tree Classifier"
   ]
  },
  {
   "cell_type": "markdown",
   "id": "2347623a",
   "metadata": {},
   "source": [
    "#### KNN"
   ]
  },
  {
   "cell_type": "markdown",
   "id": "976e6d4d",
   "metadata": {},
   "source": [
    "#### SVM"
   ]
  },
  {
   "cell_type": "markdown",
   "id": "345ddf2f",
   "metadata": {},
   "source": [
    "# Feature Selection"
   ]
  },
  {
   "cell_type": "markdown",
   "id": "14f9f011",
   "metadata": {},
   "source": [
    "#### RFE for Random Forest"
   ]
  },
  {
   "cell_type": "code",
   "execution_count": null,
   "id": "1525eb14",
   "metadata": {},
   "outputs": [],
   "source": [
    "estimator = RandomForestClassifier(max_depth=2, random_state=0)\n",
    "selector = RFE(estimator, n_features_to_select=4, step=1)\n",
    "selector = selector.fit(X_train_HandK, y_train_HandK)"
   ]
  },
  {
   "cell_type": "code",
   "execution_count": null,
   "id": "33943564",
   "metadata": {},
   "outputs": [],
   "source": [
    "selector.support_"
   ]
  },
  {
   "cell_type": "code",
   "execution_count": null,
   "id": "8931df27",
   "metadata": {},
   "outputs": [],
   "source": [
    "selected = X_train_HandK.loc[:, selector.support_]\n",
    "selected"
   ]
  },
  {
   "cell_type": "code",
   "execution_count": null,
   "id": "77ba83d0",
   "metadata": {},
   "outputs": [],
   "source": [
    "randomForest = RandomForestClassifier(max_depth=2, random_state=0)\n",
    "cv_results = cross_validate(randomForest, selected, y_train_HandK, cv=5)\n",
    "cv_results"
   ]
  },
  {
   "cell_type": "code",
   "execution_count": null,
   "id": "66277693",
   "metadata": {},
   "outputs": [],
   "source": [
    "randomForest.fit(selected, y_train_HandK)\n",
    "test_selected = X_test_HandK.loc[:, selector.support_]\n",
    "y_pred = randomForest.predict(test_selected)\n",
    "accuracy_score(y_test_HandK, y_pred)"
   ]
  },
  {
   "cell_type": "code",
   "execution_count": null,
   "id": "6bfb44b1",
   "metadata": {},
   "outputs": [],
   "source": [
    "# Tuning max_depth Hyperparameter\n",
    "max_depths = [1, 2, 3, 5, 7, 10, 13, 15]\n",
    "scores = []\n",
    "for i in range(len(max_depths)):\n",
    "    randomForest = RandomForestClassifier(max_depth=max_depths[i], random_state=0)\n",
    "    cv_results = cross_validate(randomForest, selected, y_train_HandK, cv=5)\n",
    "    scores.append(np.mean(cv_results.get(\"test_score\")))\n",
    "    print(np.mean(cv_results.get(\"test_score\")))\n",
    "print(\"Best performance: \", max(scores))\n",
    "print(\"Ideal max depth: \", max_depths[scores.index(max(scores))])"
   ]
  },
  {
   "cell_type": "markdown",
   "id": "207bda5f",
   "metadata": {},
   "source": [
    "#### RFE for Decision Tree"
   ]
  },
  {
   "cell_type": "code",
   "execution_count": null,
   "id": "7ec04c90",
   "metadata": {},
   "outputs": [],
   "source": [
    "estimator = tree.DecisionTreeClassifier()\n",
    "selector = RFE(estimator, n_features_to_select=4, step=1)\n",
    "selector = selector.fit(X_train_HandK, y_train_HandK)"
   ]
  },
  {
   "cell_type": "code",
   "execution_count": null,
   "id": "368a3aeb",
   "metadata": {},
   "outputs": [],
   "source": [
    "selector.support_"
   ]
  },
  {
   "cell_type": "code",
   "execution_count": null,
   "id": "6ae41843",
   "metadata": {},
   "outputs": [],
   "source": [
    "selected = X_train_HandK.loc[:, selector.support_]\n",
    "selected"
   ]
  },
  {
   "cell_type": "code",
   "execution_count": null,
   "id": "ef672437",
   "metadata": {},
   "outputs": [],
   "source": [
    "decisionTree = tree.DecisionTreeClassifier()\n",
    "cv_results = cross_validate(decisionTree, selected, y_train_HandK, cv=5, return_train_score=True)\n",
    "cv_results"
   ]
  },
  {
   "cell_type": "code",
   "execution_count": null,
   "id": "a5328cc8",
   "metadata": {},
   "outputs": [],
   "source": [
    "decisionTree.fit(selected, y_train_HandK)\n",
    "test_selected = X_test_HandK.loc[:, selector.support_]\n",
    "y_pred = decisionTree.predict(test_selected)\n",
    "accuracy_score(y_test_HandK, y_pred)"
   ]
  },
  {
   "cell_type": "code",
   "execution_count": null,
   "id": "4c832ded",
   "metadata": {},
   "outputs": [],
   "source": [
    "# Tuning max_depth Hyperparameter\n",
    "max_depths = [1, 2, 3, 5, 7, 10, 13, 15]\n",
    "scores = []\n",
    "for i in range(len(max_depths)):\n",
    "    decisionTree = tree.DecisionTreeClassifier(max_depth=max_depths[i], random_state=0)\n",
    "    cv_results = cross_validate(decisionTree, selected, y_train_HandK, cv=5)\n",
    "    scores.append(np.mean(cv_results.get(\"test_score\")))\n",
    "    print(np.mean(cv_results.get(\"test_score\")))\n",
    "print(\"Best performance: \", max(scores))\n",
    "print(\"Ideal max depth: \", max_depths[scores.index(max(scores))])"
   ]
  },
  {
   "cell_type": "markdown",
   "id": "6a44f81c",
   "metadata": {},
   "source": [
    "#### Scoring Methods for KNN"
   ]
  },
  {
   "cell_type": "code",
   "execution_count": null,
   "id": "5d044c66",
   "metadata": {},
   "outputs": [],
   "source": [
    "# Perform Univariate Feature Selection\n",
    "selector = SelectKBest(chi2, k=2)\n",
    "X_train_HandK_selected = selector.fit_transform(X_train_HandK, y_train_HandK)\n",
    "X_test_HandK_selected = selector.fit_transform(X_test_HandK, y_test_HandK)\n",
    "\n",
    "# Tuning k Hyperparameter\n",
    "max_k = 15\n",
    "scores = []\n",
    "for k in range(1, max_k):\n",
    "    knn = KNeighborsClassifier(n_neighbors=k)\n",
    "    knn.fit(X_train_HandK_selected, y_train_HandK)\n",
    "    y_pred = knn.predict(X_test_HandK_selected)\n",
    "    cv_results = cross_validate(knn, X_train_HandK_selected, y_train_HandK, cv=10)\n",
    "    scores.append(np.mean(cv_results.get(\"test_score\")))\n",
    "\n",
    "print(\"Best performance: \", max(scores))\n",
    "print(\"Ideal k: \", scores.index(max(scores))+1)\n"
   ]
  },
  {
   "cell_type": "markdown",
   "id": "405712f0",
   "metadata": {},
   "source": [
    "#### RFE for SVM"
   ]
  },
  {
   "cell_type": "code",
   "execution_count": null,
   "id": "c282c2fc",
   "metadata": {},
   "outputs": [],
   "source": [
    "estimator = SVC(kernel='linear', C=1)\n",
    "selector = RFE(estimator, n_features_to_select=4, step=1)\n",
    "selector = selector.fit(X_train_HandK, y_train_HandK)"
   ]
  },
  {
   "cell_type": "code",
   "execution_count": null,
   "id": "5972f209",
   "metadata": {},
   "outputs": [],
   "source": [
    "X_train_HandK_selected = X_train_HandK.loc[:, selector.support_]"
   ]
  },
  {
   "cell_type": "code",
   "execution_count": null,
   "id": "9231cc9d",
   "metadata": {},
   "outputs": [],
   "source": [
    "# Tuning C Hyperparameter with selected features\n",
    "max_C = 15\n",
    "scores = []\n",
    "for C in range(1, max_C):\n",
    "    svm = SVC(kernel='linear', C=C)\n",
    "    svm.fit(X_train_HandK_selected, y_train_HandK)\n",
    "    y_pred = svm.predict(X_train_HandK_selected)\n",
    "    cv_results = cross_validate(svm, X_train_HandK_selected, y_train_HandK, cv=10)\n",
    "    scores.append(np.mean(cv_results.get(\"test_score\")))\n",
    "\n",
    "print(\"Best performance: \", max(scores))\n",
    "print(\"Ideal C: \", scores.index(max(scores))+1)"
   ]
  }
 ],
 "metadata": {
  "kernelspec": {
   "display_name": "Python 3 (ipykernel)",
   "language": "python",
   "name": "python3"
  },
  "language_info": {
   "codemirror_mode": {
    "name": "ipython",
    "version": 3
   },
   "file_extension": ".py",
   "mimetype": "text/x-python",
   "name": "python",
   "nbconvert_exporter": "python",
   "pygments_lexer": "ipython3",
   "version": "3.9.5"
  }
 },
 "nbformat": 4,
 "nbformat_minor": 5
}
