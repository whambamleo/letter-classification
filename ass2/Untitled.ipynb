{
 "cells": [
  {
   "cell_type": "code",
   "execution_count": 9,
   "id": "34c33536",
   "metadata": {},
   "outputs": [],
   "source": [
    "import pandas as pd\n",
    "import numpy as np\n",
    "from sklearn.model_selection import train_test_split\n",
    "from pandas_profiling import ProfileReport\n",
    "from sklearn.ensemble import RandomForestClassifier\n",
    "from sklearn.datasets import make_classification\n",
    "from sklearn.metrics import r2_score\n",
    "from sklearn.metrics import accuracy_score\n",
    "from sklearn.model_selection import cross_validate\n",
    "from sklearn import tree\n",
    "from sklearn.feature_selection import RFE\n",
    "from sklearn.feature_selection import SelectKBest, chi2\n",
    "from sklearn.neighbors import KNeighborsClassifier\n",
    "from sklearn.svm import SVC\n",
    "from sklearn.metrics import confusion_matrix\n",
    "import matplotlib.pyplot as plt\n",
    "%matplotlib inline"
   ]
  },
  {
   "cell_type": "code",
   "execution_count": 10,
   "id": "a9710c15",
   "metadata": {},
   "outputs": [
    {
     "data": {
      "text/html": [
       "<div>\n",
       "<style scoped>\n",
       "    .dataframe tbody tr th:only-of-type {\n",
       "        vertical-align: middle;\n",
       "    }\n",
       "\n",
       "    .dataframe tbody tr th {\n",
       "        vertical-align: top;\n",
       "    }\n",
       "\n",
       "    .dataframe thead th {\n",
       "        text-align: right;\n",
       "    }\n",
       "</style>\n",
       "<table border=\"1\" class=\"dataframe\">\n",
       "  <thead>\n",
       "    <tr style=\"text-align: right;\">\n",
       "      <th></th>\n",
       "      <th>0</th>\n",
       "      <th>1</th>\n",
       "      <th>2</th>\n",
       "      <th>3</th>\n",
       "      <th>4</th>\n",
       "      <th>5</th>\n",
       "      <th>6</th>\n",
       "      <th>7</th>\n",
       "      <th>8</th>\n",
       "      <th>9</th>\n",
       "      <th>10</th>\n",
       "      <th>11</th>\n",
       "      <th>12</th>\n",
       "      <th>13</th>\n",
       "      <th>14</th>\n",
       "      <th>15</th>\n",
       "      <th>16</th>\n",
       "    </tr>\n",
       "  </thead>\n",
       "  <tbody>\n",
       "    <tr>\n",
       "      <th>0</th>\n",
       "      <td>T</td>\n",
       "      <td>2</td>\n",
       "      <td>8</td>\n",
       "      <td>3</td>\n",
       "      <td>5</td>\n",
       "      <td>1</td>\n",
       "      <td>8</td>\n",
       "      <td>13</td>\n",
       "      <td>0</td>\n",
       "      <td>6</td>\n",
       "      <td>6</td>\n",
       "      <td>10</td>\n",
       "      <td>8</td>\n",
       "      <td>0</td>\n",
       "      <td>8</td>\n",
       "      <td>0</td>\n",
       "      <td>8</td>\n",
       "    </tr>\n",
       "    <tr>\n",
       "      <th>1</th>\n",
       "      <td>I</td>\n",
       "      <td>5</td>\n",
       "      <td>12</td>\n",
       "      <td>3</td>\n",
       "      <td>7</td>\n",
       "      <td>2</td>\n",
       "      <td>10</td>\n",
       "      <td>5</td>\n",
       "      <td>5</td>\n",
       "      <td>4</td>\n",
       "      <td>13</td>\n",
       "      <td>3</td>\n",
       "      <td>9</td>\n",
       "      <td>2</td>\n",
       "      <td>8</td>\n",
       "      <td>4</td>\n",
       "      <td>10</td>\n",
       "    </tr>\n",
       "    <tr>\n",
       "      <th>2</th>\n",
       "      <td>D</td>\n",
       "      <td>4</td>\n",
       "      <td>11</td>\n",
       "      <td>6</td>\n",
       "      <td>8</td>\n",
       "      <td>6</td>\n",
       "      <td>10</td>\n",
       "      <td>6</td>\n",
       "      <td>2</td>\n",
       "      <td>6</td>\n",
       "      <td>10</td>\n",
       "      <td>3</td>\n",
       "      <td>7</td>\n",
       "      <td>3</td>\n",
       "      <td>7</td>\n",
       "      <td>3</td>\n",
       "      <td>9</td>\n",
       "    </tr>\n",
       "    <tr>\n",
       "      <th>3</th>\n",
       "      <td>N</td>\n",
       "      <td>7</td>\n",
       "      <td>11</td>\n",
       "      <td>6</td>\n",
       "      <td>6</td>\n",
       "      <td>3</td>\n",
       "      <td>5</td>\n",
       "      <td>9</td>\n",
       "      <td>4</td>\n",
       "      <td>6</td>\n",
       "      <td>4</td>\n",
       "      <td>4</td>\n",
       "      <td>10</td>\n",
       "      <td>6</td>\n",
       "      <td>10</td>\n",
       "      <td>2</td>\n",
       "      <td>8</td>\n",
       "    </tr>\n",
       "    <tr>\n",
       "      <th>4</th>\n",
       "      <td>G</td>\n",
       "      <td>2</td>\n",
       "      <td>1</td>\n",
       "      <td>3</td>\n",
       "      <td>1</td>\n",
       "      <td>1</td>\n",
       "      <td>8</td>\n",
       "      <td>6</td>\n",
       "      <td>6</td>\n",
       "      <td>6</td>\n",
       "      <td>6</td>\n",
       "      <td>5</td>\n",
       "      <td>9</td>\n",
       "      <td>1</td>\n",
       "      <td>7</td>\n",
       "      <td>5</td>\n",
       "      <td>10</td>\n",
       "    </tr>\n",
       "    <tr>\n",
       "      <th>...</th>\n",
       "      <td>...</td>\n",
       "      <td>...</td>\n",
       "      <td>...</td>\n",
       "      <td>...</td>\n",
       "      <td>...</td>\n",
       "      <td>...</td>\n",
       "      <td>...</td>\n",
       "      <td>...</td>\n",
       "      <td>...</td>\n",
       "      <td>...</td>\n",
       "      <td>...</td>\n",
       "      <td>...</td>\n",
       "      <td>...</td>\n",
       "      <td>...</td>\n",
       "      <td>...</td>\n",
       "      <td>...</td>\n",
       "      <td>...</td>\n",
       "    </tr>\n",
       "    <tr>\n",
       "      <th>19995</th>\n",
       "      <td>D</td>\n",
       "      <td>2</td>\n",
       "      <td>2</td>\n",
       "      <td>3</td>\n",
       "      <td>3</td>\n",
       "      <td>2</td>\n",
       "      <td>7</td>\n",
       "      <td>7</td>\n",
       "      <td>7</td>\n",
       "      <td>6</td>\n",
       "      <td>6</td>\n",
       "      <td>6</td>\n",
       "      <td>4</td>\n",
       "      <td>2</td>\n",
       "      <td>8</td>\n",
       "      <td>3</td>\n",
       "      <td>7</td>\n",
       "    </tr>\n",
       "    <tr>\n",
       "      <th>19996</th>\n",
       "      <td>C</td>\n",
       "      <td>7</td>\n",
       "      <td>10</td>\n",
       "      <td>8</td>\n",
       "      <td>8</td>\n",
       "      <td>4</td>\n",
       "      <td>4</td>\n",
       "      <td>8</td>\n",
       "      <td>6</td>\n",
       "      <td>9</td>\n",
       "      <td>12</td>\n",
       "      <td>9</td>\n",
       "      <td>13</td>\n",
       "      <td>2</td>\n",
       "      <td>9</td>\n",
       "      <td>3</td>\n",
       "      <td>7</td>\n",
       "    </tr>\n",
       "    <tr>\n",
       "      <th>19997</th>\n",
       "      <td>T</td>\n",
       "      <td>6</td>\n",
       "      <td>9</td>\n",
       "      <td>6</td>\n",
       "      <td>7</td>\n",
       "      <td>5</td>\n",
       "      <td>6</td>\n",
       "      <td>11</td>\n",
       "      <td>3</td>\n",
       "      <td>7</td>\n",
       "      <td>11</td>\n",
       "      <td>9</td>\n",
       "      <td>5</td>\n",
       "      <td>2</td>\n",
       "      <td>12</td>\n",
       "      <td>2</td>\n",
       "      <td>4</td>\n",
       "    </tr>\n",
       "    <tr>\n",
       "      <th>19998</th>\n",
       "      <td>S</td>\n",
       "      <td>2</td>\n",
       "      <td>3</td>\n",
       "      <td>4</td>\n",
       "      <td>2</td>\n",
       "      <td>1</td>\n",
       "      <td>8</td>\n",
       "      <td>7</td>\n",
       "      <td>2</td>\n",
       "      <td>6</td>\n",
       "      <td>10</td>\n",
       "      <td>6</td>\n",
       "      <td>8</td>\n",
       "      <td>1</td>\n",
       "      <td>9</td>\n",
       "      <td>5</td>\n",
       "      <td>8</td>\n",
       "    </tr>\n",
       "    <tr>\n",
       "      <th>19999</th>\n",
       "      <td>A</td>\n",
       "      <td>4</td>\n",
       "      <td>9</td>\n",
       "      <td>6</td>\n",
       "      <td>6</td>\n",
       "      <td>2</td>\n",
       "      <td>9</td>\n",
       "      <td>5</td>\n",
       "      <td>3</td>\n",
       "      <td>1</td>\n",
       "      <td>8</td>\n",
       "      <td>1</td>\n",
       "      <td>8</td>\n",
       "      <td>2</td>\n",
       "      <td>7</td>\n",
       "      <td>2</td>\n",
       "      <td>8</td>\n",
       "    </tr>\n",
       "  </tbody>\n",
       "</table>\n",
       "<p>20000 rows × 17 columns</p>\n",
       "</div>"
      ],
      "text/plain": [
       "      0   1   2   3   4   5   6   7   8   9   10  11  12  13  14  15  16\n",
       "0      T   2   8   3   5   1   8  13   0   6   6  10   8   0   8   0   8\n",
       "1      I   5  12   3   7   2  10   5   5   4  13   3   9   2   8   4  10\n",
       "2      D   4  11   6   8   6  10   6   2   6  10   3   7   3   7   3   9\n",
       "3      N   7  11   6   6   3   5   9   4   6   4   4  10   6  10   2   8\n",
       "4      G   2   1   3   1   1   8   6   6   6   6   5   9   1   7   5  10\n",
       "...   ..  ..  ..  ..  ..  ..  ..  ..  ..  ..  ..  ..  ..  ..  ..  ..  ..\n",
       "19995  D   2   2   3   3   2   7   7   7   6   6   6   4   2   8   3   7\n",
       "19996  C   7  10   8   8   4   4   8   6   9  12   9  13   2   9   3   7\n",
       "19997  T   6   9   6   7   5   6  11   3   7  11   9   5   2  12   2   4\n",
       "19998  S   2   3   4   2   1   8   7   2   6  10   6   8   1   9   5   8\n",
       "19999  A   4   9   6   6   2   9   5   3   1   8   1   8   2   7   2   8\n",
       "\n",
       "[20000 rows x 17 columns]"
      ]
     },
     "execution_count": 10,
     "metadata": {},
     "output_type": "execute_result"
    }
   ],
   "source": [
    "data =  pd.read_csv('data/letter-recognition.data', sep=\",\", header = None)\n",
    "data"
   ]
  },
  {
   "cell_type": "code",
   "execution_count": 11,
   "id": "edde2be0",
   "metadata": {},
   "outputs": [],
   "source": [
    "columnNames = [\"lettr\", \"x_box\", \"y_box\", \"width\", \"thigh\", \"onpix\", \"x_bar\", \"y_bar\", \"x2_bar\", \"y2_bar\", \"xy_bar\", \"x2y_br\", \"xy2br\", \"x_ege\", \"xegvy\", \"y_ege\", \"yegvx\"]"
   ]
  },
  {
   "cell_type": "code",
   "execution_count": 12,
   "id": "244fb267",
   "metadata": {},
   "outputs": [],
   "source": [
    "data.columns = columnNames"
   ]
  },
  {
   "cell_type": "code",
   "execution_count": 13,
   "id": "512e570d",
   "metadata": {},
   "outputs": [
    {
     "data": {
      "text/html": [
       "<div>\n",
       "<style scoped>\n",
       "    .dataframe tbody tr th:only-of-type {\n",
       "        vertical-align: middle;\n",
       "    }\n",
       "\n",
       "    .dataframe tbody tr th {\n",
       "        vertical-align: top;\n",
       "    }\n",
       "\n",
       "    .dataframe thead th {\n",
       "        text-align: right;\n",
       "    }\n",
       "</style>\n",
       "<table border=\"1\" class=\"dataframe\">\n",
       "  <thead>\n",
       "    <tr style=\"text-align: right;\">\n",
       "      <th></th>\n",
       "      <th>lettr</th>\n",
       "      <th>x_box</th>\n",
       "      <th>y_box</th>\n",
       "      <th>width</th>\n",
       "      <th>thigh</th>\n",
       "      <th>onpix</th>\n",
       "      <th>x_bar</th>\n",
       "      <th>y_bar</th>\n",
       "      <th>x2_bar</th>\n",
       "      <th>y2_bar</th>\n",
       "      <th>xy_bar</th>\n",
       "      <th>x2y_br</th>\n",
       "      <th>xy2br</th>\n",
       "      <th>x_ege</th>\n",
       "      <th>xegvy</th>\n",
       "      <th>y_ege</th>\n",
       "      <th>yegvx</th>\n",
       "    </tr>\n",
       "  </thead>\n",
       "  <tbody>\n",
       "    <tr>\n",
       "      <th>21</th>\n",
       "      <td>H</td>\n",
       "      <td>4</td>\n",
       "      <td>5</td>\n",
       "      <td>5</td>\n",
       "      <td>4</td>\n",
       "      <td>4</td>\n",
       "      <td>7</td>\n",
       "      <td>7</td>\n",
       "      <td>6</td>\n",
       "      <td>6</td>\n",
       "      <td>7</td>\n",
       "      <td>6</td>\n",
       "      <td>8</td>\n",
       "      <td>3</td>\n",
       "      <td>8</td>\n",
       "      <td>3</td>\n",
       "      <td>8</td>\n",
       "    </tr>\n",
       "    <tr>\n",
       "      <th>28</th>\n",
       "      <td>H</td>\n",
       "      <td>6</td>\n",
       "      <td>9</td>\n",
       "      <td>8</td>\n",
       "      <td>7</td>\n",
       "      <td>6</td>\n",
       "      <td>8</td>\n",
       "      <td>6</td>\n",
       "      <td>6</td>\n",
       "      <td>7</td>\n",
       "      <td>7</td>\n",
       "      <td>7</td>\n",
       "      <td>9</td>\n",
       "      <td>6</td>\n",
       "      <td>8</td>\n",
       "      <td>4</td>\n",
       "      <td>8</td>\n",
       "    </tr>\n",
       "    <tr>\n",
       "      <th>64</th>\n",
       "      <td>H</td>\n",
       "      <td>3</td>\n",
       "      <td>3</td>\n",
       "      <td>4</td>\n",
       "      <td>1</td>\n",
       "      <td>2</td>\n",
       "      <td>8</td>\n",
       "      <td>7</td>\n",
       "      <td>5</td>\n",
       "      <td>6</td>\n",
       "      <td>7</td>\n",
       "      <td>6</td>\n",
       "      <td>8</td>\n",
       "      <td>5</td>\n",
       "      <td>8</td>\n",
       "      <td>3</td>\n",
       "      <td>7</td>\n",
       "    </tr>\n",
       "    <tr>\n",
       "      <th>66</th>\n",
       "      <td>H</td>\n",
       "      <td>3</td>\n",
       "      <td>5</td>\n",
       "      <td>5</td>\n",
       "      <td>4</td>\n",
       "      <td>3</td>\n",
       "      <td>7</td>\n",
       "      <td>8</td>\n",
       "      <td>3</td>\n",
       "      <td>6</td>\n",
       "      <td>10</td>\n",
       "      <td>6</td>\n",
       "      <td>8</td>\n",
       "      <td>3</td>\n",
       "      <td>8</td>\n",
       "      <td>3</td>\n",
       "      <td>8</td>\n",
       "    </tr>\n",
       "    <tr>\n",
       "      <th>69</th>\n",
       "      <td>H</td>\n",
       "      <td>8</td>\n",
       "      <td>12</td>\n",
       "      <td>8</td>\n",
       "      <td>6</td>\n",
       "      <td>4</td>\n",
       "      <td>9</td>\n",
       "      <td>8</td>\n",
       "      <td>4</td>\n",
       "      <td>5</td>\n",
       "      <td>8</td>\n",
       "      <td>4</td>\n",
       "      <td>5</td>\n",
       "      <td>6</td>\n",
       "      <td>9</td>\n",
       "      <td>5</td>\n",
       "      <td>9</td>\n",
       "    </tr>\n",
       "    <tr>\n",
       "      <th>...</th>\n",
       "      <td>...</td>\n",
       "      <td>...</td>\n",
       "      <td>...</td>\n",
       "      <td>...</td>\n",
       "      <td>...</td>\n",
       "      <td>...</td>\n",
       "      <td>...</td>\n",
       "      <td>...</td>\n",
       "      <td>...</td>\n",
       "      <td>...</td>\n",
       "      <td>...</td>\n",
       "      <td>...</td>\n",
       "      <td>...</td>\n",
       "      <td>...</td>\n",
       "      <td>...</td>\n",
       "      <td>...</td>\n",
       "      <td>...</td>\n",
       "    </tr>\n",
       "    <tr>\n",
       "      <th>19921</th>\n",
       "      <td>K</td>\n",
       "      <td>7</td>\n",
       "      <td>14</td>\n",
       "      <td>8</td>\n",
       "      <td>8</td>\n",
       "      <td>5</td>\n",
       "      <td>9</td>\n",
       "      <td>6</td>\n",
       "      <td>3</td>\n",
       "      <td>5</td>\n",
       "      <td>11</td>\n",
       "      <td>3</td>\n",
       "      <td>7</td>\n",
       "      <td>5</td>\n",
       "      <td>7</td>\n",
       "      <td>4</td>\n",
       "      <td>8</td>\n",
       "    </tr>\n",
       "    <tr>\n",
       "      <th>19931</th>\n",
       "      <td>K</td>\n",
       "      <td>3</td>\n",
       "      <td>1</td>\n",
       "      <td>5</td>\n",
       "      <td>3</td>\n",
       "      <td>3</td>\n",
       "      <td>6</td>\n",
       "      <td>7</td>\n",
       "      <td>4</td>\n",
       "      <td>8</td>\n",
       "      <td>7</td>\n",
       "      <td>6</td>\n",
       "      <td>11</td>\n",
       "      <td>3</td>\n",
       "      <td>8</td>\n",
       "      <td>5</td>\n",
       "      <td>9</td>\n",
       "    </tr>\n",
       "    <tr>\n",
       "      <th>19937</th>\n",
       "      <td>H</td>\n",
       "      <td>3</td>\n",
       "      <td>8</td>\n",
       "      <td>5</td>\n",
       "      <td>6</td>\n",
       "      <td>4</td>\n",
       "      <td>8</td>\n",
       "      <td>8</td>\n",
       "      <td>7</td>\n",
       "      <td>7</td>\n",
       "      <td>7</td>\n",
       "      <td>5</td>\n",
       "      <td>7</td>\n",
       "      <td>3</td>\n",
       "      <td>8</td>\n",
       "      <td>3</td>\n",
       "      <td>7</td>\n",
       "    </tr>\n",
       "    <tr>\n",
       "      <th>19957</th>\n",
       "      <td>H</td>\n",
       "      <td>5</td>\n",
       "      <td>7</td>\n",
       "      <td>8</td>\n",
       "      <td>5</td>\n",
       "      <td>5</td>\n",
       "      <td>9</td>\n",
       "      <td>7</td>\n",
       "      <td>3</td>\n",
       "      <td>6</td>\n",
       "      <td>10</td>\n",
       "      <td>4</td>\n",
       "      <td>7</td>\n",
       "      <td>5</td>\n",
       "      <td>8</td>\n",
       "      <td>4</td>\n",
       "      <td>9</td>\n",
       "    </tr>\n",
       "    <tr>\n",
       "      <th>19978</th>\n",
       "      <td>K</td>\n",
       "      <td>5</td>\n",
       "      <td>11</td>\n",
       "      <td>5</td>\n",
       "      <td>8</td>\n",
       "      <td>5</td>\n",
       "      <td>3</td>\n",
       "      <td>8</td>\n",
       "      <td>7</td>\n",
       "      <td>3</td>\n",
       "      <td>6</td>\n",
       "      <td>4</td>\n",
       "      <td>11</td>\n",
       "      <td>3</td>\n",
       "      <td>8</td>\n",
       "      <td>2</td>\n",
       "      <td>11</td>\n",
       "    </tr>\n",
       "  </tbody>\n",
       "</table>\n",
       "<p>1473 rows × 17 columns</p>\n",
       "</div>"
      ],
      "text/plain": [
       "      lettr  x_box  y_box  width  thigh  onpix  x_bar  y_bar  x2_bar  y2_bar  \\\n",
       "21        H      4      5      5      4      4      7      7       6       6   \n",
       "28        H      6      9      8      7      6      8      6       6       7   \n",
       "64        H      3      3      4      1      2      8      7       5       6   \n",
       "66        H      3      5      5      4      3      7      8       3       6   \n",
       "69        H      8     12      8      6      4      9      8       4       5   \n",
       "...     ...    ...    ...    ...    ...    ...    ...    ...     ...     ...   \n",
       "19921     K      7     14      8      8      5      9      6       3       5   \n",
       "19931     K      3      1      5      3      3      6      7       4       8   \n",
       "19937     H      3      8      5      6      4      8      8       7       7   \n",
       "19957     H      5      7      8      5      5      9      7       3       6   \n",
       "19978     K      5     11      5      8      5      3      8       7       3   \n",
       "\n",
       "       xy_bar  x2y_br  xy2br  x_ege  xegvy  y_ege  yegvx  \n",
       "21          7       6      8      3      8      3      8  \n",
       "28          7       7      9      6      8      4      8  \n",
       "64          7       6      8      5      8      3      7  \n",
       "66         10       6      8      3      8      3      8  \n",
       "69          8       4      5      6      9      5      9  \n",
       "...       ...     ...    ...    ...    ...    ...    ...  \n",
       "19921      11       3      7      5      7      4      8  \n",
       "19931       7       6     11      3      8      5      9  \n",
       "19937       7       5      7      3      8      3      7  \n",
       "19957      10       4      7      5      8      4      9  \n",
       "19978       6       4     11      3      8      2     11  \n",
       "\n",
       "[1473 rows x 17 columns]"
      ]
     },
     "execution_count": 13,
     "metadata": {},
     "output_type": "execute_result"
    }
   ],
   "source": [
    "HandK = data[(data['lettr'] == 'H') | (data['lettr'] == 'K')]\n",
    "HandK"
   ]
  },
  {
   "cell_type": "code",
   "execution_count": 14,
   "id": "7760c1cb",
   "metadata": {},
   "outputs": [
    {
     "data": {
      "text/html": [
       "<div>\n",
       "<style scoped>\n",
       "    .dataframe tbody tr th:only-of-type {\n",
       "        vertical-align: middle;\n",
       "    }\n",
       "\n",
       "    .dataframe tbody tr th {\n",
       "        vertical-align: top;\n",
       "    }\n",
       "\n",
       "    .dataframe thead th {\n",
       "        text-align: right;\n",
       "    }\n",
       "</style>\n",
       "<table border=\"1\" class=\"dataframe\">\n",
       "  <thead>\n",
       "    <tr style=\"text-align: right;\">\n",
       "      <th></th>\n",
       "      <th>lettr</th>\n",
       "      <th>x_box</th>\n",
       "      <th>y_box</th>\n",
       "      <th>width</th>\n",
       "      <th>thigh</th>\n",
       "      <th>onpix</th>\n",
       "      <th>x_bar</th>\n",
       "      <th>y_bar</th>\n",
       "      <th>x2_bar</th>\n",
       "      <th>y2_bar</th>\n",
       "      <th>xy_bar</th>\n",
       "      <th>x2y_br</th>\n",
       "      <th>xy2br</th>\n",
       "      <th>x_ege</th>\n",
       "      <th>xegvy</th>\n",
       "      <th>y_ege</th>\n",
       "      <th>yegvx</th>\n",
       "    </tr>\n",
       "  </thead>\n",
       "  <tbody>\n",
       "    <tr>\n",
       "      <th>9</th>\n",
       "      <td>M</td>\n",
       "      <td>11</td>\n",
       "      <td>15</td>\n",
       "      <td>13</td>\n",
       "      <td>9</td>\n",
       "      <td>7</td>\n",
       "      <td>13</td>\n",
       "      <td>2</td>\n",
       "      <td>6</td>\n",
       "      <td>2</td>\n",
       "      <td>12</td>\n",
       "      <td>1</td>\n",
       "      <td>9</td>\n",
       "      <td>8</td>\n",
       "      <td>1</td>\n",
       "      <td>1</td>\n",
       "      <td>8</td>\n",
       "    </tr>\n",
       "    <tr>\n",
       "      <th>13</th>\n",
       "      <td>M</td>\n",
       "      <td>6</td>\n",
       "      <td>9</td>\n",
       "      <td>8</td>\n",
       "      <td>6</td>\n",
       "      <td>9</td>\n",
       "      <td>7</td>\n",
       "      <td>8</td>\n",
       "      <td>6</td>\n",
       "      <td>5</td>\n",
       "      <td>7</td>\n",
       "      <td>5</td>\n",
       "      <td>8</td>\n",
       "      <td>8</td>\n",
       "      <td>9</td>\n",
       "      <td>8</td>\n",
       "      <td>6</td>\n",
       "    </tr>\n",
       "    <tr>\n",
       "      <th>26</th>\n",
       "      <td>M</td>\n",
       "      <td>7</td>\n",
       "      <td>11</td>\n",
       "      <td>11</td>\n",
       "      <td>8</td>\n",
       "      <td>9</td>\n",
       "      <td>3</td>\n",
       "      <td>8</td>\n",
       "      <td>4</td>\n",
       "      <td>5</td>\n",
       "      <td>10</td>\n",
       "      <td>11</td>\n",
       "      <td>10</td>\n",
       "      <td>10</td>\n",
       "      <td>9</td>\n",
       "      <td>5</td>\n",
       "      <td>7</td>\n",
       "    </tr>\n",
       "    <tr>\n",
       "      <th>34</th>\n",
       "      <td>M</td>\n",
       "      <td>6</td>\n",
       "      <td>9</td>\n",
       "      <td>9</td>\n",
       "      <td>7</td>\n",
       "      <td>6</td>\n",
       "      <td>5</td>\n",
       "      <td>6</td>\n",
       "      <td>3</td>\n",
       "      <td>5</td>\n",
       "      <td>10</td>\n",
       "      <td>9</td>\n",
       "      <td>9</td>\n",
       "      <td>8</td>\n",
       "      <td>5</td>\n",
       "      <td>2</td>\n",
       "      <td>7</td>\n",
       "    </tr>\n",
       "    <tr>\n",
       "      <th>50</th>\n",
       "      <td>Y</td>\n",
       "      <td>7</td>\n",
       "      <td>11</td>\n",
       "      <td>9</td>\n",
       "      <td>8</td>\n",
       "      <td>8</td>\n",
       "      <td>9</td>\n",
       "      <td>5</td>\n",
       "      <td>6</td>\n",
       "      <td>4</td>\n",
       "      <td>7</td>\n",
       "      <td>8</td>\n",
       "      <td>8</td>\n",
       "      <td>3</td>\n",
       "      <td>9</td>\n",
       "      <td>8</td>\n",
       "      <td>3</td>\n",
       "    </tr>\n",
       "    <tr>\n",
       "      <th>...</th>\n",
       "      <td>...</td>\n",
       "      <td>...</td>\n",
       "      <td>...</td>\n",
       "      <td>...</td>\n",
       "      <td>...</td>\n",
       "      <td>...</td>\n",
       "      <td>...</td>\n",
       "      <td>...</td>\n",
       "      <td>...</td>\n",
       "      <td>...</td>\n",
       "      <td>...</td>\n",
       "      <td>...</td>\n",
       "      <td>...</td>\n",
       "      <td>...</td>\n",
       "      <td>...</td>\n",
       "      <td>...</td>\n",
       "      <td>...</td>\n",
       "    </tr>\n",
       "    <tr>\n",
       "      <th>19940</th>\n",
       "      <td>Y</td>\n",
       "      <td>6</td>\n",
       "      <td>9</td>\n",
       "      <td>5</td>\n",
       "      <td>5</td>\n",
       "      <td>2</td>\n",
       "      <td>5</td>\n",
       "      <td>9</td>\n",
       "      <td>3</td>\n",
       "      <td>3</td>\n",
       "      <td>10</td>\n",
       "      <td>9</td>\n",
       "      <td>5</td>\n",
       "      <td>3</td>\n",
       "      <td>10</td>\n",
       "      <td>3</td>\n",
       "      <td>4</td>\n",
       "    </tr>\n",
       "    <tr>\n",
       "      <th>19949</th>\n",
       "      <td>M</td>\n",
       "      <td>5</td>\n",
       "      <td>8</td>\n",
       "      <td>7</td>\n",
       "      <td>6</td>\n",
       "      <td>7</td>\n",
       "      <td>8</td>\n",
       "      <td>6</td>\n",
       "      <td>6</td>\n",
       "      <td>5</td>\n",
       "      <td>7</td>\n",
       "      <td>7</td>\n",
       "      <td>10</td>\n",
       "      <td>11</td>\n",
       "      <td>6</td>\n",
       "      <td>2</td>\n",
       "      <td>9</td>\n",
       "    </tr>\n",
       "    <tr>\n",
       "      <th>19979</th>\n",
       "      <td>M</td>\n",
       "      <td>6</td>\n",
       "      <td>9</td>\n",
       "      <td>10</td>\n",
       "      <td>7</td>\n",
       "      <td>12</td>\n",
       "      <td>7</td>\n",
       "      <td>5</td>\n",
       "      <td>3</td>\n",
       "      <td>2</td>\n",
       "      <td>7</td>\n",
       "      <td>5</td>\n",
       "      <td>8</td>\n",
       "      <td>15</td>\n",
       "      <td>7</td>\n",
       "      <td>4</td>\n",
       "      <td>6</td>\n",
       "    </tr>\n",
       "    <tr>\n",
       "      <th>19982</th>\n",
       "      <td>Y</td>\n",
       "      <td>3</td>\n",
       "      <td>9</td>\n",
       "      <td>5</td>\n",
       "      <td>6</td>\n",
       "      <td>3</td>\n",
       "      <td>7</td>\n",
       "      <td>9</td>\n",
       "      <td>1</td>\n",
       "      <td>6</td>\n",
       "      <td>6</td>\n",
       "      <td>11</td>\n",
       "      <td>8</td>\n",
       "      <td>2</td>\n",
       "      <td>11</td>\n",
       "      <td>2</td>\n",
       "      <td>7</td>\n",
       "    </tr>\n",
       "    <tr>\n",
       "      <th>19985</th>\n",
       "      <td>M</td>\n",
       "      <td>5</td>\n",
       "      <td>6</td>\n",
       "      <td>8</td>\n",
       "      <td>4</td>\n",
       "      <td>5</td>\n",
       "      <td>9</td>\n",
       "      <td>6</td>\n",
       "      <td>2</td>\n",
       "      <td>4</td>\n",
       "      <td>9</td>\n",
       "      <td>5</td>\n",
       "      <td>7</td>\n",
       "      <td>8</td>\n",
       "      <td>6</td>\n",
       "      <td>2</td>\n",
       "      <td>8</td>\n",
       "    </tr>\n",
       "  </tbody>\n",
       "</table>\n",
       "<p>1578 rows × 17 columns</p>\n",
       "</div>"
      ],
      "text/plain": [
       "      lettr  x_box  y_box  width  thigh  onpix  x_bar  y_bar  x2_bar  y2_bar  \\\n",
       "9         M     11     15     13      9      7     13      2       6       2   \n",
       "13        M      6      9      8      6      9      7      8       6       5   \n",
       "26        M      7     11     11      8      9      3      8       4       5   \n",
       "34        M      6      9      9      7      6      5      6       3       5   \n",
       "50        Y      7     11      9      8      8      9      5       6       4   \n",
       "...     ...    ...    ...    ...    ...    ...    ...    ...     ...     ...   \n",
       "19940     Y      6      9      5      5      2      5      9       3       3   \n",
       "19949     M      5      8      7      6      7      8      6       6       5   \n",
       "19979     M      6      9     10      7     12      7      5       3       2   \n",
       "19982     Y      3      9      5      6      3      7      9       1       6   \n",
       "19985     M      5      6      8      4      5      9      6       2       4   \n",
       "\n",
       "       xy_bar  x2y_br  xy2br  x_ege  xegvy  y_ege  yegvx  \n",
       "9          12       1      9      8      1      1      8  \n",
       "13          7       5      8      8      9      8      6  \n",
       "26         10      11     10     10      9      5      7  \n",
       "34         10       9      9      8      5      2      7  \n",
       "50          7       8      8      3      9      8      3  \n",
       "...       ...     ...    ...    ...    ...    ...    ...  \n",
       "19940      10       9      5      3     10      3      4  \n",
       "19949       7       7     10     11      6      2      9  \n",
       "19979       7       5      8     15      7      4      6  \n",
       "19982       6      11      8      2     11      2      7  \n",
       "19985       9       5      7      8      6      2      8  \n",
       "\n",
       "[1578 rows x 17 columns]"
      ]
     },
     "execution_count": 14,
     "metadata": {},
     "output_type": "execute_result"
    }
   ],
   "source": [
    "MandY = data[(data['lettr'] == 'M') | (data['lettr'] == 'Y')]\n",
    "MandY"
   ]
  },
  {
   "cell_type": "code",
   "execution_count": 15,
   "id": "548bff39",
   "metadata": {},
   "outputs": [
    {
     "data": {
      "text/html": [
       "<div>\n",
       "<style scoped>\n",
       "    .dataframe tbody tr th:only-of-type {\n",
       "        vertical-align: middle;\n",
       "    }\n",
       "\n",
       "    .dataframe tbody tr th {\n",
       "        vertical-align: top;\n",
       "    }\n",
       "\n",
       "    .dataframe thead th {\n",
       "        text-align: right;\n",
       "    }\n",
       "</style>\n",
       "<table border=\"1\" class=\"dataframe\">\n",
       "  <thead>\n",
       "    <tr style=\"text-align: right;\">\n",
       "      <th></th>\n",
       "      <th>lettr</th>\n",
       "      <th>x_box</th>\n",
       "      <th>y_box</th>\n",
       "      <th>width</th>\n",
       "      <th>thigh</th>\n",
       "      <th>onpix</th>\n",
       "      <th>x_bar</th>\n",
       "      <th>y_bar</th>\n",
       "      <th>x2_bar</th>\n",
       "      <th>y2_bar</th>\n",
       "      <th>xy_bar</th>\n",
       "      <th>x2y_br</th>\n",
       "      <th>xy2br</th>\n",
       "      <th>x_ege</th>\n",
       "      <th>xegvy</th>\n",
       "      <th>y_ege</th>\n",
       "      <th>yegvx</th>\n",
       "    </tr>\n",
       "  </thead>\n",
       "  <tbody>\n",
       "    <tr>\n",
       "      <th>0</th>\n",
       "      <td>T</td>\n",
       "      <td>2</td>\n",
       "      <td>8</td>\n",
       "      <td>3</td>\n",
       "      <td>5</td>\n",
       "      <td>1</td>\n",
       "      <td>8</td>\n",
       "      <td>13</td>\n",
       "      <td>0</td>\n",
       "      <td>6</td>\n",
       "      <td>6</td>\n",
       "      <td>10</td>\n",
       "      <td>8</td>\n",
       "      <td>0</td>\n",
       "      <td>8</td>\n",
       "      <td>0</td>\n",
       "      <td>8</td>\n",
       "    </tr>\n",
       "    <tr>\n",
       "      <th>18</th>\n",
       "      <td>T</td>\n",
       "      <td>6</td>\n",
       "      <td>11</td>\n",
       "      <td>6</td>\n",
       "      <td>8</td>\n",
       "      <td>5</td>\n",
       "      <td>6</td>\n",
       "      <td>11</td>\n",
       "      <td>5</td>\n",
       "      <td>6</td>\n",
       "      <td>11</td>\n",
       "      <td>9</td>\n",
       "      <td>4</td>\n",
       "      <td>3</td>\n",
       "      <td>12</td>\n",
       "      <td>2</td>\n",
       "      <td>4</td>\n",
       "    </tr>\n",
       "    <tr>\n",
       "      <th>39</th>\n",
       "      <td>E</td>\n",
       "      <td>3</td>\n",
       "      <td>4</td>\n",
       "      <td>3</td>\n",
       "      <td>6</td>\n",
       "      <td>2</td>\n",
       "      <td>3</td>\n",
       "      <td>8</td>\n",
       "      <td>6</td>\n",
       "      <td>10</td>\n",
       "      <td>7</td>\n",
       "      <td>6</td>\n",
       "      <td>15</td>\n",
       "      <td>0</td>\n",
       "      <td>8</td>\n",
       "      <td>7</td>\n",
       "      <td>8</td>\n",
       "    </tr>\n",
       "    <tr>\n",
       "      <th>41</th>\n",
       "      <td>E</td>\n",
       "      <td>3</td>\n",
       "      <td>7</td>\n",
       "      <td>4</td>\n",
       "      <td>5</td>\n",
       "      <td>4</td>\n",
       "      <td>7</td>\n",
       "      <td>7</td>\n",
       "      <td>5</td>\n",
       "      <td>8</td>\n",
       "      <td>8</td>\n",
       "      <td>8</td>\n",
       "      <td>9</td>\n",
       "      <td>3</td>\n",
       "      <td>9</td>\n",
       "      <td>6</td>\n",
       "      <td>9</td>\n",
       "    </tr>\n",
       "    <tr>\n",
       "      <th>62</th>\n",
       "      <td>E</td>\n",
       "      <td>6</td>\n",
       "      <td>9</td>\n",
       "      <td>4</td>\n",
       "      <td>4</td>\n",
       "      <td>2</td>\n",
       "      <td>7</td>\n",
       "      <td>7</td>\n",
       "      <td>4</td>\n",
       "      <td>7</td>\n",
       "      <td>10</td>\n",
       "      <td>6</td>\n",
       "      <td>10</td>\n",
       "      <td>1</td>\n",
       "      <td>9</td>\n",
       "      <td>7</td>\n",
       "      <td>9</td>\n",
       "    </tr>\n",
       "    <tr>\n",
       "      <th>...</th>\n",
       "      <td>...</td>\n",
       "      <td>...</td>\n",
       "      <td>...</td>\n",
       "      <td>...</td>\n",
       "      <td>...</td>\n",
       "      <td>...</td>\n",
       "      <td>...</td>\n",
       "      <td>...</td>\n",
       "      <td>...</td>\n",
       "      <td>...</td>\n",
       "      <td>...</td>\n",
       "      <td>...</td>\n",
       "      <td>...</td>\n",
       "      <td>...</td>\n",
       "      <td>...</td>\n",
       "      <td>...</td>\n",
       "      <td>...</td>\n",
       "    </tr>\n",
       "    <tr>\n",
       "      <th>19973</th>\n",
       "      <td>T</td>\n",
       "      <td>4</td>\n",
       "      <td>4</td>\n",
       "      <td>5</td>\n",
       "      <td>3</td>\n",
       "      <td>2</td>\n",
       "      <td>5</td>\n",
       "      <td>12</td>\n",
       "      <td>2</td>\n",
       "      <td>8</td>\n",
       "      <td>11</td>\n",
       "      <td>9</td>\n",
       "      <td>4</td>\n",
       "      <td>0</td>\n",
       "      <td>10</td>\n",
       "      <td>2</td>\n",
       "      <td>4</td>\n",
       "    </tr>\n",
       "    <tr>\n",
       "      <th>19975</th>\n",
       "      <td>E</td>\n",
       "      <td>1</td>\n",
       "      <td>0</td>\n",
       "      <td>1</td>\n",
       "      <td>0</td>\n",
       "      <td>0</td>\n",
       "      <td>5</td>\n",
       "      <td>8</td>\n",
       "      <td>5</td>\n",
       "      <td>7</td>\n",
       "      <td>7</td>\n",
       "      <td>6</td>\n",
       "      <td>12</td>\n",
       "      <td>0</td>\n",
       "      <td>8</td>\n",
       "      <td>6</td>\n",
       "      <td>10</td>\n",
       "    </tr>\n",
       "    <tr>\n",
       "      <th>19992</th>\n",
       "      <td>E</td>\n",
       "      <td>4</td>\n",
       "      <td>9</td>\n",
       "      <td>5</td>\n",
       "      <td>6</td>\n",
       "      <td>3</td>\n",
       "      <td>5</td>\n",
       "      <td>9</td>\n",
       "      <td>2</td>\n",
       "      <td>10</td>\n",
       "      <td>10</td>\n",
       "      <td>8</td>\n",
       "      <td>9</td>\n",
       "      <td>2</td>\n",
       "      <td>8</td>\n",
       "      <td>5</td>\n",
       "      <td>5</td>\n",
       "    </tr>\n",
       "    <tr>\n",
       "      <th>19994</th>\n",
       "      <td>T</td>\n",
       "      <td>5</td>\n",
       "      <td>8</td>\n",
       "      <td>7</td>\n",
       "      <td>7</td>\n",
       "      <td>7</td>\n",
       "      <td>7</td>\n",
       "      <td>9</td>\n",
       "      <td>4</td>\n",
       "      <td>8</td>\n",
       "      <td>7</td>\n",
       "      <td>7</td>\n",
       "      <td>8</td>\n",
       "      <td>3</td>\n",
       "      <td>10</td>\n",
       "      <td>8</td>\n",
       "      <td>6</td>\n",
       "    </tr>\n",
       "    <tr>\n",
       "      <th>19997</th>\n",
       "      <td>T</td>\n",
       "      <td>6</td>\n",
       "      <td>9</td>\n",
       "      <td>6</td>\n",
       "      <td>7</td>\n",
       "      <td>5</td>\n",
       "      <td>6</td>\n",
       "      <td>11</td>\n",
       "      <td>3</td>\n",
       "      <td>7</td>\n",
       "      <td>11</td>\n",
       "      <td>9</td>\n",
       "      <td>5</td>\n",
       "      <td>2</td>\n",
       "      <td>12</td>\n",
       "      <td>2</td>\n",
       "      <td>4</td>\n",
       "    </tr>\n",
       "  </tbody>\n",
       "</table>\n",
       "<p>1564 rows × 17 columns</p>\n",
       "</div>"
      ],
      "text/plain": [
       "      lettr  x_box  y_box  width  thigh  onpix  x_bar  y_bar  x2_bar  y2_bar  \\\n",
       "0         T      2      8      3      5      1      8     13       0       6   \n",
       "18        T      6     11      6      8      5      6     11       5       6   \n",
       "39        E      3      4      3      6      2      3      8       6      10   \n",
       "41        E      3      7      4      5      4      7      7       5       8   \n",
       "62        E      6      9      4      4      2      7      7       4       7   \n",
       "...     ...    ...    ...    ...    ...    ...    ...    ...     ...     ...   \n",
       "19973     T      4      4      5      3      2      5     12       2       8   \n",
       "19975     E      1      0      1      0      0      5      8       5       7   \n",
       "19992     E      4      9      5      6      3      5      9       2      10   \n",
       "19994     T      5      8      7      7      7      7      9       4       8   \n",
       "19997     T      6      9      6      7      5      6     11       3       7   \n",
       "\n",
       "       xy_bar  x2y_br  xy2br  x_ege  xegvy  y_ege  yegvx  \n",
       "0           6      10      8      0      8      0      8  \n",
       "18         11       9      4      3     12      2      4  \n",
       "39          7       6     15      0      8      7      8  \n",
       "41          8       8      9      3      9      6      9  \n",
       "62         10       6     10      1      9      7      9  \n",
       "...       ...     ...    ...    ...    ...    ...    ...  \n",
       "19973      11       9      4      0     10      2      4  \n",
       "19975       7       6     12      0      8      6     10  \n",
       "19992      10       8      9      2      8      5      5  \n",
       "19994       7       7      8      3     10      8      6  \n",
       "19997      11       9      5      2     12      2      4  \n",
       "\n",
       "[1564 rows x 17 columns]"
      ]
     },
     "execution_count": 15,
     "metadata": {},
     "output_type": "execute_result"
    }
   ],
   "source": [
    "EandT = data[(data['lettr'] == 'E') | (data['lettr'] == 'T')]\n",
    "EandT"
   ]
  },
  {
   "cell_type": "code",
   "execution_count": 16,
   "id": "fe9429de",
   "metadata": {},
   "outputs": [],
   "source": [
    "yDataHandK = HandK.lettr\n",
    "yDataMandY = MandY.lettr\n",
    "yDataEandT = EandT.lettr\n",
    "XDataHandK = HandK.drop([\"lettr\"], axis=1)\n",
    "XDataMandY = MandY.drop([\"lettr\"], axis=1)\n",
    "XDataEandT = EandT.drop([\"lettr\"], axis=1)\n",
    "yAll = data.lettr\n",
    "XAll = data.drop([\"lettr\"], axis=1)"
   ]
  },
  {
   "cell_type": "code",
   "execution_count": 17,
   "id": "d4202991",
   "metadata": {},
   "outputs": [],
   "source": [
    "X_train_MandY, X_test_MandY, y_train_MandY, y_test_MandY = train_test_split(XDataMandY, yDataMandY, test_size=0.1, random_state=42)\n",
    "X_train_HandK, X_test_HandK, y_train_HandK, y_test_HandK = train_test_split(XDataHandK, yDataHandK, test_size=0.1, random_state=42)\n",
    "X_train_EandT, X_test_EandT, y_train_EandT, y_test_EandT = train_test_split(XDataEandT, yDataEandT, test_size=0.1, random_state=42)\n",
    "X_train_All, X_test_All, y_train_All, y_test_All = train_test_split(XAll, yAll, test_size=0.1, random_state=42)"
   ]
  },
  {
   "cell_type": "code",
   "execution_count": 10,
   "id": "8b36cddc",
   "metadata": {},
   "outputs": [],
   "source": [
    "# profile = ProfileReport(data, title=\"Pandas Profiling Report\")\n",
    "# profile"
   ]
  },
  {
   "cell_type": "markdown",
   "id": "889a5549",
   "metadata": {},
   "source": [
    "## M and Y"
   ]
  },
  {
   "cell_type": "markdown",
   "id": "025d19fc",
   "metadata": {},
   "source": [
    "#### Random Forest Classifier"
   ]
  },
  {
   "cell_type": "code",
   "execution_count": 11,
   "id": "92097a86",
   "metadata": {},
   "outputs": [
    {
     "name": "stdout",
     "output_type": "stream",
     "text": [
      "0.9788732394366196\n"
     ]
    }
   ],
   "source": [
    "randomForest = RandomForestClassifier(max_depth=2, random_state=0)\n",
    "cv_results = cross_validate(randomForest, X_train_MandY, y_train_MandY, cv=5)\n",
    "print(np.mean(cv_results.get(\"test_score\")))"
   ]
  },
  {
   "cell_type": "code",
   "execution_count": 12,
   "id": "3c907c8e",
   "metadata": {},
   "outputs": [
    {
     "name": "stdout",
     "output_type": "stream",
     "text": [
      "0.9570422535211268\n",
      "0.9788732394366196\n",
      "0.9880281690140844\n",
      "0.9943661971830986\n",
      "0.9964788732394366\n",
      "0.9971830985915492\n",
      "0.9971830985915492\n",
      "0.9971830985915492\n",
      "Best performance:  0.9971830985915492\n",
      "Ideal max depth:  10\n"
     ]
    }
   ],
   "source": [
    "# Tuning max_depth Hyperparameter\n",
    "max_depths = [1, 2, 3, 5, 7, 10, 13, 15]\n",
    "scores = []\n",
    "for i in range(len(max_depths)):\n",
    "    randomForest = RandomForestClassifier(max_depth=max_depths[i], random_state=0)\n",
    "    cv_results = cross_validate(randomForest, X_train_MandY, y_train_MandY, cv=5)\n",
    "    scores.append(np.mean(cv_results.get(\"test_score\")))\n",
    "    print(np.mean(cv_results.get(\"test_score\")))\n",
    "print(\"Best performance: \", max(scores))\n",
    "print(\"Ideal max depth: \", max_depths[scores.index(max(scores))])"
   ]
  },
  {
   "cell_type": "code",
   "execution_count": 13,
   "id": "c9c01307",
   "metadata": {},
   "outputs": [
    {
     "data": {
      "image/png": "[encoded data removed]",
      "text/plain": [
       "<Figure size 432x288 with 1 Axes>"
      ]
     },
     "metadata": {
      "needs_background": "light"
     },
     "output_type": "display_data"
    }
   ],
   "source": [
    "plt.plot(max_depths, scores, color='blue', linestyle='solid')\n",
    "plt.xlabel('Hyper-Parameter (max_depth)')\n",
    "plt.ylabel('Score')\n",
    "plt.title('cross validation results vs hyper-parameters.')\n",
    "plt.show()"
   ]
  },
  {
   "cell_type": "code",
   "execution_count": 14,
   "id": "8456b12e",
   "metadata": {},
   "outputs": [
    {
     "data": {
      "text/plain": [
       "0.9936708860759493"
      ]
     },
     "execution_count": 14,
     "metadata": {},
     "output_type": "execute_result"
    }
   ],
   "source": [
    "# make the best model and test with testing data\n",
    "randomForest = RandomForestClassifier(max_depth=10, random_state=0)\n",
    "randomForest.fit(X_train_MandY, y_train_MandY)\n",
    "y_pred = randomForest.predict(X_test_MandY)\n",
    "accuracy_score(y_test_MandY, y_pred)"
   ]
  },
  {
   "cell_type": "markdown",
   "id": "98142c95",
   "metadata": {},
   "source": [
    "Let's dive deeper into the performance of our model with a confusion matrix."
   ]
  },
  {
   "cell_type": "code",
   "execution_count": 15,
   "id": "887de0fa",
   "metadata": {},
   "outputs": [
    {
     "data": {
      "text/plain": [
       "array([[82,  0],\n",
       "       [ 1, 75]], dtype=int64)"
      ]
     },
     "execution_count": 15,
     "metadata": {},
     "output_type": "execute_result"
    }
   ],
   "source": [
    "confusion_matrix(y_test_MandY, y_pred)"
   ]
  },
  {
   "cell_type": "markdown",
   "id": "04c175e4",
   "metadata": {},
   "source": [
    "#### Decision Tree Classifier"
   ]
  },
  {
   "cell_type": "code",
   "execution_count": 16,
   "id": "a04f7fb3",
   "metadata": {},
   "outputs": [
    {
     "name": "stdout",
     "output_type": "stream",
     "text": [
      "0.9929577464788732\n"
     ]
    }
   ],
   "source": [
    "decisionTree = tree.DecisionTreeClassifier()\n",
    "cv_results = cross_validate(decisionTree, X_train_MandY, y_train_MandY, cv=5)\n",
    "print(np.mean(cv_results.get(\"test_score\")))"
   ]
  },
  {
   "cell_type": "code",
   "execution_count": 17,
   "id": "4d4c565e",
   "metadata": {},
   "outputs": [
    {
     "name": "stdout",
     "output_type": "stream",
     "text": [
      "0.95\n",
      "0.9711267605633804\n",
      "0.980281690140845\n",
      "0.9894366197183098\n",
      "0.9922535211267605\n",
      "0.9908450704225352\n",
      "0.9908450704225352\n",
      "0.9908450704225352\n",
      "Best performance:  0.9922535211267605\n",
      "Ideal max depth:  7\n"
     ]
    }
   ],
   "source": [
    "# Tuning max_depth Hyperparameter\n",
    "max_depths = [1, 2, 3, 5, 7, 10, 13, 15]\n",
    "scores = []\n",
    "for i in range(len(max_depths)):\n",
    "    decisionTree = tree.DecisionTreeClassifier(max_depth=max_depths[i], random_state=0)\n",
    "    cv_results = cross_validate(decisionTree, X_train_MandY, y_train_MandY, cv=5)\n",
    "    scores.append(np.mean(cv_results.get(\"test_score\")))\n",
    "    print(np.mean(cv_results.get(\"test_score\")))\n",
    "print(\"Best performance: \", max(scores))\n",
    "print(\"Ideal max depth: \", max_depths[scores.index(max(scores))])"
   ]
  },
  {
   "cell_type": "code",
   "execution_count": 18,
   "id": "38e23c91",
   "metadata": {},
   "outputs": [
    {
     "data": {
      "image/png": "[encoded data removed]",
      "text/plain": [
       "<Figure size 432x288 with 1 Axes>"
      ]
     },
     "metadata": {
      "needs_background": "light"
     },
     "output_type": "display_data"
    }
   ],
   "source": [
    "plt.plot(max_depths, scores, color='blue', linestyle='solid')\n",
    "plt.xlabel('Hyper-Parameter (max_depth)')\n",
    "plt.ylabel('Score')\n",
    "plt.title('cross validation results vs hyper-parameters.')\n",
    "plt.show()"
   ]
  },
  {
   "cell_type": "code",
   "execution_count": 19,
   "id": "8eda4227",
   "metadata": {},
   "outputs": [
    {
     "data": {
      "text/plain": [
       "0.9936708860759493"
      ]
     },
     "execution_count": 19,
     "metadata": {},
     "output_type": "execute_result"
    }
   ],
   "source": [
    "decisionTree = tree.DecisionTreeClassifier(max_depth=7, random_state=0)\n",
    "decisionTree.fit(X_train_MandY, y_train_MandY)\n",
    "y_pred = decisionTree.predict(X_test_MandY)\n",
    "accuracy_score(y_test_MandY, y_pred)"
   ]
  },
  {
   "cell_type": "markdown",
   "id": "26d66bd5",
   "metadata": {},
   "source": [
    "Let's dive deeper into the performance of our model with a confusion matrix."
   ]
  },
  {
   "cell_type": "code",
   "execution_count": 20,
   "id": "d0e26197",
   "metadata": {},
   "outputs": [
    {
     "data": {
      "text/plain": [
       "array([[82,  0],\n",
       "       [ 1, 75]], dtype=int64)"
      ]
     },
     "execution_count": 20,
     "metadata": {},
     "output_type": "execute_result"
    }
   ],
   "source": [
    "confusion_matrix(y_test_MandY, y_pred)"
   ]
  },
  {
   "cell_type": "markdown",
   "id": "47b8982f",
   "metadata": {},
   "source": [
    "#### KNN"
   ]
  },
  {
   "cell_type": "code",
   "execution_count": 21,
   "id": "bd868758",
   "metadata": {},
   "outputs": [
    {
     "name": "stdout",
     "output_type": "stream",
     "text": [
      "Accuracy: 0.9936708860759493\n",
      "\n",
      "Cross-validation Average Test Score:\n",
      "0.997887323943662\n"
     ]
    }
   ],
   "source": [
    "# Create the k-NN classifier with k=3\n",
    "knn = KNeighborsClassifier(n_neighbors=5)\n",
    "\n",
    "# Fit the classifier to the training data\n",
    "knn.fit(X_train_MandY, y_train_MandY)\n",
    "\n",
    "# Predict the classes of the test set\n",
    "y_pred = knn.predict(X_test_MandY)\n",
    "\n",
    "# Calculate the accuracy of the model\n",
    "accuracy = accuracy_score(y_test_MandY, y_pred)\n",
    "\n",
    "# Print the accuracy of the model\n",
    "print(\"Accuracy:\", accuracy)\n",
    "\n",
    "print()\n",
    "print(\"Cross-validation Average Test Score:\")\n",
    "\n",
    "# Perform 10-fold cross-validation\n",
    "cv_results = cross_validate(knn, X_train_MandY, y_train_MandY, cv=5)\n",
    "print(np.mean(cv_results.get(\"test_score\")))"
   ]
  },
  {
   "cell_type": "code",
   "execution_count": 22,
   "id": "385fb91a",
   "metadata": {},
   "outputs": [
    {
     "name": "stdout",
     "output_type": "stream",
     "text": [
      "0.9992957746478872\n",
      "0.9985915492957746\n",
      "0.9992957746478872\n",
      "0.997887323943662\n",
      "0.997887323943662\n",
      "0.997887323943662\n",
      "0.997887323943662\n",
      "0.997887323943662\n",
      "0.997887323943662\n",
      "0.997887323943662\n",
      "0.9971830985915492\n",
      "0.997887323943662\n",
      "0.9971830985915492\n",
      "0.9971830985915492\n",
      "Best performance:  0.9992957746478872\n",
      "Ideal k:  1\n"
     ]
    }
   ],
   "source": [
    "# Tuning k Hyperparameter\n",
    "max_k = 15\n",
    "scores = []\n",
    "for k in range(1, max_k):\n",
    "    knn = KNeighborsClassifier(n_neighbors=k)\n",
    "    knn.fit(X_train_MandY, y_train_MandY)\n",
    "    y_pred = knn.predict(X_test_MandY)\n",
    "    cv_results = cross_validate(knn, X_train_MandY, y_train_MandY, cv=5)\n",
    "    scores.append(np.mean(cv_results.get(\"test_score\")))\n",
    "    print(np.mean(cv_results.get(\"test_score\")))\n",
    "print(\"Best performance: \", max(scores))\n",
    "print(\"Ideal k: \", scores.index(max(scores))+1)"
   ]
  },
  {
   "cell_type": "code",
   "execution_count": 23,
   "id": "3d8c688e",
   "metadata": {},
   "outputs": [
    {
     "data": {
      "image/png": "[encoded data removed]",
      "text/plain": [
       "<Figure size 432x288 with 1 Axes>"
      ]
     },
     "metadata": {
      "needs_background": "light"
     },
     "output_type": "display_data"
    }
   ],
   "source": [
    "plt.plot(list(range(1,15)), scores, color='blue', linestyle='solid')\n",
    "plt.xlabel('Hyper-Parameter (Neighbors)')\n",
    "plt.ylabel('Score')\n",
    "plt.yscale('linear')\n",
    "plt.title('cross validation results vs hyper-parameters.')\n",
    "plt.show()"
   ]
  },
  {
   "cell_type": "code",
   "execution_count": 24,
   "id": "e05b1af0",
   "metadata": {},
   "outputs": [
    {
     "data": {
      "text/plain": [
       "1.0"
      ]
     },
     "execution_count": 24,
     "metadata": {},
     "output_type": "execute_result"
    }
   ],
   "source": [
    "knn = KNeighborsClassifier(n_neighbors=1)\n",
    "knn.fit(X_train_MandY, y_train_MandY)\n",
    "y_pred = knn.predict(X_test_MandY)\n",
    "accuracy_score(y_test_MandY, y_pred)"
   ]
  },
  {
   "cell_type": "markdown",
   "id": "3c2f4dce",
   "metadata": {},
   "source": [
    "Let's dive deeper into the performance of our model with a confusion matrix."
   ]
  },
  {
   "cell_type": "code",
   "execution_count": 25,
   "id": "3c818246",
   "metadata": {},
   "outputs": [
    {
     "data": {
      "text/plain": [
       "array([[82,  0],\n",
       "       [ 0, 76]], dtype=int64)"
      ]
     },
     "execution_count": 25,
     "metadata": {},
     "output_type": "execute_result"
    }
   ],
   "source": [
    "confusion_matrix(y_test_MandY, y_pred)"
   ]
  },
  {
   "cell_type": "markdown",
   "id": "8e93bf8e",
   "metadata": {},
   "source": [
    "#### SVM"
   ]
  },
  {
   "cell_type": "code",
   "execution_count": 26,
   "id": "65e62b8b",
   "metadata": {},
   "outputs": [
    {
     "name": "stdout",
     "output_type": "stream",
     "text": [
      "Accuracy: 1.0\n",
      "\n",
      "Cross-validation Average Test Score:\n",
      "0.9971830985915492\n"
     ]
    }
   ],
   "source": [
    "# Create the SVM classifier\n",
    "svm = SVC(kernel='linear', C=1)\n",
    "\n",
    "# Fit the classifier to the training data\n",
    "svm.fit(X_train_MandY, y_train_MandY)\n",
    "\n",
    "# Predict the classes of the test set\n",
    "y_pred = svm.predict(X_test_MandY)\n",
    "\n",
    "# Calculate the accuracy of the model\n",
    "accuracy = accuracy_score(y_test_MandY, y_pred)\n",
    "\n",
    "# Print the accuracy of the model\n",
    "print(\"Accuracy:\", accuracy)\n",
    "\n",
    "print()\n",
    "print(\"Cross-validation Average Test Score:\")\n",
    "\n",
    "# Perform 10-fold cross-validation\n",
    "cv_results = cross_validate(svm, X_train_MandY, y_train_MandY, cv=5)\n",
    "print(np.mean(cv_results.get(\"test_score\")))"
   ]
  },
  {
   "cell_type": "code",
   "execution_count": 27,
   "id": "72734dab",
   "metadata": {
    "scrolled": false
   },
   "outputs": [
    {
     "name": "stdout",
     "output_type": "stream",
     "text": [
      "Best performance:  0.9971830985915492\n",
      "Ideal C:  1\n"
     ]
    }
   ],
   "source": [
    "# Tuning C Hyperparameter\n",
    "max_C = 15\n",
    "scores = []\n",
    "for C in range(1, max_C):\n",
    "    svm = SVC(kernel='linear', C=C)\n",
    "    svm.fit(X_train_MandY, y_train_MandY)\n",
    "    y_pred = svm.predict(X_test_MandY)\n",
    "    cv_results = cross_validate(svm, X_train_MandY, y_train_MandY, cv=5)\n",
    "    scores.append(np.mean(cv_results.get(\"test_score\")))\n",
    "\n",
    "print(\"Best performance: \", max(scores))\n",
    "print(\"Ideal C: \", scores.index(max(scores))+1)"
   ]
  },
  {
   "cell_type": "code",
   "execution_count": 28,
   "id": "2f79e627",
   "metadata": {},
   "outputs": [
    {
     "data": {
      "image/png": "[encoded data removed]",
      "text/plain": [
       "<Figure size 432x288 with 1 Axes>"
      ]
     },
     "metadata": {
      "needs_background": "light"
     },
     "output_type": "display_data"
    }
   ],
   "source": [
    "plt.plot(list(range(1,15)), scores, color='blue', linestyle='solid')\n",
    "plt.xlabel('Hyper-Parameter (C)')\n",
    "plt.ylabel('Score')\n",
    "plt.yscale('linear')\n",
    "plt.ylim(0.997,1)\n",
    "plt.title('cross validation results vs hyper-parameters.')\n",
    "plt.show()"
   ]
  },
  {
   "cell_type": "code",
   "execution_count": 29,
   "id": "952d182b",
   "metadata": {},
   "outputs": [
    {
     "data": {
      "text/plain": [
       "1.0"
      ]
     },
     "execution_count": 29,
     "metadata": {},
     "output_type": "execute_result"
    }
   ],
   "source": [
    "svm = SVC(kernel='linear', C=1)\n",
    "svm.fit(X_train_MandY, y_train_MandY)\n",
    "y_pred = svm.predict(X_test_MandY)\n",
    "accuracy_score(y_test_MandY, y_pred)"
   ]
  },
  {
   "cell_type": "markdown",
   "id": "a25817a1",
   "metadata": {},
   "source": [
    "Let's dive deeper into the performance of our model with a confusion matrix."
   ]
  },
  {
   "cell_type": "code",
   "execution_count": 30,
   "id": "abf322f9",
   "metadata": {},
   "outputs": [
    {
     "data": {
      "text/plain": [
       "array([[82,  0],\n",
       "       [ 0, 76]], dtype=int64)"
      ]
     },
     "execution_count": 30,
     "metadata": {},
     "output_type": "execute_result"
    }
   ],
   "source": [
    "confusion_matrix(y_test_MandY, y_pred)"
   ]
  },
  {
   "cell_type": "markdown",
   "id": "06c4a253",
   "metadata": {},
   "source": [
    "## H and K"
   ]
  },
  {
   "cell_type": "markdown",
   "id": "dbf60deb",
   "metadata": {},
   "source": [
    "#### Random Forest Classifier"
   ]
  },
  {
   "cell_type": "code",
   "execution_count": 31,
   "id": "618a8b62",
   "metadata": {},
   "outputs": [
    {
     "data": {
      "text/plain": [
       "{'fit_time': array([0.28373504, 0.29301095, 0.28156233, 0.28890729, 0.27983713]),\n",
       " 'score_time': array([0.02315235, 0.02909303, 0.02766252, 0.03127766, 0.02449751]),\n",
       " 'test_score': array([0.84150943, 0.90943396, 0.86037736, 0.85283019, 0.8       ])}"
      ]
     },
     "execution_count": 31,
     "metadata": {},
     "output_type": "execute_result"
    }
   ],
   "source": [
    "randomForest = RandomForestClassifier(max_depth=2, random_state=0)\n",
    "cv_results = cross_validate(randomForest, X_train_HandK, y_train_HandK, cv=5)\n",
    "cv_results"
   ]
  },
  {
   "cell_type": "code",
   "execution_count": 32,
   "id": "0bd15ede",
   "metadata": {},
   "outputs": [
    {
     "name": "stdout",
     "output_type": "stream",
     "text": [
      "0.8226415094339623\n",
      "0.8528301886792453\n",
      "0.8747169811320754\n",
      "0.9162264150943397\n",
      "0.9486792452830188\n",
      "0.9630188679245283\n",
      "0.9615094339622641\n",
      "0.9622641509433961\n",
      "Best performance:  0.9630188679245283\n",
      "Ideal max depth:  10\n"
     ]
    }
   ],
   "source": [
    "# Tuning max_depth Hyperparameter\n",
    "max_depths = [1, 2, 3, 5, 7, 10, 13, 15]\n",
    "scores = []\n",
    "for i in range(len(max_depths)):\n",
    "    randomForest = RandomForestClassifier(max_depth=max_depths[i], random_state=0)\n",
    "    cv_results = cross_validate(randomForest, X_train_HandK, y_train_HandK, cv=5)\n",
    "    scores.append(np.mean(cv_results.get(\"test_score\")))\n",
    "    print(np.mean(cv_results.get(\"test_score\")))\n",
    "print(\"Best performance: \", max(scores))\n",
    "print(\"Ideal max depth: \", max_depths[scores.index(max(scores))])"
   ]
  },
  {
   "cell_type": "code",
   "execution_count": 33,
   "id": "56ad982d",
   "metadata": {},
   "outputs": [
    {
     "data": {
      "image/png": "[encoded data removed]",
      "text/plain": [
       "<Figure size 432x288 with 1 Axes>"
      ]
     },
     "metadata": {
      "needs_background": "light"
     },
     "output_type": "display_data"
    }
   ],
   "source": [
    "plt.plot(max_depths, scores, color='blue', linestyle='solid')\n",
    "plt.xlabel('Hyper-Parameter (max_depth)')\n",
    "plt.ylabel('Score')\n",
    "plt.yscale('linear')\n",
    "plt.title('cross validation results vs hyper-parameters.')\n",
    "plt.show()"
   ]
  },
  {
   "cell_type": "code",
   "execution_count": 34,
   "id": "17c0acd3",
   "metadata": {},
   "outputs": [
    {
     "data": {
      "text/plain": [
       "1.0"
      ]
     },
     "execution_count": 34,
     "metadata": {},
     "output_type": "execute_result"
    }
   ],
   "source": [
    "randomForest = RandomForestClassifier(max_depth=10, random_state=0)\n",
    "randomForest.fit(X_train_HandK, y_train_HandK)\n",
    "y_pred = randomForest.predict(X_test_HandK)\n",
    "accuracy_score(y_test_HandK, y_pred)"
   ]
  },
  {
   "cell_type": "markdown",
   "id": "1a305c20",
   "metadata": {},
   "source": [
    "Let's dive deeper into the performance of our model with a confusion matrix."
   ]
  },
  {
   "cell_type": "code",
   "execution_count": 35,
   "id": "8b98a96d",
   "metadata": {},
   "outputs": [
    {
     "data": {
      "text/plain": [
       "array([[68,  0],\n",
       "       [ 0, 80]], dtype=int64)"
      ]
     },
     "execution_count": 35,
     "metadata": {},
     "output_type": "execute_result"
    }
   ],
   "source": [
    "confusion_matrix(y_test_HandK, y_pred)"
   ]
  },
  {
   "cell_type": "markdown",
   "id": "164581e6",
   "metadata": {},
   "source": [
    "#### Decision Tree Classifier"
   ]
  },
  {
   "cell_type": "code",
   "execution_count": 36,
   "id": "750acb73",
   "metadata": {},
   "outputs": [
    {
     "name": "stdout",
     "output_type": "stream",
     "text": [
      "0.9373584905660378\n"
     ]
    }
   ],
   "source": [
    "decisionTree = tree.DecisionTreeClassifier()\n",
    "cv_results = cross_validate(decisionTree, X_train_HandK, y_train_HandK, cv=5)\n",
    "print(np.mean(cv_results.get(\"test_score\")))"
   ]
  },
  {
   "cell_type": "code",
   "execution_count": 37,
   "id": "85b6d9ce",
   "metadata": {},
   "outputs": [
    {
     "name": "stdout",
     "output_type": "stream",
     "text": [
      "0.8226415094339623\n",
      "0.8475471698113208\n",
      "0.8596226415094339\n",
      "0.898867924528302\n",
      "0.9192452830188678\n",
      "0.9328301886792453\n",
      "0.929811320754717\n",
      "0.9350943396226417\n",
      "0.9350943396226417\n",
      "0.9350943396226417\n",
      "Best performance:  0.9350943396226417\n",
      "Ideal max depth:  15\n"
     ]
    }
   ],
   "source": [
    "# Tuning max_depth Hyperparameter\n",
    "max_depths = [1, 2, 3, 5, 7, 10, 13, 15, 17, 20]\n",
    "scores = []\n",
    "for i in range(len(max_depths)):\n",
    "    decisionTree = tree.DecisionTreeClassifier(max_depth=max_depths[i], random_state=0)\n",
    "    cv_results = cross_validate(decisionTree, X_train_HandK, y_train_HandK, cv=5)\n",
    "    scores.append(np.mean(cv_results.get(\"test_score\")))\n",
    "    print(np.mean(cv_results.get(\"test_score\")))\n",
    "print(\"Best performance: \", max(scores))\n",
    "print(\"Ideal max depth: \", max_depths[scores.index(max(scores))])"
   ]
  },
  {
   "cell_type": "code",
   "execution_count": 38,
   "id": "4c347bad",
   "metadata": {},
   "outputs": [
    {
     "data": {
      "image/png": "[encoded data removed]",
      "text/plain": [
       "<Figure size 432x288 with 1 Axes>"
      ]
     },
     "metadata": {
      "needs_background": "light"
     },
     "output_type": "display_data"
    }
   ],
   "source": [
    "plt.plot(max_depths, scores, color='blue', linestyle='solid')\n",
    "plt.xlabel('Hyper-Parameter (max_depth)')\n",
    "plt.ylabel('Score')\n",
    "plt.yscale('linear')\n",
    "plt.title('cross validation results vs hyper-parameters.')\n",
    "plt.show()"
   ]
  },
  {
   "cell_type": "code",
   "execution_count": 39,
   "id": "5980ca72",
   "metadata": {},
   "outputs": [
    {
     "data": {
      "text/plain": [
       "1.0"
      ]
     },
     "execution_count": 39,
     "metadata": {},
     "output_type": "execute_result"
    }
   ],
   "source": [
    "decisionTree = tree.DecisionTreeClassifier(max_depth=15, random_state=0)\n",
    "decisionTree.fit(X_train_HandK, y_train_HandK)\n",
    "y_pred = decisionTree.predict(X_test_HandK)\n",
    "accuracy_score(y_test_HandK, y_pred)"
   ]
  },
  {
   "cell_type": "markdown",
   "id": "4a749aa7",
   "metadata": {},
   "source": [
    "Let's dive deeper into the performance of our model with a confusion matrix."
   ]
  },
  {
   "cell_type": "code",
   "execution_count": 40,
   "id": "44341187",
   "metadata": {},
   "outputs": [
    {
     "data": {
      "text/plain": [
       "array([[68,  0],\n",
       "       [ 0, 80]], dtype=int64)"
      ]
     },
     "execution_count": 40,
     "metadata": {},
     "output_type": "execute_result"
    }
   ],
   "source": [
    "confusion_matrix(y_test_HandK, y_pred)"
   ]
  },
  {
   "cell_type": "markdown",
   "id": "87af9699",
   "metadata": {},
   "source": [
    "#### KNN"
   ]
  },
  {
   "cell_type": "code",
   "execution_count": 41,
   "id": "a45b03cb",
   "metadata": {},
   "outputs": [
    {
     "name": "stdout",
     "output_type": "stream",
     "text": [
      "Accuracy: 0.9797297297297297\n",
      "\n",
      "Cross-validation Average Test Score:\n",
      "0.9501886792452832\n"
     ]
    }
   ],
   "source": [
    "# Create the k-NN classifier with k=3\n",
    "knn = KNeighborsClassifier(n_neighbors=3)\n",
    "\n",
    "# Fit the classifier to the training data\n",
    "knn.fit(X_train_HandK, y_train_HandK)\n",
    "\n",
    "# Predict the classes of the test set\n",
    "y_pred = knn.predict(X_test_HandK)\n",
    "\n",
    "# Calculate the accuracy of the model\n",
    "accuracy = accuracy_score(y_test_HandK, y_pred)\n",
    "\n",
    "# Print the accuracy of the model\n",
    "print(\"Accuracy:\", accuracy)\n",
    "\n",
    "print()\n",
    "print(\"Cross-validation Average Test Score:\")\n",
    "\n",
    "# Perform 10-fold cross-validation\n",
    "cv_results = cross_validate(knn, X_train_HandK, y_train_HandK, cv=5)\n",
    "print(np.mean(cv_results.get(\"test_score\")))"
   ]
  },
  {
   "cell_type": "code",
   "execution_count": 42,
   "id": "ead21809",
   "metadata": {},
   "outputs": [
    {
     "name": "stdout",
     "output_type": "stream",
     "text": [
      "Best performance:  0.9532075471698114\n",
      "Ideal k:  5\n"
     ]
    }
   ],
   "source": [
    "# Tuning k Hyperparameter\n",
    "max_k = 15\n",
    "scores = []\n",
    "for k in range(1, max_k):\n",
    "    knn = KNeighborsClassifier(n_neighbors=k)\n",
    "    knn.fit(X_train_HandK, y_train_HandK)\n",
    "    y_pred = knn.predict(X_test_HandK)\n",
    "    cv_results = cross_validate(knn, X_train_HandK, y_train_HandK, cv=5)\n",
    "    scores.append(np.mean(cv_results.get(\"test_score\")))\n",
    "\n",
    "print(\"Best performance: \", max(scores))\n",
    "print(\"Ideal k: \", scores.index(max(scores))+1)"
   ]
  },
  {
   "cell_type": "code",
   "execution_count": 43,
   "id": "1e36917e",
   "metadata": {},
   "outputs": [
    {
     "data": {
      "image/png": "[encoded data removed]",
      "text/plain": [
       "<Figure size 432x288 with 1 Axes>"
      ]
     },
     "metadata": {
      "needs_background": "light"
     },
     "output_type": "display_data"
    }
   ],
   "source": [
    "plt.plot(list(range(1,15)), scores, color='blue', linestyle='solid')\n",
    "plt.xlabel('Hyper-Parameter (Neighbors)')\n",
    "plt.ylabel('Score')\n",
    "plt.yscale('linear')\n",
    "plt.title('cross validation results vs hyper-parameters.')\n",
    "plt.show()"
   ]
  },
  {
   "cell_type": "code",
   "execution_count": 44,
   "id": "aa6061cc",
   "metadata": {},
   "outputs": [
    {
     "data": {
      "text/plain": [
       "0.9864864864864865"
      ]
     },
     "execution_count": 44,
     "metadata": {},
     "output_type": "execute_result"
    }
   ],
   "source": [
    "knn = KNeighborsClassifier(n_neighbors=1)\n",
    "knn.fit(X_train_HandK, y_train_HandK)\n",
    "y_pred = knn.predict(X_test_HandK)\n",
    "accuracy_score(y_test_HandK, y_pred)"
   ]
  },
  {
   "cell_type": "markdown",
   "id": "06d7dead",
   "metadata": {},
   "source": [
    "Let's dive deeper into the performance of our model with a confusion matrix."
   ]
  },
  {
   "cell_type": "code",
   "execution_count": 45,
   "id": "25f25aef",
   "metadata": {},
   "outputs": [
    {
     "data": {
      "text/plain": [
       "array([[67,  1],\n",
       "       [ 1, 79]], dtype=int64)"
      ]
     },
     "execution_count": 45,
     "metadata": {},
     "output_type": "execute_result"
    }
   ],
   "source": [
    "confusion_matrix(y_test_HandK, y_pred)"
   ]
  },
  {
   "cell_type": "markdown",
   "id": "a262dc6f",
   "metadata": {},
   "source": [
    "#### SVM"
   ]
  },
  {
   "cell_type": "code",
   "execution_count": 46,
   "id": "d715b12d",
   "metadata": {},
   "outputs": [
    {
     "name": "stdout",
     "output_type": "stream",
     "text": [
      "Accuracy: 0.9662162162162162\n",
      "\n",
      "Cross-validation Average Test Score:\n",
      "0.9237735849056603\n"
     ]
    }
   ],
   "source": [
    "# Create the SVM classifier\n",
    "svm = SVC(kernel='linear', C=1)\n",
    "\n",
    "# Fit the classifier to the training data\n",
    "svm.fit(X_train_HandK, y_train_HandK)\n",
    "\n",
    "# Predict the classes of the test set\n",
    "y_pred = svm.predict(X_test_HandK)\n",
    "\n",
    "# Calculate the accuracy of the model\n",
    "accuracy = accuracy_score(y_test_HandK, y_pred)\n",
    "\n",
    "# Print the accuracy of the model\n",
    "print(\"Accuracy:\", accuracy)\n",
    "\n",
    "print()\n",
    "print(\"Cross-validation Average Test Score:\")\n",
    "\n",
    "# Perform 10-fold cross-validation\n",
    "cv_results = cross_validate(svm, X_train_HandK, y_train_HandK, cv=5)\n",
    "print(np.mean(cv_results.get(\"test_score\")))"
   ]
  },
  {
   "cell_type": "code",
   "execution_count": 47,
   "id": "55503869",
   "metadata": {
    "scrolled": true
   },
   "outputs": [
    {
     "name": "stdout",
     "output_type": "stream",
     "text": [
      "Best performance:  0.9252830188679246\n",
      "Ideal C:  6\n"
     ]
    }
   ],
   "source": [
    "# Tuning C Hyperparameter\n",
    "max_C = 15\n",
    "scores = []\n",
    "for C in range(1, max_C):\n",
    "    svm = SVC(kernel='linear', C=C)\n",
    "    svm.fit(X_train_HandK, y_train_HandK)\n",
    "    y_pred = svm.predict(X_test_HandK)\n",
    "    cv_results = cross_validate(svm, X_train_HandK, y_train_HandK, cv=5)\n",
    "    scores.append(np.mean(cv_results.get(\"test_score\")))\n",
    "\n",
    "print(\"Best performance: \", max(scores))\n",
    "print(\"Ideal C: \", scores.index(max(scores))+1)"
   ]
  },
  {
   "cell_type": "code",
   "execution_count": 48,
   "id": "46995b47",
   "metadata": {},
   "outputs": [
    {
     "data": {
      "image/png": "[encoded data removed]",
      "text/plain": [
       "<Figure size 432x288 with 1 Axes>"
      ]
     },
     "metadata": {
      "needs_background": "light"
     },
     "output_type": "display_data"
    }
   ],
   "source": [
    "plt.plot(list(range(1,15)), scores, color='blue', linestyle='solid')\n",
    "plt.xlabel('Hyper-Parameter (C)')\n",
    "plt.ylabel('Score')\n",
    "plt.yscale('linear')\n",
    "plt.title('cross validation results vs hyper-parameters.')\n",
    "plt.show()"
   ]
  },
  {
   "cell_type": "code",
   "execution_count": 49,
   "id": "6c40e377",
   "metadata": {},
   "outputs": [
    {
     "data": {
      "text/plain": [
       "0.9662162162162162"
      ]
     },
     "execution_count": 49,
     "metadata": {},
     "output_type": "execute_result"
    }
   ],
   "source": [
    "svm = SVC(kernel='linear', C=3)\n",
    "svm.fit(X_train_HandK, y_train_HandK)\n",
    "y_pred = svm.predict(X_test_HandK)\n",
    "accuracy_score(y_test_HandK, y_pred)"
   ]
  },
  {
   "cell_type": "markdown",
   "id": "d5d6ebbc",
   "metadata": {},
   "source": [
    "Let's dive deeper into the performance of our model with a confusion matrix."
   ]
  },
  {
   "cell_type": "code",
   "execution_count": 50,
   "id": "471833b1",
   "metadata": {},
   "outputs": [
    {
     "data": {
      "text/plain": [
       "array([[66,  2],\n",
       "       [ 3, 77]], dtype=int64)"
      ]
     },
     "execution_count": 50,
     "metadata": {},
     "output_type": "execute_result"
    }
   ],
   "source": [
    "confusion_matrix(y_test_HandK, y_pred)"
   ]
  },
  {
   "cell_type": "markdown",
   "id": "fe423ffb",
   "metadata": {},
   "source": [
    "### E and T"
   ]
  },
  {
   "cell_type": "markdown",
   "id": "0a34cfa6",
   "metadata": {},
   "source": [
    "#### Random Forest Classifier"
   ]
  },
  {
   "cell_type": "code",
   "execution_count": 51,
   "id": "b398e24b",
   "metadata": {},
   "outputs": [
    {
     "name": "stdout",
     "output_type": "stream",
     "text": [
      "0.919696625526867\n"
     ]
    }
   ],
   "source": [
    "randomForest = RandomForestClassifier(max_depth=2, random_state=0)\n",
    "cv_results = cross_validate(randomForest, X_train_EandT, y_train_EandT, cv=5)\n",
    "print(np.mean(cv_results.get(\"test_score\")))"
   ]
  },
  {
   "cell_type": "code",
   "execution_count": 52,
   "id": "674b3ce5",
   "metadata": {},
   "outputs": [
    {
     "name": "stdout",
     "output_type": "stream",
     "text": [
      "0.9047727215365589\n",
      "0.919696625526867\n",
      "0.9310643345700512\n",
      "0.9680220085308295\n",
      "0.9914742182176118\n",
      "0.9936044017061659\n",
      "0.994313621564322\n",
      "0.994313621564322\n",
      "Best performance:  0.994313621564322\n",
      "Ideal max depth:  13\n"
     ]
    }
   ],
   "source": [
    "# Tuning max_depth Hyperparameter\n",
    "max_depths = [1, 2, 3, 5, 7, 10, 13, 15]\n",
    "scores = []\n",
    "for i in range(len(max_depths)):\n",
    "    randomForest = RandomForestClassifier(max_depth=max_depths[i], random_state=0)\n",
    "    cv_results = cross_validate(randomForest, X_train_EandT, y_train_EandT, cv=5)\n",
    "    scores.append(np.mean(cv_results.get(\"test_score\")))\n",
    "    print(np.mean(cv_results.get(\"test_score\")))\n",
    "print(\"Best performance: \", max(scores))\n",
    "print(\"Ideal max depth: \", max_depths[scores.index(max(scores))])"
   ]
  },
  {
   "cell_type": "code",
   "execution_count": 53,
   "id": "3b416710",
   "metadata": {},
   "outputs": [
    {
     "data": {
      "image/png": "[encoded data removed]",
      "text/plain": [
       "<Figure size 432x288 with 1 Axes>"
      ]
     },
     "metadata": {
      "needs_background": "light"
     },
     "output_type": "display_data"
    }
   ],
   "source": [
    "plt.plot(max_depths, scores, color='blue', linestyle='solid')\n",
    "plt.xlabel('Hyper-Parameter (Max_depth)')\n",
    "plt.ylabel('Score')\n",
    "plt.yscale('linear')\n",
    "plt.title('cross validation results vs hyper-parameters.')\n",
    "plt.show()"
   ]
  },
  {
   "cell_type": "code",
   "execution_count": 54,
   "id": "691f66b1",
   "metadata": {},
   "outputs": [
    {
     "data": {
      "text/plain": [
       "1.0"
      ]
     },
     "execution_count": 54,
     "metadata": {},
     "output_type": "execute_result"
    }
   ],
   "source": [
    "randomForest = RandomForestClassifier(max_depth=13, random_state=0)\n",
    "randomForest.fit(X_train_EandT, y_train_EandT)\n",
    "y_pred = randomForest.predict(X_test_EandT)\n",
    "accuracy_score(y_test_EandT, y_pred)"
   ]
  },
  {
   "cell_type": "markdown",
   "id": "3538d4b3",
   "metadata": {},
   "source": [
    "Let's dive deeper into the performance of our model with a confusion matrix."
   ]
  },
  {
   "cell_type": "code",
   "execution_count": 55,
   "id": "e8443620",
   "metadata": {},
   "outputs": [
    {
     "data": {
      "text/plain": [
       "array([[79,  0],\n",
       "       [ 0, 78]], dtype=int64)"
      ]
     },
     "execution_count": 55,
     "metadata": {},
     "output_type": "execute_result"
    }
   ],
   "source": [
    "confusion_matrix(y_test_EandT, y_pred)"
   ]
  },
  {
   "cell_type": "markdown",
   "id": "bc571db4",
   "metadata": {},
   "source": [
    "#### Decision Tree Classifier"
   ]
  },
  {
   "cell_type": "code",
   "execution_count": 56,
   "id": "d1abc779",
   "metadata": {},
   "outputs": [
    {
     "name": "stdout",
     "output_type": "stream",
     "text": [
      "0.9737008152242497\n"
     ]
    }
   ],
   "source": [
    "decisionTree = tree.DecisionTreeClassifier()\n",
    "cv_results = cross_validate(decisionTree, X_train_EandT, y_train_EandT, cv=5)\n",
    "print(np.mean(cv_results.get(\"test_score\")))"
   ]
  },
  {
   "cell_type": "code",
   "execution_count": 57,
   "id": "8556fd86",
   "metadata": {
    "scrolled": true
   },
   "outputs": [
    {
     "name": "stdout",
     "output_type": "stream",
     "text": [
      "0.8983720754145528\n",
      "0.913293455490775\n",
      "0.9239519446758031\n",
      "0.9687312283889856\n",
      "0.9800989374321698\n",
      "0.9758335226268897\n",
      "0.9772570101713738\n",
      "0.9772570101713738\n",
      "Best performance:  0.9800989374321698\n",
      "Ideal max depth:  7\n"
     ]
    }
   ],
   "source": [
    "# Tuning max_depth Hyperparameter\n",
    "max_depths = [1, 2, 3, 5, 7, 10, 13, 15]\n",
    "scores = []\n",
    "for i in range(len(max_depths)):\n",
    "    decisionTree = tree.DecisionTreeClassifier(max_depth=max_depths[i], random_state=0)\n",
    "    cv_results = cross_validate(decisionTree, X_train_EandT, y_train_EandT, cv=5)\n",
    "    scores.append(np.mean(cv_results.get(\"test_score\")))\n",
    "    print(np.mean(cv_results.get(\"test_score\")))\n",
    "print(\"Best performance: \", max(scores))\n",
    "print(\"Ideal max depth: \", max_depths[scores.index(max(scores))])"
   ]
  },
  {
   "cell_type": "code",
   "execution_count": 58,
   "id": "88e47319",
   "metadata": {},
   "outputs": [
    {
     "data": {
      "image/png": "[encoded data removed]",
      "text/plain": [
       "<Figure size 432x288 with 1 Axes>"
      ]
     },
     "metadata": {
      "needs_background": "light"
     },
     "output_type": "display_data"
    }
   ],
   "source": [
    "plt.plot(max_depths, scores, color='blue', linestyle='solid')\n",
    "plt.xlabel('Hyper-Parameter (max_depth)')\n",
    "plt.ylabel('Score')\n",
    "plt.yscale('linear')\n",
    "plt.title('cross validation results vs hyper-parameters.')\n",
    "plt.show()"
   ]
  },
  {
   "cell_type": "code",
   "execution_count": 59,
   "id": "98453a18",
   "metadata": {},
   "outputs": [
    {
     "data": {
      "text/plain": [
       "0.9745222929936306"
      ]
     },
     "execution_count": 59,
     "metadata": {},
     "output_type": "execute_result"
    }
   ],
   "source": [
    "decisionTree = tree.DecisionTreeClassifier(max_depth=7, random_state=0)\n",
    "decisionTree.fit(X_train_EandT, y_train_EandT)\n",
    "y_pred = decisionTree.predict(X_test_EandT)\n",
    "accuracy_score(y_test_EandT, y_pred)"
   ]
  },
  {
   "cell_type": "markdown",
   "id": "54117a02",
   "metadata": {},
   "source": [
    "Let's dive deeper into the performance of our model with a confusion matrix."
   ]
  },
  {
   "cell_type": "code",
   "execution_count": 60,
   "id": "ab0e1568",
   "metadata": {},
   "outputs": [
    {
     "data": {
      "text/plain": [
       "array([[77,  2],\n",
       "       [ 2, 76]], dtype=int64)"
      ]
     },
     "execution_count": 60,
     "metadata": {},
     "output_type": "execute_result"
    }
   ],
   "source": [
    "confusion_matrix(y_test_EandT, y_pred)"
   ]
  },
  {
   "cell_type": "markdown",
   "id": "2347623a",
   "metadata": {},
   "source": [
    "#### KNN"
   ]
  },
  {
   "cell_type": "code",
   "execution_count": 61,
   "id": "62468060",
   "metadata": {
    "scrolled": true
   },
   "outputs": [
    {
     "name": "stdout",
     "output_type": "stream",
     "text": [
      "Accuracy: 1.0\n",
      "\n",
      "Cross-validation Average Test Score:\n",
      "0.99644128113879\n"
     ]
    }
   ],
   "source": [
    "# Create the k-NN classifier with k=3\n",
    "knn = KNeighborsClassifier(n_neighbors=5)\n",
    "\n",
    "# Fit the classifier to the training data\n",
    "knn.fit(X_train_EandT, y_train_EandT)\n",
    "\n",
    "# Predict the classes of the test set\n",
    "y_pred = knn.predict(X_test_EandT)\n",
    "\n",
    "# Calculate the accuracy of the model\n",
    "accuracy = accuracy_score(y_test_EandT, y_pred)\n",
    "\n",
    "# Print the accuracy of the model\n",
    "print(\"Accuracy:\", accuracy)\n",
    "\n",
    "print()\n",
    "print(\"Cross-validation Average Test Score:\")\n",
    "\n",
    "# Perform 10-fold cross-validation\n",
    "cv_results = cross_validate(knn, X_train_EandT, y_train_EandT, cv=5)\n",
    "print(np.mean(cv_results.get(\"test_score\")))"
   ]
  },
  {
   "cell_type": "code",
   "execution_count": 62,
   "id": "d3a6d681",
   "metadata": {
    "scrolled": false
   },
   "outputs": [
    {
     "name": "stdout",
     "output_type": "stream",
     "text": [
      "Best performance:  0.9992882562277579\n",
      "Ideal k:  1\n"
     ]
    }
   ],
   "source": [
    "# Tuning k Hyperparameter\n",
    "max_k = 15\n",
    "scores = []\n",
    "for k in range(1, max_k):\n",
    "    knn = KNeighborsClassifier(n_neighbors=k)\n",
    "    knn.fit(X_train_EandT, y_train_EandT)\n",
    "    y_pred = knn.predict(X_test_EandT)\n",
    "    cv_results = cross_validate(knn, X_train_EandT, y_train_EandT, cv=5)\n",
    "    scores.append(np.mean(cv_results.get(\"test_score\")))\n",
    "\n",
    "print(\"Best performance: \", max(scores))\n",
    "print(\"Ideal k: \", scores.index(max(scores))+1)"
   ]
  },
  {
   "cell_type": "code",
   "execution_count": 63,
   "id": "74d503a2",
   "metadata": {},
   "outputs": [
    {
     "data": {
      "image/png": "[encoded data removed]",
      "text/plain": [
       "<Figure size 432x288 with 1 Axes>"
      ]
     },
     "metadata": {
      "needs_background": "light"
     },
     "output_type": "display_data"
    }
   ],
   "source": [
    "plt.plot(list(range(1,15)), scores, color='blue', linestyle='solid')\n",
    "plt.xlabel('Hyper-Parameter (neighbors)')\n",
    "plt.ylabel('Score')\n",
    "plt.yscale('linear')\n",
    "plt.title('cross validation results vs hyper-parameters.')\n",
    "plt.show()"
   ]
  },
  {
   "cell_type": "code",
   "execution_count": 64,
   "id": "3202bc13",
   "metadata": {},
   "outputs": [
    {
     "data": {
      "text/plain": [
       "1.0"
      ]
     },
     "execution_count": 64,
     "metadata": {},
     "output_type": "execute_result"
    }
   ],
   "source": [
    "knn = KNeighborsClassifier(n_neighbors=2)\n",
    "knn.fit(X_train_EandT, y_train_EandT)\n",
    "y_pred = knn.predict(X_test_EandT)\n",
    "accuracy_score(y_test_EandT, y_pred)"
   ]
  },
  {
   "cell_type": "markdown",
   "id": "aefe9f69",
   "metadata": {},
   "source": [
    "Let's dive deeper into the performance of our model with a confusion matrix."
   ]
  },
  {
   "cell_type": "code",
   "execution_count": 65,
   "id": "6e10a4ac",
   "metadata": {},
   "outputs": [
    {
     "data": {
      "text/plain": [
       "array([[79,  0],\n",
       "       [ 0, 78]], dtype=int64)"
      ]
     },
     "execution_count": 65,
     "metadata": {},
     "output_type": "execute_result"
    }
   ],
   "source": [
    "confusion_matrix(y_test_EandT, y_pred)"
   ]
  },
  {
   "cell_type": "markdown",
   "id": "976e6d4d",
   "metadata": {},
   "source": [
    "#### SVM"
   ]
  },
  {
   "cell_type": "code",
   "execution_count": 66,
   "id": "f1c0d094",
   "metadata": {},
   "outputs": [
    {
     "name": "stdout",
     "output_type": "stream",
     "text": [
      "Accuracy: 0.9681528662420382\n",
      "\n",
      "Cross-validation Average Test Score:\n",
      "0.9609171903788395\n"
     ]
    }
   ],
   "source": [
    "# Create the SVM classifier\n",
    "svm = SVC(kernel='linear', C=1)\n",
    "\n",
    "# Fit the classifier to the training data\n",
    "svm.fit(X_train_EandT, y_train_EandT)\n",
    "\n",
    "# Predict the classes of the test set\n",
    "y_pred = svm.predict(X_test_EandT)\n",
    "\n",
    "# Calculate the accuracy of the model\n",
    "accuracy = accuracy_score(y_test_EandT, y_pred)\n",
    "\n",
    "# Print the accuracy of the model\n",
    "print(\"Accuracy:\", accuracy)\n",
    "\n",
    "print()\n",
    "print(\"Cross-validation Average Test Score:\")\n",
    "\n",
    "# Perform 10-fold cross-validation\n",
    "cv_results = cross_validate(svm, X_train_EandT, y_train_EandT, cv=5)\n",
    "print(np.mean(cv_results.get(\"test_score\")))"
   ]
  },
  {
   "cell_type": "code",
   "execution_count": 67,
   "id": "f62c606f",
   "metadata": {},
   "outputs": [
    {
     "name": "stdout",
     "output_type": "stream",
     "text": [
      "Best performance:  0.9630448499533075\n",
      "Ideal C:  4\n"
     ]
    }
   ],
   "source": [
    "# Tuning C Hyperparameter\n",
    "max_C = 15\n",
    "scores = []\n",
    "for C in range(1, max_C):\n",
    "    svm = SVC(kernel='linear', C=C)\n",
    "    svm.fit(X_train_EandT, y_train_EandT)\n",
    "    y_pred = svm.predict(X_test_EandT)\n",
    "    cv_results = cross_validate(svm, X_train_EandT, y_train_EandT, cv=5)\n",
    "    scores.append(np.mean(cv_results.get(\"test_score\")))\n",
    "\n",
    "print(\"Best performance: \", max(scores))\n",
    "print(\"Ideal C: \", scores.index(max(scores))+1)"
   ]
  },
  {
   "cell_type": "code",
   "execution_count": 68,
   "id": "3d69e930",
   "metadata": {},
   "outputs": [
    {
     "data": {
      "image/png": "[encoded data removed]",
      "text/plain": [
       "<Figure size 432x288 with 1 Axes>"
      ]
     },
     "metadata": {
      "needs_background": "light"
     },
     "output_type": "display_data"
    }
   ],
   "source": [
    "plt.plot(list(range(1,15)), scores, color='blue', linestyle='solid')\n",
    "plt.xlabel('Hyper-Parameter (C)')\n",
    "plt.ylabel('Score')\n",
    "plt.yscale('linear')\n",
    "plt.title('cross validation results vs hyper-parameters.')\n",
    "plt.show()"
   ]
  },
  {
   "cell_type": "code",
   "execution_count": 69,
   "id": "3db06c74",
   "metadata": {},
   "outputs": [
    {
     "data": {
      "text/plain": [
       "0.9617834394904459"
      ]
     },
     "execution_count": 69,
     "metadata": {},
     "output_type": "execute_result"
    }
   ],
   "source": [
    "svm = SVC(kernel='linear', C=4)\n",
    "svm.fit(X_train_EandT, y_train_EandT)\n",
    "y_pred = svm.predict(X_test_EandT)\n",
    "accuracy_score(y_test_EandT, y_pred)"
   ]
  },
  {
   "cell_type": "markdown",
   "id": "e1941bba",
   "metadata": {},
   "source": [
    "Let's dive deeper into the performance of our model with a confusion matrix."
   ]
  },
  {
   "cell_type": "code",
   "execution_count": 70,
   "id": "87096c78",
   "metadata": {},
   "outputs": [
    {
     "data": {
      "text/plain": [
       "array([[78,  1],\n",
       "       [ 5, 73]], dtype=int64)"
      ]
     },
     "execution_count": 70,
     "metadata": {},
     "output_type": "execute_result"
    }
   ],
   "source": [
    "confusion_matrix(y_test_EandT, y_pred)"
   ]
  },
  {
   "cell_type": "markdown",
   "id": "76f5cd6b",
   "metadata": {},
   "source": [
    "### Multi class classification"
   ]
  },
  {
   "cell_type": "code",
   "execution_count": 18,
   "id": "acf56be3",
   "metadata": {},
   "outputs": [
    {
     "name": "stdout",
     "output_type": "stream",
     "text": [
      "Accuracy: 0.8585\n",
      "\n",
      "Cross-validation Average Test Score:\n",
      "0.8542777777777777\n"
     ]
    }
   ],
   "source": [
    "# Create the SVM classifier\n",
    "svm = SVC(kernel='linear', C=1)\n",
    "\n",
    "# Fit the classifier to the training data\n",
    "svm.fit(X_train_All, y_train_All)\n",
    "\n",
    "# Predict the classes of the test set\n",
    "y_pred = svm.predict(X_test_All)\n",
    "\n",
    "# Calculate the accuracy of the model\n",
    "accuracy = accuracy_score(y_test_All, y_pred)\n",
    "\n",
    "# Print the accuracy of the model\n",
    "print(\"Accuracy:\", accuracy)\n",
    "\n",
    "print()\n",
    "print(\"Cross-validation Average Test Score:\")\n",
    "\n",
    "# Perform 10-fold cross-validation\n",
    "cv_results = cross_validate(svm, X_train_All, y_train_All, cv=5)\n",
    "print(np.mean(cv_results.get(\"test_score\")))"
   ]
  },
  {
   "cell_type": "code",
   "execution_count": 19,
   "id": "3414f69f",
   "metadata": {},
   "outputs": [
    {
     "name": "stdout",
     "output_type": "stream",
     "text": [
      "Best performance:  0.8542777777777777\n",
      "Ideal C:  1\n"
     ]
    }
   ],
   "source": [
    "# Tuning C Hyperparameter\n",
    "max_C = 15\n",
    "scores = []\n",
    "for C in range(1, max_C):\n",
    "    svm = SVC(kernel='linear', C=C)\n",
    "    svm.fit(X_train_All, y_train_All)\n",
    "    y_pred = svm.predict(X_test_All)\n",
    "    cv_results = cross_validate(svm, X_train_All, y_train_All, cv=5)\n",
    "    scores.append(np.mean(cv_results.get(\"test_score\")))\n",
    "\n",
    "print(\"Best performance: \", max(scores))\n",
    "print(\"Ideal C: \", scores.index(max(scores))+1)"
   ]
  },
  {
   "cell_type": "code",
   "execution_count": 21,
   "id": "109a7c4b",
   "metadata": {},
   "outputs": [
    {
     "data": {
      "text/plain": [
       "0.8585"
      ]
     },
     "execution_count": 21,
     "metadata": {},
     "output_type": "execute_result"
    }
   ],
   "source": [
    "svm = SVC(kernel='linear', C=1)\n",
    "svm.fit(X_train_All, y_train_All)\n",
    "y_pred = svm.predict(X_test_All)\n",
    "accuracy_score(y_test_All, y_pred)"
   ]
  },
  {
   "cell_type": "code",
   "execution_count": null,
   "id": "173960bc",
   "metadata": {},
   "outputs": [],
   "source": [
    "confusion_matrix(y_test_EandT, y_pred)"
   ]
  },
  {
   "cell_type": "markdown",
   "id": "345ddf2f",
   "metadata": {},
   "source": [
    "# Feature Selection"
   ]
  },
  {
   "cell_type": "markdown",
   "id": "d3231fb6",
   "metadata": {},
   "source": [
    "## Feature Selection for H and K"
   ]
  },
  {
   "cell_type": "markdown",
   "id": "14f9f011",
   "metadata": {},
   "source": [
    "#### RFE for Random Forest"
   ]
  },
  {
   "cell_type": "code",
   "execution_count": 71,
   "id": "1525eb14",
   "metadata": {},
   "outputs": [],
   "source": [
    "estimator = RandomForestClassifier(max_depth=2, random_state=0)\n",
    "selector = RFE(estimator, n_features_to_select=4, step=1)\n",
    "selector = selector.fit(X_train_HandK, y_train_HandK)"
   ]
  },
  {
   "cell_type": "code",
   "execution_count": 72,
   "id": "33943564",
   "metadata": {},
   "outputs": [
    {
     "data": {
      "text/plain": [
       "array([False, False, False, False, False,  True, False,  True, False,\n",
       "       False, False,  True, False, False, False,  True])"
      ]
     },
     "execution_count": 72,
     "metadata": {},
     "output_type": "execute_result"
    }
   ],
   "source": [
    "selector.support_"
   ]
  },
  {
   "cell_type": "code",
   "execution_count": 73,
   "id": "8931df27",
   "metadata": {},
   "outputs": [
    {
     "data": {
      "text/html": [
       "<div>\n",
       "<style scoped>\n",
       "    .dataframe tbody tr th:only-of-type {\n",
       "        vertical-align: middle;\n",
       "    }\n",
       "\n",
       "    .dataframe tbody tr th {\n",
       "        vertical-align: top;\n",
       "    }\n",
       "\n",
       "    .dataframe thead th {\n",
       "        text-align: right;\n",
       "    }\n",
       "</style>\n",
       "<table border=\"1\" class=\"dataframe\">\n",
       "  <thead>\n",
       "    <tr style=\"text-align: right;\">\n",
       "      <th></th>\n",
       "      <th>x_bar</th>\n",
       "      <th>x2_bar</th>\n",
       "      <th>xy2br</th>\n",
       "      <th>yegvx</th>\n",
       "    </tr>\n",
       "  </thead>\n",
       "  <tbody>\n",
       "    <tr>\n",
       "      <th>1224</th>\n",
       "      <td>5</td>\n",
       "      <td>7</td>\n",
       "      <td>10</td>\n",
       "      <td>11</td>\n",
       "    </tr>\n",
       "    <tr>\n",
       "      <th>1256</th>\n",
       "      <td>6</td>\n",
       "      <td>3</td>\n",
       "      <td>9</td>\n",
       "      <td>7</td>\n",
       "    </tr>\n",
       "    <tr>\n",
       "      <th>3956</th>\n",
       "      <td>11</td>\n",
       "      <td>4</td>\n",
       "      <td>6</td>\n",
       "      <td>10</td>\n",
       "    </tr>\n",
       "    <tr>\n",
       "      <th>13842</th>\n",
       "      <td>4</td>\n",
       "      <td>6</td>\n",
       "      <td>11</td>\n",
       "      <td>10</td>\n",
       "    </tr>\n",
       "    <tr>\n",
       "      <th>2113</th>\n",
       "      <td>4</td>\n",
       "      <td>3</td>\n",
       "      <td>11</td>\n",
       "      <td>5</td>\n",
       "    </tr>\n",
       "    <tr>\n",
       "      <th>...</th>\n",
       "      <td>...</td>\n",
       "      <td>...</td>\n",
       "      <td>...</td>\n",
       "      <td>...</td>\n",
       "    </tr>\n",
       "    <tr>\n",
       "      <th>15164</th>\n",
       "      <td>7</td>\n",
       "      <td>1</td>\n",
       "      <td>9</td>\n",
       "      <td>7</td>\n",
       "    </tr>\n",
       "    <tr>\n",
       "      <th>17523</th>\n",
       "      <td>9</td>\n",
       "      <td>1</td>\n",
       "      <td>8</td>\n",
       "      <td>9</td>\n",
       "    </tr>\n",
       "    <tr>\n",
       "      <th>11385</th>\n",
       "      <td>6</td>\n",
       "      <td>3</td>\n",
       "      <td>8</td>\n",
       "      <td>7</td>\n",
       "    </tr>\n",
       "    <tr>\n",
       "      <th>19772</th>\n",
       "      <td>7</td>\n",
       "      <td>15</td>\n",
       "      <td>8</td>\n",
       "      <td>8</td>\n",
       "    </tr>\n",
       "    <tr>\n",
       "      <th>15091</th>\n",
       "      <td>8</td>\n",
       "      <td>6</td>\n",
       "      <td>7</td>\n",
       "      <td>7</td>\n",
       "    </tr>\n",
       "  </tbody>\n",
       "</table>\n",
       "<p>1325 rows × 4 columns</p>\n",
       "</div>"
      ],
      "text/plain": [
       "       x_bar  x2_bar  xy2br  yegvx\n",
       "1224       5       7     10     11\n",
       "1256       6       3      9      7\n",
       "3956      11       4      6     10\n",
       "13842      4       6     11     10\n",
       "2113       4       3     11      5\n",
       "...      ...     ...    ...    ...\n",
       "15164      7       1      9      7\n",
       "17523      9       1      8      9\n",
       "11385      6       3      8      7\n",
       "19772      7      15      8      8\n",
       "15091      8       6      7      7\n",
       "\n",
       "[1325 rows x 4 columns]"
      ]
     },
     "execution_count": 73,
     "metadata": {},
     "output_type": "execute_result"
    }
   ],
   "source": [
    "selected = X_train_HandK.loc[:, selector.support_]\n",
    "selected"
   ]
  },
  {
   "cell_type": "code",
   "execution_count": 74,
   "id": "77ba83d0",
   "metadata": {},
   "outputs": [
    {
     "data": {
      "text/plain": [
       "{'fit_time': array([0.28896308, 0.29554224, 0.26322961, 0.26382303, 0.32953835]),\n",
       " 'score_time': array([0.02558088, 0.02831316, 0.02280331, 0.02612162, 0.02630401]),\n",
       " 'test_score': array([0.84528302, 0.91698113, 0.86792453, 0.86037736, 0.81509434])}"
      ]
     },
     "execution_count": 74,
     "metadata": {},
     "output_type": "execute_result"
    }
   ],
   "source": [
    "randomForest = RandomForestClassifier(max_depth=2, random_state=0)\n",
    "cv_results = cross_validate(randomForest, selected, y_train_HandK, cv=5)\n",
    "cv_results"
   ]
  },
  {
   "cell_type": "code",
   "execution_count": 75,
   "id": "044c5991",
   "metadata": {
    "scrolled": true
   },
   "outputs": [
    {
     "name": "stdout",
     "output_type": "stream",
     "text": [
      "0.8166037735849058\n",
      "0.8611320754716981\n",
      "0.8837735849056605\n",
      "0.9026415094339623\n",
      "0.9109433962264151\n",
      "0.9033962264150943\n",
      "0.9041509433962265\n",
      "0.9049056603773586\n",
      "Best performance:  0.9109433962264151\n",
      "Ideal max depth:  7\n"
     ]
    }
   ],
   "source": [
    "# Tuning max_depth Hyperparameter\n",
    "max_depths = [1, 2, 3, 5, 7, 10, 13, 15]\n",
    "scores = []\n",
    "for i in range(len(max_depths)):\n",
    "    randomForest = RandomForestClassifier(max_depth=max_depths[i], random_state=0)\n",
    "    cv_results = cross_validate(randomForest, selected, y_train_HandK, cv=5)\n",
    "    scores.append(np.mean(cv_results.get(\"test_score\")))\n",
    "    print(np.mean(cv_results.get(\"test_score\")))\n",
    "print(\"Best performance: \", max(scores))\n",
    "print(\"Ideal max depth: \", max_depths[scores.index(max(scores))])"
   ]
  },
  {
   "cell_type": "code",
   "execution_count": 76,
   "id": "4cfc0262",
   "metadata": {},
   "outputs": [
    {
     "data": {
      "image/png": "[encoded data removed]",
      "text/plain": [
       "<Figure size 432x288 with 1 Axes>"
      ]
     },
     "metadata": {
      "needs_background": "light"
     },
     "output_type": "display_data"
    }
   ],
   "source": [
    "plt.plot(max_depths, scores, color='blue', linestyle='solid')\n",
    "plt.xlabel('Hyper-Parameter (max_depth)')\n",
    "plt.ylabel('Score')\n",
    "plt.yscale('linear')\n",
    "plt.title('cross validation results vs hyper-parameters.')\n",
    "plt.show()"
   ]
  },
  {
   "cell_type": "code",
   "execution_count": 77,
   "id": "8ee43269",
   "metadata": {},
   "outputs": [
    {
     "data": {
      "text/plain": [
       "0.9391891891891891"
      ]
     },
     "execution_count": 77,
     "metadata": {},
     "output_type": "execute_result"
    }
   ],
   "source": [
    "randomForest = RandomForestClassifier(max_depth=7, random_state=0)\n",
    "randomForest.fit(selected, y_train_HandK)\n",
    "test_selected = X_test_HandK.loc[:, selector.support_]\n",
    "y_pred = randomForest.predict(test_selected)\n",
    "accuracy_score(y_test_HandK, y_pred)"
   ]
  },
  {
   "cell_type": "markdown",
   "id": "207bda5f",
   "metadata": {},
   "source": [
    "#### RFE for Decision Tree"
   ]
  },
  {
   "cell_type": "code",
   "execution_count": 78,
   "id": "7ec04c90",
   "metadata": {},
   "outputs": [],
   "source": [
    "estimator = tree.DecisionTreeClassifier()\n",
    "selector = RFE(estimator, n_features_to_select=4, step=1)\n",
    "selector = selector.fit(X_train_HandK, y_train_HandK)"
   ]
  },
  {
   "cell_type": "code",
   "execution_count": 79,
   "id": "368a3aeb",
   "metadata": {},
   "outputs": [
    {
     "data": {
      "text/plain": [
       "array([False, False, False, False, False, False, False,  True, False,\n",
       "        True, False,  True,  True, False, False, False])"
      ]
     },
     "execution_count": 79,
     "metadata": {},
     "output_type": "execute_result"
    }
   ],
   "source": [
    "selector.support_"
   ]
  },
  {
   "cell_type": "code",
   "execution_count": 80,
   "id": "6ae41843",
   "metadata": {},
   "outputs": [
    {
     "data": {
      "text/html": [
       "<div>\n",
       "<style scoped>\n",
       "    .dataframe tbody tr th:only-of-type {\n",
       "        vertical-align: middle;\n",
       "    }\n",
       "\n",
       "    .dataframe tbody tr th {\n",
       "        vertical-align: top;\n",
       "    }\n",
       "\n",
       "    .dataframe thead th {\n",
       "        text-align: right;\n",
       "    }\n",
       "</style>\n",
       "<table border=\"1\" class=\"dataframe\">\n",
       "  <thead>\n",
       "    <tr style=\"text-align: right;\">\n",
       "      <th></th>\n",
       "      <th>x2_bar</th>\n",
       "      <th>xy_bar</th>\n",
       "      <th>xy2br</th>\n",
       "      <th>x_ege</th>\n",
       "    </tr>\n",
       "  </thead>\n",
       "  <tbody>\n",
       "    <tr>\n",
       "      <th>1224</th>\n",
       "      <td>7</td>\n",
       "      <td>7</td>\n",
       "      <td>10</td>\n",
       "      <td>3</td>\n",
       "    </tr>\n",
       "    <tr>\n",
       "      <th>1256</th>\n",
       "      <td>3</td>\n",
       "      <td>10</td>\n",
       "      <td>9</td>\n",
       "      <td>3</td>\n",
       "    </tr>\n",
       "    <tr>\n",
       "      <th>3956</th>\n",
       "      <td>4</td>\n",
       "      <td>11</td>\n",
       "      <td>6</td>\n",
       "      <td>5</td>\n",
       "    </tr>\n",
       "    <tr>\n",
       "      <th>13842</th>\n",
       "      <td>6</td>\n",
       "      <td>7</td>\n",
       "      <td>11</td>\n",
       "      <td>3</td>\n",
       "    </tr>\n",
       "    <tr>\n",
       "      <th>2113</th>\n",
       "      <td>3</td>\n",
       "      <td>11</td>\n",
       "      <td>11</td>\n",
       "      <td>4</td>\n",
       "    </tr>\n",
       "    <tr>\n",
       "      <th>...</th>\n",
       "      <td>...</td>\n",
       "      <td>...</td>\n",
       "      <td>...</td>\n",
       "      <td>...</td>\n",
       "    </tr>\n",
       "    <tr>\n",
       "      <th>15164</th>\n",
       "      <td>1</td>\n",
       "      <td>10</td>\n",
       "      <td>9</td>\n",
       "      <td>5</td>\n",
       "    </tr>\n",
       "    <tr>\n",
       "      <th>17523</th>\n",
       "      <td>1</td>\n",
       "      <td>10</td>\n",
       "      <td>8</td>\n",
       "      <td>6</td>\n",
       "    </tr>\n",
       "    <tr>\n",
       "      <th>11385</th>\n",
       "      <td>3</td>\n",
       "      <td>10</td>\n",
       "      <td>8</td>\n",
       "      <td>4</td>\n",
       "    </tr>\n",
       "    <tr>\n",
       "      <th>19772</th>\n",
       "      <td>15</td>\n",
       "      <td>7</td>\n",
       "      <td>8</td>\n",
       "      <td>3</td>\n",
       "    </tr>\n",
       "    <tr>\n",
       "      <th>15091</th>\n",
       "      <td>6</td>\n",
       "      <td>7</td>\n",
       "      <td>7</td>\n",
       "      <td>3</td>\n",
       "    </tr>\n",
       "  </tbody>\n",
       "</table>\n",
       "<p>1325 rows × 4 columns</p>\n",
       "</div>"
      ],
      "text/plain": [
       "       x2_bar  xy_bar  xy2br  x_ege\n",
       "1224        7       7     10      3\n",
       "1256        3      10      9      3\n",
       "3956        4      11      6      5\n",
       "13842       6       7     11      3\n",
       "2113        3      11     11      4\n",
       "...       ...     ...    ...    ...\n",
       "15164       1      10      9      5\n",
       "17523       1      10      8      6\n",
       "11385       3      10      8      4\n",
       "19772      15       7      8      3\n",
       "15091       6       7      7      3\n",
       "\n",
       "[1325 rows x 4 columns]"
      ]
     },
     "execution_count": 80,
     "metadata": {},
     "output_type": "execute_result"
    }
   ],
   "source": [
    "selected = X_train_HandK.loc[:, selector.support_]\n",
    "selected"
   ]
  },
  {
   "cell_type": "code",
   "execution_count": 81,
   "id": "ef672437",
   "metadata": {},
   "outputs": [
    {
     "data": {
      "text/plain": [
       "{'fit_time': array([0.00898409, 0.01287246, 0.01022148, 0.01173544, 0.00992441]),\n",
       " 'score_time': array([0.00679493, 0.00651598, 0.00855517, 0.00657344, 0.00532079]),\n",
       " 'test_score': array([0.90566038, 0.95471698, 0.93962264, 0.9245283 , 0.93207547]),\n",
       " 'train_score': array([0.97641509, 0.96792453, 0.96981132, 0.97264151, 0.96792453])}"
      ]
     },
     "execution_count": 81,
     "metadata": {},
     "output_type": "execute_result"
    }
   ],
   "source": [
    "decisionTree = tree.DecisionTreeClassifier()\n",
    "cv_results = cross_validate(decisionTree, selected, y_train_HandK, cv=5, return_train_score=True)\n",
    "cv_results"
   ]
  },
  {
   "cell_type": "code",
   "execution_count": 82,
   "id": "c9698a91",
   "metadata": {},
   "outputs": [
    {
     "name": "stdout",
     "output_type": "stream",
     "text": [
      "0.8226415094339623\n",
      "0.8475471698113208\n",
      "0.8649056603773586\n",
      "0.8898113207547171\n",
      "0.9230188679245284\n",
      "0.9313207547169812\n",
      "0.9328301886792453\n",
      "0.9320754716981131\n",
      "Best performance:  0.9328301886792453\n",
      "Ideal max depth:  13\n"
     ]
    }
   ],
   "source": [
    "# Tuning max_depth Hyperparameter\n",
    "max_depths = [1, 2, 3, 5, 7, 10, 13, 15]\n",
    "scores = []\n",
    "for i in range(len(max_depths)):\n",
    "    decisionTree = tree.DecisionTreeClassifier(max_depth=max_depths[i], random_state=0)\n",
    "    cv_results = cross_validate(decisionTree, selected, y_train_HandK, cv=5)\n",
    "    scores.append(np.mean(cv_results.get(\"test_score\")))\n",
    "    print(np.mean(cv_results.get(\"test_score\")))\n",
    "print(\"Best performance: \", max(scores))\n",
    "print(\"Ideal max depth: \", max_depths[scores.index(max(scores))])"
   ]
  },
  {
   "cell_type": "code",
   "execution_count": 83,
   "id": "3672fba0",
   "metadata": {},
   "outputs": [
    {
     "data": {
      "image/png": "[encoded data removed]",
      "text/plain": [
       "<Figure size 432x288 with 1 Axes>"
      ]
     },
     "metadata": {
      "needs_background": "light"
     },
     "output_type": "display_data"
    }
   ],
   "source": [
    "plt.plot(max_depths, scores, color='blue', linestyle='solid')\n",
    "plt.xlabel('Hyper-Parameter (max_depth)')\n",
    "plt.ylabel('Score')\n",
    "plt.yscale('linear')\n",
    "plt.title('cross validation results vs hyper-parameters.')\n",
    "plt.show()"
   ]
  },
  {
   "cell_type": "code",
   "execution_count": 84,
   "id": "2fd85a79",
   "metadata": {},
   "outputs": [
    {
     "data": {
      "text/plain": [
       "0.9797297297297297"
      ]
     },
     "execution_count": 84,
     "metadata": {},
     "output_type": "execute_result"
    }
   ],
   "source": [
    "decisionTree = tree.DecisionTreeClassifier(max_depth=13, random_state=0)\n",
    "decisionTree.fit(selected, y_train_HandK)\n",
    "test_selected = X_test_HandK.loc[:, selector.support_]\n",
    "y_pred = decisionTree.predict(test_selected)\n",
    "accuracy_score(y_test_HandK, y_pred)"
   ]
  },
  {
   "cell_type": "markdown",
   "id": "6a44f81c",
   "metadata": {},
   "source": [
    "#### Scoring Methods for KNN"
   ]
  },
  {
   "cell_type": "code",
   "execution_count": 85,
   "id": "5d044c66",
   "metadata": {
    "scrolled": true
   },
   "outputs": [
    {
     "name": "stdout",
     "output_type": "stream",
     "text": [
      "Best performance:  0.8679245283018868\n",
      "Ideal k:  13\n"
     ]
    }
   ],
   "source": [
    "# Perform Univariate Feature Selection\n",
    "selector = SelectKBest(chi2, k=2)\n",
    "X_train_HandK_selected = selector.fit_transform(X_train_HandK, y_train_HandK)\n",
    "X_test_HandK_selected = selector.fit_transform(X_test_HandK, y_test_HandK)\n",
    "\n",
    "# Tuning k Hyperparameter\n",
    "max_k = 15\n",
    "scores = []\n",
    "for k in range(1, max_k):\n",
    "    knn = KNeighborsClassifier(n_neighbors=k)\n",
    "    knn.fit(X_train_HandK_selected, y_train_HandK)\n",
    "    y_pred = knn.predict(X_test_HandK_selected)\n",
    "    cv_results = cross_validate(knn, X_train_HandK_selected, y_train_HandK, cv=5)\n",
    "    scores.append(np.mean(cv_results.get(\"test_score\")))\n",
    "\n",
    "print(\"Best performance: \", max(scores))\n",
    "print(\"Ideal k: \", scores.index(max(scores))+1)\n"
   ]
  },
  {
   "cell_type": "code",
   "execution_count": 86,
   "id": "ba12f75e",
   "metadata": {},
   "outputs": [
    {
     "data": {
      "image/png": "[encoded data removed]",
      "text/plain": [
       "<Figure size 432x288 with 1 Axes>"
      ]
     },
     "metadata": {
      "needs_background": "light"
     },
     "output_type": "display_data"
    }
   ],
   "source": [
    "plt.plot(list(range(1,15)), scores, color='blue', linestyle='solid')\n",
    "plt.xlabel('Hyper-Parameter (neighbors)')\n",
    "plt.ylabel('Score')\n",
    "plt.yscale('linear')\n",
    "plt.title('cross validation results vs hyper-parameters.')\n",
    "plt.show()"
   ]
  },
  {
   "cell_type": "code",
   "execution_count": 87,
   "id": "0413259a",
   "metadata": {},
   "outputs": [
    {
     "data": {
      "text/plain": [
       "0.5608108108108109"
      ]
     },
     "execution_count": 87,
     "metadata": {},
     "output_type": "execute_result"
    }
   ],
   "source": [
    "knn = KNeighborsClassifier(n_neighbors=13)\n",
    "knn.fit(X_train_HandK_selected, y_train_HandK)\n",
    "y_pred = knn.predict(X_test_HandK_selected)\n",
    "accuracy_score(y_test_HandK, y_pred)"
   ]
  },
  {
   "cell_type": "markdown",
   "id": "405712f0",
   "metadata": {},
   "source": [
    "#### RFE for SVM"
   ]
  },
  {
   "cell_type": "code",
   "execution_count": 88,
   "id": "c282c2fc",
   "metadata": {},
   "outputs": [],
   "source": [
    "estimator = SVC(kernel='linear', C=1)\n",
    "selector = RFE(estimator, n_features_to_select=4, step=1)\n",
    "selector = selector.fit(X_train_HandK, y_train_HandK)"
   ]
  },
  {
   "cell_type": "code",
   "execution_count": 89,
   "id": "5972f209",
   "metadata": {},
   "outputs": [],
   "source": [
    "X_train_HandK_selected = X_train_HandK.loc[:, selector.support_]\n",
    "X_test_HandK_selected = X_test_HandK.loc[:, selector.support_]"
   ]
  },
  {
   "cell_type": "code",
   "execution_count": 90,
   "id": "9231cc9d",
   "metadata": {
    "scrolled": false
   },
   "outputs": [
    {
     "name": "stdout",
     "output_type": "stream",
     "text": [
      "Best performance:  0.909433962264151\n",
      "Ideal C:  5\n"
     ]
    }
   ],
   "source": [
    "# Tuning C Hyperparameter with selected features\n",
    "max_C = 15\n",
    "scores = []\n",
    "for C in range(1, max_C):\n",
    "    svm = SVC(kernel='linear', C=C)\n",
    "    svm.fit(X_train_HandK_selected, y_train_HandK)\n",
    "    y_pred = svm.predict(X_train_HandK_selected)\n",
    "    cv_results = cross_validate(svm, X_train_HandK_selected, y_train_HandK, cv=5)\n",
    "    scores.append(np.mean(cv_results.get(\"test_score\")))\n",
    "\n",
    "print(\"Best performance: \", max(scores))\n",
    "print(\"Ideal C: \", scores.index(max(scores))+1)"
   ]
  },
  {
   "cell_type": "code",
   "execution_count": 91,
   "id": "a765d234",
   "metadata": {},
   "outputs": [
    {
     "data": {
      "image/png": "[encoded data removed]",
      "text/plain": [
       "<Figure size 432x288 with 1 Axes>"
      ]
     },
     "metadata": {
      "needs_background": "light"
     },
     "output_type": "display_data"
    }
   ],
   "source": [
    "plt.plot(list(range(1,15)), scores, color='blue', linestyle='solid')\n",
    "plt.xlabel('Hyper-Parameter (C)')\n",
    "plt.ylabel('Score')\n",
    "plt.yscale('linear')\n",
    "plt.title('cross validation results vs hyper-parameters.')\n",
    "plt.show()"
   ]
  },
  {
   "cell_type": "code",
   "execution_count": 92,
   "id": "91196d31",
   "metadata": {},
   "outputs": [
    {
     "data": {
      "text/plain": [
       "0.9527027027027027"
      ]
     },
     "execution_count": 92,
     "metadata": {},
     "output_type": "execute_result"
    }
   ],
   "source": [
    "svm = SVC(kernel='linear', C=7)\n",
    "svm.fit(X_train_HandK_selected, y_train_HandK)\n",
    "y_pred = svm.predict(X_test_HandK_selected)\n",
    "accuracy_score(y_test_HandK, y_pred)"
   ]
  },
  {
   "cell_type": "markdown",
   "id": "e4ffe096",
   "metadata": {},
   "source": [
    "## Feature selection for M and Y"
   ]
  },
  {
   "cell_type": "markdown",
   "id": "c5bdc14c",
   "metadata": {},
   "source": [
    "#### RFE for Random Forest"
   ]
  },
  {
   "cell_type": "code",
   "execution_count": 93,
   "id": "d7771d0c",
   "metadata": {},
   "outputs": [],
   "source": [
    "estimator = RandomForestClassifier(max_depth=2, random_state=0)\n",
    "selector = RFE(estimator, n_features_to_select=4, step=1)\n",
    "selector = selector.fit(X_train_MandY, y_train_MandY)"
   ]
  },
  {
   "cell_type": "code",
   "execution_count": 94,
   "id": "d8745a67",
   "metadata": {},
   "outputs": [
    {
     "data": {
      "text/plain": [
       "array([False, False, False, False, False, False,  True, False, False,\n",
       "       False,  True, False,  True,  True, False, False])"
      ]
     },
     "execution_count": 94,
     "metadata": {},
     "output_type": "execute_result"
    }
   ],
   "source": [
    "selector.support_"
   ]
  },
  {
   "cell_type": "code",
   "execution_count": 95,
   "id": "e7e2cd52",
   "metadata": {},
   "outputs": [
    {
     "data": {
      "text/html": [
       "<div>\n",
       "<style scoped>\n",
       "    .dataframe tbody tr th:only-of-type {\n",
       "        vertical-align: middle;\n",
       "    }\n",
       "\n",
       "    .dataframe tbody tr th {\n",
       "        vertical-align: top;\n",
       "    }\n",
       "\n",
       "    .dataframe thead th {\n",
       "        text-align: right;\n",
       "    }\n",
       "</style>\n",
       "<table border=\"1\" class=\"dataframe\">\n",
       "  <thead>\n",
       "    <tr style=\"text-align: right;\">\n",
       "      <th></th>\n",
       "      <th>y_bar</th>\n",
       "      <th>x2y_br</th>\n",
       "      <th>x_ege</th>\n",
       "      <th>xegvy</th>\n",
       "    </tr>\n",
       "  </thead>\n",
       "  <tbody>\n",
       "    <tr>\n",
       "      <th>2045</th>\n",
       "      <td>10</td>\n",
       "      <td>11</td>\n",
       "      <td>1</td>\n",
       "      <td>11</td>\n",
       "    </tr>\n",
       "    <tr>\n",
       "      <th>2468</th>\n",
       "      <td>11</td>\n",
       "      <td>12</td>\n",
       "      <td>1</td>\n",
       "      <td>11</td>\n",
       "    </tr>\n",
       "    <tr>\n",
       "      <th>17140</th>\n",
       "      <td>5</td>\n",
       "      <td>8</td>\n",
       "      <td>8</td>\n",
       "      <td>6</td>\n",
       "    </tr>\n",
       "    <tr>\n",
       "      <th>5281</th>\n",
       "      <td>11</td>\n",
       "      <td>10</td>\n",
       "      <td>1</td>\n",
       "      <td>11</td>\n",
       "    </tr>\n",
       "    <tr>\n",
       "      <th>7930</th>\n",
       "      <td>7</td>\n",
       "      <td>9</td>\n",
       "      <td>9</td>\n",
       "      <td>6</td>\n",
       "    </tr>\n",
       "    <tr>\n",
       "      <th>...</th>\n",
       "      <td>...</td>\n",
       "      <td>...</td>\n",
       "      <td>...</td>\n",
       "      <td>...</td>\n",
       "    </tr>\n",
       "    <tr>\n",
       "      <th>13995</th>\n",
       "      <td>10</td>\n",
       "      <td>9</td>\n",
       "      <td>1</td>\n",
       "      <td>11</td>\n",
       "    </tr>\n",
       "    <tr>\n",
       "      <th>16058</th>\n",
       "      <td>9</td>\n",
       "      <td>9</td>\n",
       "      <td>1</td>\n",
       "      <td>11</td>\n",
       "    </tr>\n",
       "    <tr>\n",
       "      <th>10479</th>\n",
       "      <td>9</td>\n",
       "      <td>12</td>\n",
       "      <td>1</td>\n",
       "      <td>10</td>\n",
       "    </tr>\n",
       "    <tr>\n",
       "      <th>18334</th>\n",
       "      <td>8</td>\n",
       "      <td>6</td>\n",
       "      <td>4</td>\n",
       "      <td>10</td>\n",
       "    </tr>\n",
       "    <tr>\n",
       "      <th>13930</th>\n",
       "      <td>6</td>\n",
       "      <td>9</td>\n",
       "      <td>7</td>\n",
       "      <td>5</td>\n",
       "    </tr>\n",
       "  </tbody>\n",
       "</table>\n",
       "<p>1420 rows × 4 columns</p>\n",
       "</div>"
      ],
      "text/plain": [
       "       y_bar  x2y_br  x_ege  xegvy\n",
       "2045      10      11      1     11\n",
       "2468      11      12      1     11\n",
       "17140      5       8      8      6\n",
       "5281      11      10      1     11\n",
       "7930       7       9      9      6\n",
       "...      ...     ...    ...    ...\n",
       "13995     10       9      1     11\n",
       "16058      9       9      1     11\n",
       "10479      9      12      1     10\n",
       "18334      8       6      4     10\n",
       "13930      6       9      7      5\n",
       "\n",
       "[1420 rows x 4 columns]"
      ]
     },
     "execution_count": 95,
     "metadata": {},
     "output_type": "execute_result"
    }
   ],
   "source": [
    "selected = X_train_MandY.loc[:, selector.support_]\n",
    "selected"
   ]
  },
  {
   "cell_type": "code",
   "execution_count": 96,
   "id": "662fcaa8",
   "metadata": {},
   "outputs": [
    {
     "data": {
      "text/plain": [
       "{'fit_time': array([0.30609632, 0.38796282, 0.27498031, 0.27241063, 0.26977062]),\n",
       " 'score_time': array([0.03979445, 0.02551007, 0.03759003, 0.02558041, 0.03224969]),\n",
       " 'test_score': array([0.97887324, 0.98591549, 0.98943662, 0.98239437, 0.98239437])}"
      ]
     },
     "execution_count": 96,
     "metadata": {},
     "output_type": "execute_result"
    }
   ],
   "source": [
    "randomForest = RandomForestClassifier(max_depth=2, random_state=0)\n",
    "cv_results = cross_validate(randomForest, selected, y_train_MandY, cv=5)\n",
    "cv_results"
   ]
  },
  {
   "cell_type": "code",
   "execution_count": 97,
   "id": "2fe5d93e",
   "metadata": {
    "scrolled": true
   },
   "outputs": [
    {
     "name": "stdout",
     "output_type": "stream",
     "text": [
      "0.9669014084507044\n",
      "0.9838028169014084\n",
      "0.9816901408450704\n",
      "0.9887323943661972\n",
      "0.9894366197183098\n",
      "0.9915492957746478\n",
      "0.9915492957746478\n",
      "0.9915492957746478\n",
      "Best performance:  0.9915492957746478\n",
      "Ideal max depth:  10\n"
     ]
    }
   ],
   "source": [
    "# Tuning max_depth Hyperparameter\n",
    "max_depths = [1, 2, 3, 5, 7, 10, 13, 15]\n",
    "scores = []\n",
    "for i in range(len(max_depths)):\n",
    "    randomForest = RandomForestClassifier(max_depth=max_depths[i], random_state=0)\n",
    "    cv_results = cross_validate(randomForest, selected, y_train_MandY, cv=5)\n",
    "    scores.append(np.mean(cv_results.get(\"test_score\")))\n",
    "    print(np.mean(cv_results.get(\"test_score\")))\n",
    "print(\"Best performance: \", max(scores))\n",
    "print(\"Ideal max depth: \", max_depths[scores.index(max(scores))])"
   ]
  },
  {
   "cell_type": "code",
   "execution_count": 98,
   "id": "65790e85",
   "metadata": {},
   "outputs": [
    {
     "data": {
      "image/png": "[encoded data removed]",
      "text/plain": [
       "<Figure size 432x288 with 1 Axes>"
      ]
     },
     "metadata": {
      "needs_background": "light"
     },
     "output_type": "display_data"
    }
   ],
   "source": [
    "plt.plot(max_depths, scores, color='blue', linestyle='solid')\n",
    "plt.xlabel('Hyper-Parameter (max_depth)')\n",
    "plt.ylabel('Score')\n",
    "plt.yscale('linear')\n",
    "plt.title('cross validation results vs hyper-parameters.')\n",
    "plt.show()"
   ]
  },
  {
   "cell_type": "code",
   "execution_count": 99,
   "id": "7924746d",
   "metadata": {},
   "outputs": [
    {
     "data": {
      "text/plain": [
       "0.9936708860759493"
      ]
     },
     "execution_count": 99,
     "metadata": {},
     "output_type": "execute_result"
    }
   ],
   "source": [
    "randomForest = RandomForestClassifier(max_depth=10, random_state=0)\n",
    "randomForest.fit(selected, y_train_MandY)\n",
    "test_selected = X_test_MandY.loc[:, selector.support_]\n",
    "y_pred = randomForest.predict(test_selected)\n",
    "accuracy_score(y_test_MandY, y_pred)"
   ]
  },
  {
   "cell_type": "markdown",
   "id": "5946b3fc",
   "metadata": {},
   "source": [
    "#### RFE for Decision Tree"
   ]
  },
  {
   "cell_type": "code",
   "execution_count": 100,
   "id": "ffed4272",
   "metadata": {},
   "outputs": [],
   "source": [
    "estimator = tree.DecisionTreeClassifier()\n",
    "selector = RFE(estimator, n_features_to_select=4, step=1)\n",
    "selector = selector.fit(X_train_MandY, y_train_MandY)"
   ]
  },
  {
   "cell_type": "code",
   "execution_count": 101,
   "id": "48d41d6c",
   "metadata": {},
   "outputs": [
    {
     "data": {
      "text/plain": [
       "array([False, False, False,  True, False, False, False, False, False,\n",
       "       False, False, False,  True,  True, False,  True])"
      ]
     },
     "execution_count": 101,
     "metadata": {},
     "output_type": "execute_result"
    }
   ],
   "source": [
    "selector.support_"
   ]
  },
  {
   "cell_type": "code",
   "execution_count": 102,
   "id": "22bc17db",
   "metadata": {},
   "outputs": [
    {
     "data": {
      "text/html": [
       "<div>\n",
       "<style scoped>\n",
       "    .dataframe tbody tr th:only-of-type {\n",
       "        vertical-align: middle;\n",
       "    }\n",
       "\n",
       "    .dataframe tbody tr th {\n",
       "        vertical-align: top;\n",
       "    }\n",
       "\n",
       "    .dataframe thead th {\n",
       "        text-align: right;\n",
       "    }\n",
       "</style>\n",
       "<table border=\"1\" class=\"dataframe\">\n",
       "  <thead>\n",
       "    <tr style=\"text-align: right;\">\n",
       "      <th></th>\n",
       "      <th>thigh</th>\n",
       "      <th>x_ege</th>\n",
       "      <th>xegvy</th>\n",
       "      <th>yegvx</th>\n",
       "    </tr>\n",
       "  </thead>\n",
       "  <tbody>\n",
       "    <tr>\n",
       "      <th>2045</th>\n",
       "      <td>4</td>\n",
       "      <td>1</td>\n",
       "      <td>11</td>\n",
       "      <td>8</td>\n",
       "    </tr>\n",
       "    <tr>\n",
       "      <th>2468</th>\n",
       "      <td>8</td>\n",
       "      <td>1</td>\n",
       "      <td>11</td>\n",
       "      <td>8</td>\n",
       "    </tr>\n",
       "    <tr>\n",
       "      <th>17140</th>\n",
       "      <td>6</td>\n",
       "      <td>8</td>\n",
       "      <td>6</td>\n",
       "      <td>6</td>\n",
       "    </tr>\n",
       "    <tr>\n",
       "      <th>5281</th>\n",
       "      <td>3</td>\n",
       "      <td>1</td>\n",
       "      <td>11</td>\n",
       "      <td>5</td>\n",
       "    </tr>\n",
       "    <tr>\n",
       "      <th>7930</th>\n",
       "      <td>6</td>\n",
       "      <td>9</td>\n",
       "      <td>6</td>\n",
       "      <td>8</td>\n",
       "    </tr>\n",
       "    <tr>\n",
       "      <th>...</th>\n",
       "      <td>...</td>\n",
       "      <td>...</td>\n",
       "      <td>...</td>\n",
       "      <td>...</td>\n",
       "    </tr>\n",
       "    <tr>\n",
       "      <th>13995</th>\n",
       "      <td>2</td>\n",
       "      <td>1</td>\n",
       "      <td>11</td>\n",
       "      <td>5</td>\n",
       "    </tr>\n",
       "    <tr>\n",
       "      <th>16058</th>\n",
       "      <td>6</td>\n",
       "      <td>1</td>\n",
       "      <td>11</td>\n",
       "      <td>5</td>\n",
       "    </tr>\n",
       "    <tr>\n",
       "      <th>10479</th>\n",
       "      <td>1</td>\n",
       "      <td>1</td>\n",
       "      <td>10</td>\n",
       "      <td>8</td>\n",
       "    </tr>\n",
       "    <tr>\n",
       "      <th>18334</th>\n",
       "      <td>6</td>\n",
       "      <td>4</td>\n",
       "      <td>10</td>\n",
       "      <td>5</td>\n",
       "    </tr>\n",
       "    <tr>\n",
       "      <th>13930</th>\n",
       "      <td>2</td>\n",
       "      <td>7</td>\n",
       "      <td>5</td>\n",
       "      <td>8</td>\n",
       "    </tr>\n",
       "  </tbody>\n",
       "</table>\n",
       "<p>1420 rows × 4 columns</p>\n",
       "</div>"
      ],
      "text/plain": [
       "       thigh  x_ege  xegvy  yegvx\n",
       "2045       4      1     11      8\n",
       "2468       8      1     11      8\n",
       "17140      6      8      6      6\n",
       "5281       3      1     11      5\n",
       "7930       6      9      6      8\n",
       "...      ...    ...    ...    ...\n",
       "13995      2      1     11      5\n",
       "16058      6      1     11      5\n",
       "10479      1      1     10      8\n",
       "18334      6      4     10      5\n",
       "13930      2      7      5      8\n",
       "\n",
       "[1420 rows x 4 columns]"
      ]
     },
     "execution_count": 102,
     "metadata": {},
     "output_type": "execute_result"
    }
   ],
   "source": [
    "selected = X_train_MandY.loc[:, selector.support_]\n",
    "selected"
   ]
  },
  {
   "cell_type": "code",
   "execution_count": 103,
   "id": "5bdf2b10",
   "metadata": {},
   "outputs": [
    {
     "data": {
      "text/plain": [
       "{'fit_time': array([0.00774837, 0.00649714, 0.00850821, 0.00652432, 0.00687289]),\n",
       " 'score_time': array([0.00384688, 0.00399446, 0.00362182, 0.00359201, 0.00298476]),\n",
       " 'test_score': array([0.98943662, 0.98591549, 0.98239437, 0.99295775, 0.98591549]),\n",
       " 'train_score': array([0.99823944, 1.        , 0.99911972, 0.99823944, 0.99911972])}"
      ]
     },
     "execution_count": 103,
     "metadata": {},
     "output_type": "execute_result"
    }
   ],
   "source": [
    "decisionTree = tree.DecisionTreeClassifier()\n",
    "cv_results = cross_validate(decisionTree, selected, y_train_MandY, cv=5, return_train_score=True)\n",
    "cv_results"
   ]
  },
  {
   "cell_type": "code",
   "execution_count": 104,
   "id": "43d80bee",
   "metadata": {},
   "outputs": [
    {
     "name": "stdout",
     "output_type": "stream",
     "text": [
      "0.95\n",
      "0.9774647887323944\n",
      "0.9774647887323944\n",
      "0.9873239436619718\n",
      "0.9866197183098592\n",
      "0.9852112676056338\n",
      "0.9852112676056338\n",
      "0.9852112676056338\n",
      "Best performance:  0.9873239436619718\n",
      "Ideal max depth:  5\n"
     ]
    }
   ],
   "source": [
    "# Tuning max_depth Hyperparameter\n",
    "max_depths = [1, 2, 3, 5, 7, 10, 13, 15]\n",
    "scores = []\n",
    "for i in range(len(max_depths)):\n",
    "    decisionTree = tree.DecisionTreeClassifier(max_depth=max_depths[i], random_state=0)\n",
    "    cv_results = cross_validate(decisionTree, selected, y_train_MandY, cv=5)\n",
    "    scores.append(np.mean(cv_results.get(\"test_score\")))\n",
    "    print(np.mean(cv_results.get(\"test_score\")))\n",
    "print(\"Best performance: \", max(scores))\n",
    "print(\"Ideal max depth: \", max_depths[scores.index(max(scores))])"
   ]
  },
  {
   "cell_type": "code",
   "execution_count": 105,
   "id": "77c92729",
   "metadata": {},
   "outputs": [
    {
     "data": {
      "image/png": "[encoded data removed]",
      "text/plain": [
       "<Figure size 432x288 with 1 Axes>"
      ]
     },
     "metadata": {
      "needs_background": "light"
     },
     "output_type": "display_data"
    }
   ],
   "source": [
    "plt.plot(max_depths, scores, color='blue', linestyle='solid')\n",
    "plt.xlabel('Hyper-Parameter (max_depth)')\n",
    "plt.ylabel('Score')\n",
    "plt.yscale('linear')\n",
    "plt.title('cross validation results vs hyper-parameters.')\n",
    "plt.show()"
   ]
  },
  {
   "cell_type": "code",
   "execution_count": 106,
   "id": "b00b3235",
   "metadata": {},
   "outputs": [
    {
     "data": {
      "text/plain": [
       "0.9873417721518988"
      ]
     },
     "execution_count": 106,
     "metadata": {},
     "output_type": "execute_result"
    }
   ],
   "source": [
    "decisionTree = tree.DecisionTreeClassifier(max_depth=5, random_state=0)\n",
    "decisionTree.fit(selected, y_train_MandY)\n",
    "test_selected = X_test_MandY.loc[:, selector.support_]\n",
    "y_pred = decisionTree.predict(test_selected)\n",
    "accuracy_score(y_test_MandY, y_pred)"
   ]
  },
  {
   "cell_type": "markdown",
   "id": "0ed55376",
   "metadata": {},
   "source": [
    "#### Scoring Methods for KNN"
   ]
  },
  {
   "cell_type": "code",
   "execution_count": 107,
   "id": "d2596bb1",
   "metadata": {},
   "outputs": [
    {
     "name": "stdout",
     "output_type": "stream",
     "text": [
      "Best performance:  0.963380281690141\n",
      "Ideal k:  6\n"
     ]
    }
   ],
   "source": [
    "# Perform Univariate Feature Selection\n",
    "selector = SelectKBest(chi2, k=2)\n",
    "X_train_MandY_selected = selector.fit_transform(X_train_MandY, y_train_MandY)\n",
    "X_test_MandY_selected = selector.fit_transform(X_test_MandY, y_test_MandY)\n",
    "\n",
    "# Tuning k Hyperparameter\n",
    "max_k = 15\n",
    "scores = []\n",
    "for k in range(1, max_k):\n",
    "    knn = KNeighborsClassifier(n_neighbors=k)\n",
    "    knn.fit(X_train_MandY_selected, y_train_MandY)\n",
    "    y_pred = knn.predict(X_test_MandY_selected)\n",
    "    cv_results = cross_validate(knn, X_train_MandY_selected, y_train_MandY, cv=5)\n",
    "    scores.append(np.mean(cv_results.get(\"test_score\")))\n",
    "\n",
    "print(\"Best performance: \", max(scores))\n",
    "print(\"Ideal k: \", scores.index(max(scores))+1)\n"
   ]
  },
  {
   "cell_type": "code",
   "execution_count": 108,
   "id": "f61f73aa",
   "metadata": {},
   "outputs": [
    {
     "data": {
      "image/png": "[encoded data removed]",
      "text/plain": [
       "<Figure size 432x288 with 1 Axes>"
      ]
     },
     "metadata": {
      "needs_background": "light"
     },
     "output_type": "display_data"
    }
   ],
   "source": [
    "plt.plot(list(range(1,15)), scores, color='blue', linestyle='solid')\n",
    "plt.xlabel('Hyper-Parameter (neighbors)')\n",
    "plt.ylabel('Score')\n",
    "plt.yscale('linear')\n",
    "plt.title('cross validation results vs hyper-parameters.')\n",
    "plt.show()"
   ]
  },
  {
   "cell_type": "code",
   "execution_count": 109,
   "id": "774a4457",
   "metadata": {},
   "outputs": [
    {
     "data": {
      "text/plain": [
       "0.35443037974683544"
      ]
     },
     "execution_count": 109,
     "metadata": {},
     "output_type": "execute_result"
    }
   ],
   "source": [
    "knn = KNeighborsClassifier(n_neighbors=k)\n",
    "knn.fit(X_train_MandY_selected, y_train_MandY)\n",
    "y_pred = knn.predict(X_test_MandY_selected)\n",
    "accuracy_score(y_test_MandY, y_pred)"
   ]
  },
  {
   "cell_type": "markdown",
   "id": "4d679dfd",
   "metadata": {},
   "source": [
    "#### RFE for SVM"
   ]
  },
  {
   "cell_type": "code",
   "execution_count": 110,
   "id": "afd892e8",
   "metadata": {},
   "outputs": [],
   "source": [
    "estimator = SVC(kernel='linear', C=1)\n",
    "selector = RFE(estimator, n_features_to_select=4, step=1)\n",
    "selector = selector.fit(X_train_MandY, y_train_MandY)"
   ]
  },
  {
   "cell_type": "code",
   "execution_count": 111,
   "id": "aee5ee45",
   "metadata": {},
   "outputs": [],
   "source": [
    "X_train_MandY_selected = X_train_MandY.loc[:, selector.support_]\n",
    "X_test_MandY_selected = X_test_MandY.loc[:, selector.support_]"
   ]
  },
  {
   "cell_type": "code",
   "execution_count": 112,
   "id": "9dc737f7",
   "metadata": {},
   "outputs": [
    {
     "name": "stdout",
     "output_type": "stream",
     "text": [
      "Best performance:  0.9887323943661972\n",
      "Ideal C:  1\n"
     ]
    }
   ],
   "source": [
    "# Tuning C Hyperparameter with selected features\n",
    "max_C = 15\n",
    "scores = []\n",
    "for C in range(1, max_C):\n",
    "    svm = SVC(kernel='linear', C=C)\n",
    "    svm.fit(X_train_MandY_selected, y_train_MandY)\n",
    "    y_pred = svm.predict(X_train_MandY_selected)\n",
    "    cv_results = cross_validate(svm, X_train_MandY_selected, y_train_MandY, cv=5)\n",
    "    scores.append(np.mean(cv_results.get(\"test_score\")))\n",
    "\n",
    "print(\"Best performance: \", max(scores))\n",
    "print(\"Ideal C: \", scores.index(max(scores))+1)"
   ]
  },
  {
   "cell_type": "code",
   "execution_count": 113,
   "id": "42f1b6fd",
   "metadata": {},
   "outputs": [
    {
     "data": {
      "image/png": "[encoded data removed]",
      "text/plain": [
       "<Figure size 432x288 with 1 Axes>"
      ]
     },
     "metadata": {
      "needs_background": "light"
     },
     "output_type": "display_data"
    }
   ],
   "source": [
    "plt.plot(list(range(1,15)), scores, color='blue', linestyle='solid')\n",
    "plt.xlabel('Hyper-Parameter (C)')\n",
    "plt.ylabel('Score')\n",
    "plt.yscale('linear')\n",
    "plt.title('cross validation results vs hyper-parameters.')\n",
    "plt.show()"
   ]
  },
  {
   "cell_type": "code",
   "execution_count": 114,
   "id": "c15b23e2",
   "metadata": {},
   "outputs": [
    {
     "data": {
      "text/plain": [
       "0.9620253164556962"
      ]
     },
     "execution_count": 114,
     "metadata": {},
     "output_type": "execute_result"
    }
   ],
   "source": [
    "svm = SVC(kernel='linear', C=5)\n",
    "svm.fit(X_train_MandY_selected, y_train_MandY)\n",
    "y_pred = svm.predict(X_test_MandY_selected)\n",
    "accuracy_score(y_test_MandY, y_pred)"
   ]
  },
  {
   "cell_type": "markdown",
   "id": "cb3f270e",
   "metadata": {},
   "source": [
    "## Feature selection for E and T"
   ]
  },
  {
   "cell_type": "markdown",
   "id": "8f63b269",
   "metadata": {},
   "source": [
    "#### RFE for Random Forest"
   ]
  },
  {
   "cell_type": "code",
   "execution_count": 115,
   "id": "1b22b6c8",
   "metadata": {},
   "outputs": [],
   "source": [
    "estimator = RandomForestClassifier(max_depth=2, random_state=0)\n",
    "selector = RFE(estimator, n_features_to_select=4, step=1)\n",
    "selector = selector.fit(X_train_EandT, y_train_EandT)"
   ]
  },
  {
   "cell_type": "code",
   "execution_count": 116,
   "id": "21808f87",
   "metadata": {},
   "outputs": [
    {
     "data": {
      "text/plain": [
       "array([False, False, False, False, False, False,  True, False, False,\n",
       "       False,  True,  True, False, False,  True, False])"
      ]
     },
     "execution_count": 116,
     "metadata": {},
     "output_type": "execute_result"
    }
   ],
   "source": [
    "selector.support_"
   ]
  },
  {
   "cell_type": "code",
   "execution_count": 117,
   "id": "54191393",
   "metadata": {},
   "outputs": [
    {
     "data": {
      "text/html": [
       "<div>\n",
       "<style scoped>\n",
       "    .dataframe tbody tr th:only-of-type {\n",
       "        vertical-align: middle;\n",
       "    }\n",
       "\n",
       "    .dataframe tbody tr th {\n",
       "        vertical-align: top;\n",
       "    }\n",
       "\n",
       "    .dataframe thead th {\n",
       "        text-align: right;\n",
       "    }\n",
       "</style>\n",
       "<table border=\"1\" class=\"dataframe\">\n",
       "  <thead>\n",
       "    <tr style=\"text-align: right;\">\n",
       "      <th></th>\n",
       "      <th>y_bar</th>\n",
       "      <th>x2y_br</th>\n",
       "      <th>xy2br</th>\n",
       "      <th>y_ege</th>\n",
       "    </tr>\n",
       "  </thead>\n",
       "  <tbody>\n",
       "    <tr>\n",
       "      <th>5932</th>\n",
       "      <td>7</td>\n",
       "      <td>6</td>\n",
       "      <td>9</td>\n",
       "      <td>5</td>\n",
       "    </tr>\n",
       "    <tr>\n",
       "      <th>663</th>\n",
       "      <td>7</td>\n",
       "      <td>5</td>\n",
       "      <td>8</td>\n",
       "      <td>5</td>\n",
       "    </tr>\n",
       "    <tr>\n",
       "      <th>6229</th>\n",
       "      <td>6</td>\n",
       "      <td>4</td>\n",
       "      <td>8</td>\n",
       "      <td>5</td>\n",
       "    </tr>\n",
       "    <tr>\n",
       "      <th>12824</th>\n",
       "      <td>7</td>\n",
       "      <td>8</td>\n",
       "      <td>9</td>\n",
       "      <td>4</td>\n",
       "    </tr>\n",
       "    <tr>\n",
       "      <th>15256</th>\n",
       "      <td>15</td>\n",
       "      <td>10</td>\n",
       "      <td>8</td>\n",
       "      <td>0</td>\n",
       "    </tr>\n",
       "    <tr>\n",
       "      <th>...</th>\n",
       "      <td>...</td>\n",
       "      <td>...</td>\n",
       "      <td>...</td>\n",
       "      <td>...</td>\n",
       "    </tr>\n",
       "    <tr>\n",
       "      <th>14244</th>\n",
       "      <td>13</td>\n",
       "      <td>9</td>\n",
       "      <td>4</td>\n",
       "      <td>1</td>\n",
       "    </tr>\n",
       "    <tr>\n",
       "      <th>16476</th>\n",
       "      <td>7</td>\n",
       "      <td>6</td>\n",
       "      <td>13</td>\n",
       "      <td>7</td>\n",
       "    </tr>\n",
       "    <tr>\n",
       "      <th>10620</th>\n",
       "      <td>12</td>\n",
       "      <td>9</td>\n",
       "      <td>5</td>\n",
       "      <td>2</td>\n",
       "    </tr>\n",
       "    <tr>\n",
       "      <th>18848</th>\n",
       "      <td>7</td>\n",
       "      <td>8</td>\n",
       "      <td>8</td>\n",
       "      <td>5</td>\n",
       "    </tr>\n",
       "    <tr>\n",
       "      <th>14195</th>\n",
       "      <td>10</td>\n",
       "      <td>9</td>\n",
       "      <td>4</td>\n",
       "      <td>5</td>\n",
       "    </tr>\n",
       "  </tbody>\n",
       "</table>\n",
       "<p>1407 rows × 4 columns</p>\n",
       "</div>"
      ],
      "text/plain": [
       "       y_bar  x2y_br  xy2br  y_ege\n",
       "5932       7       6      9      5\n",
       "663        7       5      8      5\n",
       "6229       6       4      8      5\n",
       "12824      7       8      9      4\n",
       "15256     15      10      8      0\n",
       "...      ...     ...    ...    ...\n",
       "14244     13       9      4      1\n",
       "16476      7       6     13      7\n",
       "10620     12       9      5      2\n",
       "18848      7       8      8      5\n",
       "14195     10       9      4      5\n",
       "\n",
       "[1407 rows x 4 columns]"
      ]
     },
     "execution_count": 117,
     "metadata": {},
     "output_type": "execute_result"
    }
   ],
   "source": [
    "selected = X_train_EandT.loc[:, selector.support_]\n",
    "selected"
   ]
  },
  {
   "cell_type": "code",
   "execution_count": 118,
   "id": "612c0551",
   "metadata": {},
   "outputs": [
    {
     "data": {
      "text/plain": [
       "{'fit_time': array([0.36886358, 0.39333081, 0.26166177, 0.35319567, 0.36171484]),\n",
       " 'score_time': array([0.08417487, 0.02575588, 0.03047013, 0.03087378, 0.02608919]),\n",
       " 'test_score': array([0.92907801, 0.90780142, 0.90747331, 0.95373665, 0.91459075])}"
      ]
     },
     "execution_count": 118,
     "metadata": {},
     "output_type": "execute_result"
    }
   ],
   "source": [
    "randomForest = RandomForestClassifier(max_depth=2, random_state=0)\n",
    "cv_results = cross_validate(randomForest, selected, y_train_EandT, cv=5)\n",
    "cv_results"
   ]
  },
  {
   "cell_type": "code",
   "execution_count": 119,
   "id": "9dc47c59",
   "metadata": {},
   "outputs": [
    {
     "name": "stdout",
     "output_type": "stream",
     "text": [
      "0.9005047828171928\n",
      "0.9225360288735771\n",
      "0.9289341510814972\n",
      "0.9331970419726913\n",
      "0.9403043840387673\n",
      "0.9459932863885314\n",
      "0.9474142500189293\n",
      "0.9459882385603595\n",
      "Best performance:  0.9474142500189293\n",
      "Ideal max depth:  13\n"
     ]
    }
   ],
   "source": [
    "# Tuning max_depth Hyperparameter\n",
    "max_depths = [1, 2, 3, 5, 7, 10, 13, 15]\n",
    "scores = []\n",
    "for i in range(len(max_depths)):\n",
    "    randomForest = RandomForestClassifier(max_depth=max_depths[i], random_state=0)\n",
    "    cv_results = cross_validate(randomForest, selected, y_train_EandT, cv=5)\n",
    "    scores.append(np.mean(cv_results.get(\"test_score\")))\n",
    "    print(np.mean(cv_results.get(\"test_score\")))\n",
    "print(\"Best performance: \", max(scores))\n",
    "print(\"Ideal max depth: \", max_depths[scores.index(max(scores))])"
   ]
  },
  {
   "cell_type": "code",
   "execution_count": 120,
   "id": "9fd8a354",
   "metadata": {},
   "outputs": [
    {
     "data": {
      "image/png": "[encoded data removed]",
      "text/plain": [
       "<Figure size 432x288 with 1 Axes>"
      ]
     },
     "metadata": {
      "needs_background": "light"
     },
     "output_type": "display_data"
    }
   ],
   "source": [
    "plt.plot(max_depths, scores, color='blue', linestyle='solid')\n",
    "plt.xlabel('Hyper-Parameter (max_depth)')\n",
    "plt.ylabel('Score')\n",
    "plt.yscale('linear')\n",
    "plt.title('cross validation results vs hyper-parameters.')\n",
    "plt.show()"
   ]
  },
  {
   "cell_type": "code",
   "execution_count": 121,
   "id": "29e3d570",
   "metadata": {},
   "outputs": [
    {
     "data": {
      "text/plain": [
       "0.9299363057324841"
      ]
     },
     "execution_count": 121,
     "metadata": {},
     "output_type": "execute_result"
    }
   ],
   "source": [
    "randomForest = RandomForestClassifier(max_depth=13, random_state=0)\n",
    "randomForest.fit(selected, y_train_EandT)\n",
    "test_selected = X_test_EandT.loc[:, selector.support_]\n",
    "y_pred = randomForest.predict(test_selected)\n",
    "accuracy_score(y_test_EandT, y_pred)"
   ]
  },
  {
   "cell_type": "markdown",
   "id": "edac1c9d",
   "metadata": {},
   "source": [
    "#### RFE for Decision Tree"
   ]
  },
  {
   "cell_type": "code",
   "execution_count": 122,
   "id": "0c1fa4f9",
   "metadata": {},
   "outputs": [],
   "source": [
    "estimator = tree.DecisionTreeClassifier()\n",
    "selector = RFE(estimator, n_features_to_select=4, step=1)\n",
    "selector = selector.fit(X_train_EandT, y_train_EandT)"
   ]
  },
  {
   "cell_type": "code",
   "execution_count": 123,
   "id": "b1405156",
   "metadata": {},
   "outputs": [
    {
     "data": {
      "text/plain": [
       "array([False, False, False, False, False, False,  True,  True, False,\n",
       "       False, False,  True,  True, False, False, False])"
      ]
     },
     "execution_count": 123,
     "metadata": {},
     "output_type": "execute_result"
    }
   ],
   "source": [
    "selector.support_"
   ]
  },
  {
   "cell_type": "code",
   "execution_count": 124,
   "id": "b4bc62b3",
   "metadata": {},
   "outputs": [
    {
     "data": {
      "text/html": [
       "<div>\n",
       "<style scoped>\n",
       "    .dataframe tbody tr th:only-of-type {\n",
       "        vertical-align: middle;\n",
       "    }\n",
       "\n",
       "    .dataframe tbody tr th {\n",
       "        vertical-align: top;\n",
       "    }\n",
       "\n",
       "    .dataframe thead th {\n",
       "        text-align: right;\n",
       "    }\n",
       "</style>\n",
       "<table border=\"1\" class=\"dataframe\">\n",
       "  <thead>\n",
       "    <tr style=\"text-align: right;\">\n",
       "      <th></th>\n",
       "      <th>y_bar</th>\n",
       "      <th>x2_bar</th>\n",
       "      <th>xy2br</th>\n",
       "      <th>x_ege</th>\n",
       "    </tr>\n",
       "  </thead>\n",
       "  <tbody>\n",
       "    <tr>\n",
       "      <th>5932</th>\n",
       "      <td>7</td>\n",
       "      <td>5</td>\n",
       "      <td>9</td>\n",
       "      <td>2</td>\n",
       "    </tr>\n",
       "    <tr>\n",
       "      <th>663</th>\n",
       "      <td>7</td>\n",
       "      <td>2</td>\n",
       "      <td>8</td>\n",
       "      <td>2</td>\n",
       "    </tr>\n",
       "    <tr>\n",
       "      <th>6229</th>\n",
       "      <td>6</td>\n",
       "      <td>2</td>\n",
       "      <td>8</td>\n",
       "      <td>5</td>\n",
       "    </tr>\n",
       "    <tr>\n",
       "      <th>12824</th>\n",
       "      <td>7</td>\n",
       "      <td>3</td>\n",
       "      <td>9</td>\n",
       "      <td>2</td>\n",
       "    </tr>\n",
       "    <tr>\n",
       "      <th>15256</th>\n",
       "      <td>15</td>\n",
       "      <td>2</td>\n",
       "      <td>8</td>\n",
       "      <td>0</td>\n",
       "    </tr>\n",
       "    <tr>\n",
       "      <th>...</th>\n",
       "      <td>...</td>\n",
       "      <td>...</td>\n",
       "      <td>...</td>\n",
       "      <td>...</td>\n",
       "    </tr>\n",
       "    <tr>\n",
       "      <th>14244</th>\n",
       "      <td>13</td>\n",
       "      <td>3</td>\n",
       "      <td>4</td>\n",
       "      <td>1</td>\n",
       "    </tr>\n",
       "    <tr>\n",
       "      <th>16476</th>\n",
       "      <td>7</td>\n",
       "      <td>5</td>\n",
       "      <td>13</td>\n",
       "      <td>0</td>\n",
       "    </tr>\n",
       "    <tr>\n",
       "      <th>10620</th>\n",
       "      <td>12</td>\n",
       "      <td>3</td>\n",
       "      <td>5</td>\n",
       "      <td>1</td>\n",
       "    </tr>\n",
       "    <tr>\n",
       "      <th>18848</th>\n",
       "      <td>7</td>\n",
       "      <td>7</td>\n",
       "      <td>8</td>\n",
       "      <td>3</td>\n",
       "    </tr>\n",
       "    <tr>\n",
       "      <th>14195</th>\n",
       "      <td>10</td>\n",
       "      <td>2</td>\n",
       "      <td>4</td>\n",
       "      <td>3</td>\n",
       "    </tr>\n",
       "  </tbody>\n",
       "</table>\n",
       "<p>1407 rows × 4 columns</p>\n",
       "</div>"
      ],
      "text/plain": [
       "       y_bar  x2_bar  xy2br  x_ege\n",
       "5932       7       5      9      2\n",
       "663        7       2      8      2\n",
       "6229       6       2      8      5\n",
       "12824      7       3      9      2\n",
       "15256     15       2      8      0\n",
       "...      ...     ...    ...    ...\n",
       "14244     13       3      4      1\n",
       "16476      7       5     13      0\n",
       "10620     12       3      5      1\n",
       "18848      7       7      8      3\n",
       "14195     10       2      4      3\n",
       "\n",
       "[1407 rows x 4 columns]"
      ]
     },
     "execution_count": 124,
     "metadata": {},
     "output_type": "execute_result"
    }
   ],
   "source": [
    "selected = X_train_EandT.loc[:, selector.support_]\n",
    "selected"
   ]
  },
  {
   "cell_type": "code",
   "execution_count": 125,
   "id": "19a4ea2b",
   "metadata": {},
   "outputs": [
    {
     "data": {
      "text/plain": [
       "{'fit_time': array([0.00649595, 0.00543404, 0.01352906, 0.00630116, 0.00572014]),\n",
       " 'score_time': array([0.00204301, 0.00409436, 0.00594974, 0.00250268, 0.0031395 ]),\n",
       " 'test_score': array([0.95744681, 0.92907801, 0.96441281, 0.97153025, 0.95373665]),\n",
       " 'train_score': array([0.97866667, 0.98222222, 0.97424512, 0.97424512, 0.97779751])}"
      ]
     },
     "execution_count": 125,
     "metadata": {},
     "output_type": "execute_result"
    }
   ],
   "source": [
    "decisionTree = tree.DecisionTreeClassifier()\n",
    "cv_results = cross_validate(decisionTree, selected, y_train_EandT, cv=5, return_train_score=True)\n",
    "cv_results"
   ]
  },
  {
   "cell_type": "code",
   "execution_count": 126,
   "id": "a5fecbef",
   "metadata": {},
   "outputs": [
    {
     "name": "stdout",
     "output_type": "stream",
     "text": [
      "0.8983720754145528\n",
      "0.9232452487317332\n",
      "0.9268039675929431\n",
      "0.9438656268140633\n",
      "0.9545291638272634\n",
      "0.9509679210519675\n",
      "0.9566618712299034\n",
      "0.9545266399131774\n",
      "Best performance:  0.9566618712299034\n",
      "Ideal max depth:  13\n"
     ]
    }
   ],
   "source": [
    "max_depths = [1, 2, 3, 5, 7, 10, 13, 15]\n",
    "scores = []\n",
    "for i in range(len(max_depths)):\n",
    "    decisionTree = tree.DecisionTreeClassifier(max_depth=max_depths[i], random_state=0)\n",
    "    cv_results = cross_validate(decisionTree, selected, y_train_EandT, cv=5)\n",
    "    scores.append(np.mean(cv_results.get(\"test_score\")))\n",
    "    print(np.mean(cv_results.get(\"test_score\")))\n",
    "print(\"Best performance: \", max(scores))\n",
    "print(\"Ideal max depth: \", max_depths[scores.index(max(scores))])"
   ]
  },
  {
   "cell_type": "code",
   "execution_count": 127,
   "id": "2d156dfc",
   "metadata": {},
   "outputs": [
    {
     "data": {
      "image/png": "[encoded data removed]",
      "text/plain": [
       "<Figure size 432x288 with 1 Axes>"
      ]
     },
     "metadata": {
      "needs_background": "light"
     },
     "output_type": "display_data"
    }
   ],
   "source": [
    "plt.plot(max_depths, scores, color='blue', linestyle='solid')\n",
    "plt.xlabel('Hyper-Parameter (max_depth)')\n",
    "plt.ylabel('Score')\n",
    "plt.yscale('linear')\n",
    "plt.title('cross validation results vs hyper-parameters.')\n",
    "plt.show()"
   ]
  },
  {
   "cell_type": "code",
   "execution_count": 128,
   "id": "9a41c0cb",
   "metadata": {},
   "outputs": [
    {
     "data": {
      "text/plain": [
       "0.9426751592356688"
      ]
     },
     "execution_count": 128,
     "metadata": {},
     "output_type": "execute_result"
    }
   ],
   "source": [
    "decisionTree = tree.DecisionTreeClassifier(max_depth=13, random_state=0)\n",
    "decisionTree.fit(selected, y_train_EandT)\n",
    "test_selected = X_test_EandT.loc[:, selector.support_]\n",
    "y_pred = decisionTree.predict(test_selected)\n",
    "accuracy_score(y_test_EandT, y_pred)"
   ]
  },
  {
   "cell_type": "markdown",
   "id": "5933a2b9",
   "metadata": {},
   "source": [
    "#### Scoring Methods for KNN"
   ]
  },
  {
   "cell_type": "code",
   "execution_count": 129,
   "id": "4c9e16b5",
   "metadata": {},
   "outputs": [
    {
     "name": "stdout",
     "output_type": "stream",
     "text": [
      "Best performance:  0.9012266222457788\n",
      "Ideal k:  12\n"
     ]
    }
   ],
   "source": [
    "# Perform Univariate Feature Selection\n",
    "selector = SelectKBest(chi2, k=2)\n",
    "X_train_EandT_selected = selector.fit_transform(X_train_EandT, y_train_EandT)\n",
    "X_test_EandT_selected = selector.fit_transform(X_test_EandT, y_test_EandT)\n",
    "\n",
    "# Tuning k Hyperparameter\n",
    "max_k = 15\n",
    "scores = []\n",
    "for k in range(1, max_k):\n",
    "    knn = KNeighborsClassifier(n_neighbors=k)\n",
    "    knn.fit(X_train_EandT_selected, y_train_EandT)\n",
    "    y_pred = knn.predict(X_test_EandT_selected)\n",
    "    cv_results = cross_validate(knn, X_train_EandT_selected, y_train_EandT, cv=5)\n",
    "    scores.append(np.mean(cv_results.get(\"test_score\")))\n",
    "\n",
    "print(\"Best performance: \", max(scores))\n",
    "print(\"Ideal k: \", scores.index(max(scores))+1)\n"
   ]
  },
  {
   "cell_type": "code",
   "execution_count": 130,
   "id": "ee84927b",
   "metadata": {},
   "outputs": [
    {
     "data": {
      "image/png": "[encoded data removed]",
      "text/plain": [
       "<Figure size 432x288 with 1 Axes>"
      ]
     },
     "metadata": {
      "needs_background": "light"
     },
     "output_type": "display_data"
    }
   ],
   "source": [
    "plt.plot(list(range(1,15)), scores, color='blue', linestyle='solid')\n",
    "plt.xlabel('Hyper-Parameter (neighbors)')\n",
    "plt.ylabel('Score')\n",
    "plt.yscale('linear')\n",
    "plt.title('cross validation results vs hyper-parameters.')\n",
    "plt.show()"
   ]
  },
  {
   "cell_type": "code",
   "execution_count": 131,
   "id": "2b3058fa",
   "metadata": {},
   "outputs": [
    {
     "data": {
      "text/plain": [
       "0.8089171974522293"
      ]
     },
     "execution_count": 131,
     "metadata": {},
     "output_type": "execute_result"
    }
   ],
   "source": [
    "knn = KNeighborsClassifier(n_neighbors=5)\n",
    "knn.fit(X_train_EandT_selected, y_train_EandT)\n",
    "y_pred = knn.predict(X_test_EandT_selected)\n",
    "accuracy_score(y_test_EandT, y_pred)"
   ]
  },
  {
   "cell_type": "markdown",
   "id": "d44081b8",
   "metadata": {},
   "source": [
    "#### RFE for SVM"
   ]
  },
  {
   "cell_type": "code",
   "execution_count": 132,
   "id": "23b2eaec",
   "metadata": {},
   "outputs": [],
   "source": [
    "estimator = SVC(kernel='linear', C=1)\n",
    "selector = RFE(estimator, n_features_to_select=4, step=1)\n",
    "selector = selector.fit(X_train_MandY, y_train_MandY)"
   ]
  },
  {
   "cell_type": "code",
   "execution_count": 133,
   "id": "499fb7ae",
   "metadata": {},
   "outputs": [],
   "source": [
    "X_train_MandY_selected = X_train_MandY.loc[:, selector.support_]\n",
    "X_test_MandY_selected = X_test_MandY.loc[:, selector.support_]"
   ]
  },
  {
   "cell_type": "code",
   "execution_count": 134,
   "id": "59e2d2e0",
   "metadata": {},
   "outputs": [
    {
     "name": "stdout",
     "output_type": "stream",
     "text": [
      "Best performance:  0.9005047828171928\n",
      "Ideal C:  1\n"
     ]
    }
   ],
   "source": [
    "# Tuning C Hyperparameter with selected features\n",
    "max_C = 15\n",
    "scores = []\n",
    "for C in range(1, max_C):\n",
    "    svm = SVC(kernel='linear', C=C)\n",
    "    svm.fit(X_train_EandT_selected, y_train_EandT)\n",
    "    y_pred = svm.predict(X_train_EandT_selected)\n",
    "    cv_results = cross_validate(svm, X_train_EandT_selected, y_train_EandT, cv=5)\n",
    "    scores.append(np.mean(cv_results.get(\"test_score\")))\n",
    "\n",
    "print(\"Best performance: \", max(scores))\n",
    "print(\"Ideal C: \", scores.index(max(scores))+1)"
   ]
  },
  {
   "cell_type": "code",
   "execution_count": 135,
   "id": "0bd4f44a",
   "metadata": {},
   "outputs": [
    {
     "data": {
      "image/png": "[encoded data removed]",
      "text/plain": [
       "<Figure size 432x288 with 1 Axes>"
      ]
     },
     "metadata": {
      "needs_background": "light"
     },
     "output_type": "display_data"
    }
   ],
   "source": [
    "plt.plot(list(range(1,15)), scores, color='blue', linestyle='solid')\n",
    "plt.xlabel('Hyper-Parameter (C)')\n",
    "plt.ylabel('Score')\n",
    "plt.yscale('linear')\n",
    "plt.title('cross validation results vs hyper-parameters.')\n",
    "plt.show()"
   ]
  },
  {
   "cell_type": "code",
   "execution_count": 136,
   "id": "bef96d35",
   "metadata": {},
   "outputs": [
    {
     "data": {
      "text/plain": [
       "0.8535031847133758"
      ]
     },
     "execution_count": 136,
     "metadata": {},
     "output_type": "execute_result"
    }
   ],
   "source": [
    "svm = SVC(kernel='linear', C=1)\n",
    "svm.fit(X_train_EandT_selected, y_train_EandT)\n",
    "y_pred = svm.predict(X_test_EandT_selected)\n",
    "accuracy_score(y_test_EandT, y_pred)"
   ]
  }
 ],
 "metadata": {
  "kernelspec": {
   "display_name": "Python 3 (ipykernel)",
   "language": "python",
   "name": "python3"
  },
  "language_info": {
   "codemirror_mode": {
    "name": "ipython",
    "version": 3
   },
   "file_extension": ".py",
   "mimetype": "text/x-python",
   "name": "python",
   "nbconvert_exporter": "python",
   "pygments_lexer": "ipython3",
   "version": "3.9.5"
  }
 },
 "nbformat": 4,
 "nbformat_minor": 5
}
